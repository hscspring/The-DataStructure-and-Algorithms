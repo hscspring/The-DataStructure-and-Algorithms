{
 "cells": [
  {
   "cell_type": "code",
   "execution_count": 10,
   "id": "66664934",
   "metadata": {},
   "outputs": [],
   "source": [
    "def pick(items) -> int:\n",
    "    tops = [0] * len(items)\n",
    "    count = 0\n",
    "    for i in range(len(items)):\n",
    "        curr = items[i]\n",
    "        left = 0\n",
    "        right = count\n",
    "        while left < right:\n",
    "            mid = (left + right) // 2\n",
    "            if tops[mid] > curr:\n",
    "                right = mid\n",
    "            elif tops[mid] < curr:\n",
    "                left = mid + 1\n",
    "            else:\n",
    "                right = mid\n",
    "        if left == count:\n",
    "            count += 1\n",
    "        tops[left] = curr\n",
    "        print(tops)\n",
    "    return count"
   ]
  },
  {
   "cell_type": "code",
   "execution_count": 11,
   "id": "97af8e02",
   "metadata": {},
   "outputs": [],
   "source": [
    "a = [10,9,2,5,3,7,101,18]"
   ]
  },
  {
   "cell_type": "code",
   "execution_count": 12,
   "id": "dedf43e0",
   "metadata": {},
   "outputs": [
    {
     "name": "stdout",
     "output_type": "stream",
     "text": [
      "[10, 0, 0, 0, 0, 0, 0, 0]\n",
      "[9, 0, 0, 0, 0, 0, 0, 0]\n",
      "[2, 0, 0, 0, 0, 0, 0, 0]\n",
      "[2, 5, 0, 0, 0, 0, 0, 0]\n",
      "[2, 3, 0, 0, 0, 0, 0, 0]\n",
      "[2, 3, 7, 0, 0, 0, 0, 0]\n",
      "[2, 3, 7, 101, 0, 0, 0, 0]\n",
      "[2, 3, 7, 18, 0, 0, 0, 0]\n"
     ]
    },
    {
     "data": {
      "text/plain": [
       "4"
      ]
     },
     "execution_count": 12,
     "metadata": {},
     "output_type": "execute_result"
    }
   ],
   "source": [
    "pick(a)"
   ]
  },
  {
   "cell_type": "code",
   "execution_count": 13,
   "id": "6fe4a2b4",
   "metadata": {},
   "outputs": [
    {
     "data": {
      "text/plain": [
       "1000000007.0"
      ]
     },
     "execution_count": 13,
     "metadata": {},
     "output_type": "execute_result"
    }
   ],
   "source": [
    "1e9+7"
   ]
  },
  {
   "cell_type": "code",
   "execution_count": null,
   "id": "df768748",
   "metadata": {},
   "outputs": [],
   "source": []
  }
 ],
 "metadata": {
  "kernelspec": {
   "display_name": "Python 3 (ipykernel)",
   "language": "python",
   "name": "python3"
  },
  "language_info": {
   "codemirror_mode": {
    "name": "ipython",
    "version": 3
   },
   "file_extension": ".py",
   "mimetype": "text/x-python",
   "name": "python",
   "nbconvert_exporter": "python",
   "pygments_lexer": "ipython3",
   "version": "3.9.13"
  },
  "toc": {
   "base_numbering": 1,
   "nav_menu": {},
   "number_sections": true,
   "sideBar": true,
   "skip_h1_title": false,
   "title_cell": "Table of Contents",
   "title_sidebar": "Contents",
   "toc_cell": false,
   "toc_position": {},
   "toc_section_display": true,
   "toc_window_display": false
  }
 },
 "nbformat": 4,
 "nbformat_minor": 5
}
