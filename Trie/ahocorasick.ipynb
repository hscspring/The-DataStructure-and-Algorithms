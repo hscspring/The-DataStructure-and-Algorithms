{
 "cells": [
  {
   "cell_type": "code",
   "execution_count": 87,
   "metadata": {},
   "outputs": [],
   "source": [
    "class Node:\n",
    "    def __init__(self):\n",
    "        self.next = {}\n",
    "        self.fail = None  # fail指针默认为None\n",
    "        self.length = -1\n",
    "\n",
    "\n",
    "class Ahocorasick:\n",
    "    def __init__(self):\n",
    "        self.root = Node()\n",
    "\n",
    "    def add_word(self, word):\n",
    "        current = self.root\n",
    "        for char in word:\n",
    "            current = current.next.setdefault(char, Node())\n",
    "        current.length = len(word)\n",
    "        print(current.length)\n",
    "\n",
    "    def make(self):\n",
    "        queue = list()\n",
    "        for key in self.root.next:\n",
    "            self.root.next[key].fail = self.root\n",
    "            queue.append(self.root.next[key])\n",
    "            print(key)\n",
    "            print(self.root.next[key])\n",
    "            print()\n",
    "\n",
    "        # 广度优先算法遍历设置fail指针\n",
    "        while queue:\n",
    "            # 基于当前节点的fail指针设置其子结点的fail指针\n",
    "            current = queue.pop(0)\n",
    "\n",
    "            for k in current.next:\n",
    "                print(current)\n",
    "                print(\"K:\", k)\n",
    "                current_fail = current.fail\n",
    "                print(\"CUrrent Fail: \", current_fail.next)\n",
    "\n",
    "                # 若当前节点有fail指针，尝试设置其子结点的fail指针\n",
    "                while current_fail is not None:\n",
    "                    print(\"HERE\")\n",
    "                    if k in current_fail.next:\n",
    "                        print(\"not here\")\n",
    "                        current.next[k].fail = current_fail.next[k]\n",
    "                        break\n",
    "                    current_fail = current_fail.fail\n",
    "\n",
    "                # 若当前节点的fail指针不存在该子结点，令子结点fail指向根节点\n",
    "                if current_fail is None:\n",
    "                    current.next[k].fail = self.root\n",
    "\n",
    "                queue.append(current.next[k])\n",
    "\n",
    "    def search(self, content, for_all=True):\n",
    "        result = []\n",
    "        p = self.root\n",
    "        for current_position in range(len(content)):\n",
    "            word = content[current_position]\n",
    "\n",
    "            while word not in p.next:\n",
    "                if p == self.root:\n",
    "                    break\n",
    "                p = p.fail\n",
    "            else:\n",
    "                p = p.next[word]\n",
    "                if not for_all:\n",
    "                    if p.length > 0:\n",
    "                        result.append((current_position - p.length + 1, current_position))\n",
    "                else:\n",
    "                    # 回溯查看是否存在以当前字符结尾的单词\n",
    "                    tmp = p\n",
    "                    while tmp != self.root:\n",
    "                        if tmp.length > 0:\n",
    "                            result.append(\n",
    "                                (current_position - tmp.length + 1, current_position))\n",
    "                        tmp = tmp.fail\n",
    "\n",
    "        return result"
   ]
  },
  {
   "cell_type": "code",
   "execution_count": 88,
   "metadata": {},
   "outputs": [
    {
     "name": "stdout",
     "output_type": "stream",
     "text": [
      "2\n",
      "1\n",
      "3\n",
      "2\n",
      "4\n",
      "百\n",
      "<__main__.Node object at 0x106ca03d0>\n",
      "\n",
      "家\n",
      "<__main__.Node object at 0x106ca0a90>\n",
      "\n",
      "高\n",
      "<__main__.Node object at 0x106ca0750>\n",
      "\n",
      "科\n",
      "<__main__.Node object at 0x106ca0b10>\n",
      "\n",
      "<__main__.Node object at 0x106ca03d0>\n",
      "K: 度\n",
      "CUrrent Fail:  {'百': <__main__.Node object at 0x106ca03d0>, '家': <__main__.Node object at 0x106ca0a90>, '高': <__main__.Node object at 0x106ca0750>, '科': <__main__.Node object at 0x106ca0b10>}\n",
      "HERE\n",
      "<__main__.Node object at 0x106ca0750>\n",
      "K: 科\n",
      "CUrrent Fail:  {'百': <__main__.Node object at 0x106ca03d0>, '家': <__main__.Node object at 0x106ca0a90>, '高': <__main__.Node object at 0x106ca0750>, '科': <__main__.Node object at 0x106ca0b10>}\n",
      "HERE\n",
      "not here\n",
      "<__main__.Node object at 0x106ca0b10>\n",
      "K: 技\n",
      "CUrrent Fail:  {'百': <__main__.Node object at 0x106ca03d0>, '家': <__main__.Node object at 0x106ca0a90>, '高': <__main__.Node object at 0x106ca0750>, '科': <__main__.Node object at 0x106ca0b10>}\n",
      "HERE\n",
      "<__main__.Node object at 0x106ca0390>\n",
      "K: 技\n",
      "CUrrent Fail:  {'技': <__main__.Node object at 0x106ca0350>}\n",
      "HERE\n",
      "not here\n",
      "<__main__.Node object at 0x106ca0350>\n",
      "K: 公\n",
      "CUrrent Fail:  {'百': <__main__.Node object at 0x106ca03d0>, '家': <__main__.Node object at 0x106ca0a90>, '高': <__main__.Node object at 0x106ca0750>, '科': <__main__.Node object at 0x106ca0b10>}\n",
      "HERE\n",
      "<__main__.Node object at 0x106ca0bd0>\n",
      "K: 司\n",
      "CUrrent Fail:  {'百': <__main__.Node object at 0x106ca03d0>, '家': <__main__.Node object at 0x106ca0a90>, '高': <__main__.Node object at 0x106ca0750>, '科': <__main__.Node object at 0x106ca0b10>}\n",
      "HERE\n",
      "all: 百度\n",
      "all: 家\n",
      "all: 高科技\n",
      "all: 科技\n",
      "all: 科技公司\n",
      "search: 百度\n",
      "search: 家\n",
      "search: 高科技\n",
      "search: 科技公司\n"
     ]
    }
   ],
   "source": [
    "ah = Ahocorasick()\n",
    "x = [\"百度\", \"家\", \"高科技\", \"科技\", \"科技公司\"]\n",
    "# x = [\"Samwise\", \"Sam\"]\n",
    "for i in x:\n",
    "    ah.add_word(i)\n",
    "ah.make()\n",
    "string = '百度是家高科技公司'\n",
    "# string = \"Samwise\"\n",
    "for begin, end in ah.search(string, for_all=True):\n",
    "    print('all:', string[begin:end + 1])\n",
    "\n",
    "for begin, end in ah.search(string, for_all=False):\n",
    "    print('search:', string[begin:end + 1])"
   ]
  },
  {
   "cell_type": "code",
   "execution_count": 66,
   "metadata": {},
   "outputs": [],
   "source": [
    "class Node:\n",
    "    def __init__(self, key: str = \"\"):\n",
    "        self.key = key\n",
    "        self.children = []\n",
    "        self.fail = None\n",
    "        self.length = -1"
   ]
  },
  {
   "cell_type": "code",
   "execution_count": 67,
   "metadata": {},
   "outputs": [],
   "source": [
    "class Aho:\n",
    "    \n",
    "    def __init__(self):\n",
    "        self.root = Node()\n",
    "    \n",
    "    def add_word(self, word: str):\n",
    "        pointer = self.root\n",
    "        for char in word:\n",
    "            node = Node(char)\n",
    "            if node not in pointer.children:\n",
    "                pointer.children.append(node)\n",
    "            pointer = node"
   ]
  },
  {
   "cell_type": "code",
   "execution_count": 68,
   "metadata": {},
   "outputs": [],
   "source": [
    "ah = Aho()\n",
    "x = [\"百度\", \"家\", \"高科技\", \"科技\", \"科技公司\"]\n",
    "for i in x:\n",
    "    ah.add_word(i)"
   ]
  },
  {
   "cell_type": "code",
   "execution_count": 79,
   "metadata": {},
   "outputs": [
    {
     "data": {
      "text/plain": [
       "'技'"
      ]
     },
     "execution_count": 79,
     "metadata": {},
     "output_type": "execute_result"
    }
   ],
   "source": [
    "ah.root.children[4].children[0].key"
   ]
  },
  {
   "cell_type": "code",
   "execution_count": null,
   "metadata": {},
   "outputs": [],
   "source": []
  },
  {
   "cell_type": "code",
   "execution_count": null,
   "metadata": {},
   "outputs": [],
   "source": []
  }
 ],
 "metadata": {
  "kernelspec": {
   "display_name": "Python 3",
   "language": "python",
   "name": "python3"
  },
  "language_info": {
   "codemirror_mode": {
    "name": "ipython",
    "version": 3
   },
   "file_extension": ".py",
   "mimetype": "text/x-python",
   "name": "python",
   "nbconvert_exporter": "python",
   "pygments_lexer": "ipython3",
   "version": "3.8.13"
  },
  "latex_envs": {
   "LaTeX_envs_menu_present": true,
   "autoclose": false,
   "autocomplete": true,
   "bibliofile": "biblio.bib",
   "cite_by": "apalike",
   "current_citInitial": 1,
   "eqLabelWithNumbers": true,
   "eqNumInitial": 1,
   "hotkeys": {
    "equation": "Ctrl-E",
    "itemize": "Ctrl-I"
   },
   "labels_anchors": false,
   "latex_user_defs": false,
   "report_style_numbering": false,
   "user_envs_cfg": false
  },
  "toc": {
   "base_numbering": 1,
   "nav_menu": {},
   "number_sections": true,
   "sideBar": true,
   "skip_h1_title": false,
   "title_cell": "Table of Contents",
   "title_sidebar": "Contents",
   "toc_cell": false,
   "toc_position": {},
   "toc_section_display": true,
   "toc_window_display": false
  }
 },
 "nbformat": 4,
 "nbformat_minor": 2
}
