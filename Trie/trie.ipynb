{
 "cells": [
  {
   "cell_type": "code",
   "execution_count": 1,
   "metadata": {},
   "outputs": [],
   "source": [
    "import sys"
   ]
  },
  {
   "cell_type": "code",
   "execution_count": 2,
   "metadata": {},
   "outputs": [],
   "source": [
    "words = \"banana bananas bandana band apple all beast\".split()\n",
    "words = [\"hi\", \"he\", \"ho\", \"his\"]"
   ]
  },
  {
   "cell_type": "markdown",
   "metadata": {},
   "source": [
    "## 实现"
   ]
  },
  {
   "cell_type": "markdown",
   "metadata": {},
   "source": [
    "- [Python/trie.py at master · TheAlgorithms/Python](https://github.com/TheAlgorithms/Python/blob/master/data_structures/trie/trie.py)"
   ]
  },
  {
   "cell_type": "code",
   "execution_count": 17,
   "metadata": {},
   "outputs": [],
   "source": [
    "class TrieNode:\n",
    "    def __init__(self):\n",
    "        self.nodes = {}\n",
    "        self.is_leaf = False\n",
    "    \n",
    "    def insert(self, word):\n",
    "        curr = self\n",
    "        for char in word:\n",
    "            if char not in curr.nodes:\n",
    "                curr.nodes[char] = TrieNode()\n",
    "            curr = curr.nodes[char]\n",
    "        curr.is_leaf = True\n",
    "    \n",
    "    def find(self, word):\n",
    "        curr = self\n",
    "        for char in word:\n",
    "            if char not in curr.nodes:\n",
    "                return False\n",
    "            curr = curr.nodes[char]\n",
    "        return curr.is_leaf\n",
    "    \n",
    "    def delete(self, word: str):\n",
    "        \"\"\"\n",
    "        Deletes a word in a Trie\n",
    "        :param word: word to delete\n",
    "        :return: None\n",
    "        \"\"\"\n",
    "\n",
    "        def _delete(curr: TrieNode, word: str, index: int):\n",
    "            if index == len(word):\n",
    "                # If word does not exist\n",
    "                if not curr.is_leaf:\n",
    "                    return False\n",
    "                curr.is_leaf = False\n",
    "                print(len(curr.nodes) == 0)\n",
    "                return len(curr.nodes) == 0\n",
    "            char = word[index]\n",
    "            char_node = curr.nodes.get(char)\n",
    "            # If char not in current trie node\n",
    "            if not char_node:\n",
    "                return False\n",
    "            # Flag to check if node can be deleted\n",
    "            delete_curr = _delete(char_node, word, index + 1)\n",
    "            if delete_curr:\n",
    "                del curr.nodes[char]\n",
    "                return len(curr.nodes) == 0\n",
    "            return delete_curr\n",
    "\n",
    "        _delete(self, word, 0)"
   ]
  },
  {
   "cell_type": "code",
   "execution_count": 18,
   "metadata": {},
   "outputs": [],
   "source": [
    "t1 = TrieNode()"
   ]
  },
  {
   "cell_type": "code",
   "execution_count": 19,
   "metadata": {},
   "outputs": [],
   "source": [
    "for word in words:\n",
    "    t1.insert(word)"
   ]
  },
  {
   "cell_type": "code",
   "execution_count": 20,
   "metadata": {},
   "outputs": [],
   "source": [
    "def print_words(node: TrieNode, word: str):\n",
    "    \"\"\"\n",
    "    Prints all the words in a Trie\n",
    "    :param node: root node of Trie\n",
    "    :param word: Word variable should be empty at start\n",
    "    :return: None\n",
    "    \"\"\"\n",
    "    if node.is_leaf:\n",
    "        print(word, end=\" \")\n",
    "\n",
    "    for key, value in node.nodes.items():\n",
    "        print_words(value, word + key)"
   ]
  },
  {
   "cell_type": "code",
   "execution_count": 7,
   "metadata": {
    "scrolled": true
   },
   "outputs": [
    {
     "name": "stdout",
     "output_type": "stream",
     "text": [
      "hi his he ho "
     ]
    }
   ],
   "source": [
    "print_words(t1, \"\")"
   ]
  },
  {
   "cell_type": "code",
   "execution_count": 8,
   "metadata": {},
   "outputs": [
    {
     "data": {
      "text/plain": [
       "True"
      ]
     },
     "execution_count": 8,
     "metadata": {},
     "output_type": "execute_result"
    }
   ],
   "source": [
    "t1.find(\"his\")"
   ]
  },
  {
   "cell_type": "code",
   "execution_count": 9,
   "metadata": {},
   "outputs": [
    {
     "name": "stdout",
     "output_type": "stream",
     "text": [
      "True\n"
     ]
    }
   ],
   "source": [
    "t1.delete(\"his\")"
   ]
  },
  {
   "cell_type": "code",
   "execution_count": 10,
   "metadata": {
    "scrolled": true
   },
   "outputs": [
    {
     "data": {
      "text/plain": [
       "False"
      ]
     },
     "execution_count": 10,
     "metadata": {},
     "output_type": "execute_result"
    }
   ],
   "source": [
    "t1.find(\"his\")"
   ]
  },
  {
   "cell_type": "code",
   "execution_count": 13,
   "metadata": {
    "scrolled": true
   },
   "outputs": [
    {
     "data": {
      "text/plain": [
       "False"
      ]
     },
     "execution_count": 13,
     "metadata": {},
     "output_type": "execute_result"
    }
   ],
   "source": [
    "t1.find(\"hi\")"
   ]
  },
  {
   "cell_type": "code",
   "execution_count": 23,
   "metadata": {},
   "outputs": [
    {
     "data": {
      "text/plain": [
       "True"
      ]
     },
     "execution_count": 23,
     "metadata": {},
     "output_type": "execute_result"
    }
   ],
   "source": [
    "t1.find(\"hi\")"
   ]
  },
  {
   "cell_type": "code",
   "execution_count": 12,
   "metadata": {},
   "outputs": [
    {
     "data": {
      "text/plain": [
       "{'e': <__main__.TrieNode at 0x104327880>,\n",
       " 'o': <__main__.TrieNode at 0x104327a30>}"
      ]
     },
     "execution_count": 12,
     "metadata": {},
     "output_type": "execute_result"
    }
   ],
   "source": [
    "t1.nodes['h'].nodes"
   ]
  },
  {
   "cell_type": "markdown",
   "metadata": {},
   "source": [
    "- [Getting Started With Tries in Python | TutorialEdge.net](https://tutorialedge.net/compsci/data-structures/getting-started-with-tries-in-python/)"
   ]
  },
  {
   "cell_type": "code",
   "execution_count": 38,
   "metadata": {},
   "outputs": [],
   "source": [
    "words = [\"hi\", \"he\", \"ho\", \"his\"]"
   ]
  },
  {
   "cell_type": "code",
   "execution_count": 39,
   "metadata": {},
   "outputs": [],
   "source": [
    "_end = '*'\n",
    "\n",
    "def make_trie(words):\n",
    "    trie = {}\n",
    "    for word in words:\n",
    "        temp_dict = trie\n",
    "        for letter in word:\n",
    "            temp_dict = temp_dict.setdefault(letter, {})\n",
    "        temp_dict[_end] = _end\n",
    "    return trie"
   ]
  },
  {
   "cell_type": "code",
   "execution_count": 40,
   "metadata": {},
   "outputs": [],
   "source": [
    "trie = make_trie(words)"
   ]
  },
  {
   "cell_type": "code",
   "execution_count": 41,
   "metadata": {},
   "outputs": [
    {
     "data": {
      "text/plain": [
       "{'h': {'i': {'*': '*', 's': {'*': '*'}}, 'e': {'*': '*'}, 'o': {'*': '*'}}}"
      ]
     },
     "execution_count": 41,
     "metadata": {},
     "output_type": "execute_result"
    }
   ],
   "source": [
    "trie"
   ]
  },
  {
   "cell_type": "code",
   "execution_count": 11,
   "metadata": {},
   "outputs": [],
   "source": [
    "def find_word(trie, word):\n",
    "    sub_trie = trie\n",
    "    for letter in word:\n",
    "        if letter in sub_trie:\n",
    "            sub_trie = sub_trie[letter]\n",
    "        else:\n",
    "            return False\n",
    "    else:\n",
    "        if _end in sub_trie:\n",
    "            return True\n",
    "        else:\n",
    "            return False"
   ]
  },
  {
   "cell_type": "code",
   "execution_count": 12,
   "metadata": {},
   "outputs": [
    {
     "data": {
      "text/plain": [
       "False"
      ]
     },
     "execution_count": 12,
     "metadata": {},
     "output_type": "execute_result"
    }
   ],
   "source": [
    "find_word(trie, \"hx\")"
   ]
  },
  {
   "cell_type": "code",
   "execution_count": 13,
   "metadata": {},
   "outputs": [],
   "source": [
    "def add_word(trie, word):\n",
    "    if find_word(trie, word):\n",
    "        print(\"Word Already Exists\")\n",
    "        return trie\n",
    "    temp_trie = trie\n",
    "    for letter in word:\n",
    "        if letter in temp_trie:\n",
    "            temp_trie = temp_trie[letter]\n",
    "        else:\n",
    "            temp_trie = temp_trie.setdefault(letter, {})\n",
    "    temp_trie[_end] = _end\n",
    "    return temp_trie"
   ]
  },
  {
   "cell_type": "code",
   "execution_count": 14,
   "metadata": {},
   "outputs": [
    {
     "data": {
      "text/plain": [
       "{'*': '*'}"
      ]
     },
     "execution_count": 14,
     "metadata": {},
     "output_type": "execute_result"
    }
   ],
   "source": [
    "add_word(trie, \"yam\")"
   ]
  },
  {
   "cell_type": "code",
   "execution_count": 20,
   "metadata": {},
   "outputs": [],
   "source": [
    "class Trie():\n",
    "\n",
    "    def __init__(self):\n",
    "        self._end = '*'\n",
    "        self.trie = {}\n",
    "\n",
    "    def __repr__(self):\n",
    "        return repr(self.trie)\n",
    "\n",
    "    def make_trie(self, words):\n",
    "        trie = {}\n",
    "        for word in words:\n",
    "            temp_dict = trie\n",
    "            for letter in word:\n",
    "                temp_dict = temp_dict.setdefault(letter, {})\n",
    "            temp_dict[self._end] = self._end\n",
    "        return trie\n",
    "\n",
    "    def find_word(self, word):\n",
    "        sub_trie = self.trie\n",
    "        for letter in word:\n",
    "            if letter in sub_trie:\n",
    "                sub_trie = sub_trie[letter]\n",
    "            else:\n",
    "                return False\n",
    "        else:\n",
    "            if self._end in sub_trie:\n",
    "                return True\n",
    "            else:\n",
    "                return False\n",
    "\n",
    "    def ss(self, word):\n",
    "        if self.find_word(word):\n",
    "            print(\"Word Already Exists\")\n",
    "            return self.trie\n",
    "\n",
    "        temp_trie = self.trie\n",
    "        for letter in word:\n",
    "            if letter in temp_trie:\n",
    "                temp_trie = temp_trie[letter]\n",
    "            else:\n",
    "                temp_trie = temp_trie.setdefault(letter, {})\n",
    "        temp_trie[self._end] = self._end\n",
    "        return temp_trie"
   ]
  },
  {
   "cell_type": "code",
   "execution_count": 21,
   "metadata": {},
   "outputs": [],
   "source": [
    "t2 = Trie()"
   ]
  },
  {
   "cell_type": "code",
   "execution_count": 22,
   "metadata": {},
   "outputs": [],
   "source": [
    "for w in words:\n",
    "    t2.add_word(w)"
   ]
  },
  {
   "cell_type": "code",
   "execution_count": 23,
   "metadata": {},
   "outputs": [
    {
     "data": {
      "text/plain": [
       "{'h': {'i': {'*': '*', 's': {'*': '*'}}, 'e': {'*': '*'}, 'o': {'*': '*'}}}"
      ]
     },
     "execution_count": 23,
     "metadata": {},
     "output_type": "execute_result"
    }
   ],
   "source": [
    "t2"
   ]
  },
  {
   "cell_type": "code",
   "execution_count": 35,
   "metadata": {
    "scrolled": true
   },
   "outputs": [
    {
     "data": {
      "text/plain": [
       "{'h': {'i': {'*': '*', 's': {'*': '*'}}, 'e': {'*': '*'}, 'o': {'*': '*'}}}"
      ]
     },
     "execution_count": 35,
     "metadata": {},
     "output_type": "execute_result"
    }
   ],
   "source": [
    "my_trie.make_trie(words)"
   ]
  },
  {
   "cell_type": "markdown",
   "metadata": {},
   "source": [
    "- [Trie | (Insert and Search) - GeeksforGeeks](https://www.geeksforgeeks.org/trie-insert-and-search/)"
   ]
  },
  {
   "cell_type": "code",
   "execution_count": 24,
   "metadata": {},
   "outputs": [],
   "source": [
    "class TrieNode: \n",
    "    def __init__(self):\n",
    "        self.children = [None]*26\n",
    "        self.isEndOfWord = False\n",
    "        \n",
    "class Trie:\n",
    "    def __init__(self):\n",
    "        self.root = self.getNode()\n",
    "    def getNode(self):\n",
    "        return TrieNode()\n",
    "    def _charToIndex(self,ch):\n",
    "        return ord(ch)-ord('a')\n",
    "    def insert(self,key):\n",
    "        pCrawl = self.root\n",
    "        length = len(key)\n",
    "        for level in range(length):\n",
    "            index = self._charToIndex(key[level])\n",
    "            if not pCrawl.children[index]:\n",
    "                pCrawl.children[index] = self.getNode()\n",
    "            pCrawl = pCrawl.children[index]\n",
    "        pCrawl.isEndOfWord = True\n",
    "    def search(self, key):\n",
    "        pCrawl = self.root\n",
    "        length = len(key)\n",
    "        for level in range(length):\n",
    "            index = self._charToIndex(key[level])\n",
    "            if not pCrawl.children[index]:\n",
    "                return False\n",
    "            pCrawl = pCrawl.children[index]\n",
    "        return pCrawl != None and pCrawl.isEndOfWord"
   ]
  },
  {
   "cell_type": "code",
   "execution_count": 25,
   "metadata": {},
   "outputs": [],
   "source": [
    "t3 = Trie()"
   ]
  },
  {
   "cell_type": "code",
   "execution_count": 26,
   "metadata": {},
   "outputs": [],
   "source": [
    "for w in words:\n",
    "    t3.insert(w)"
   ]
  },
  {
   "cell_type": "code",
   "execution_count": 27,
   "metadata": {
    "scrolled": false
   },
   "outputs": [
    {
     "data": {
      "text/plain": [
       "[None,\n",
       " None,\n",
       " None,\n",
       " None,\n",
       " <__main__.TrieNode at 0x1199a9f90>,\n",
       " None,\n",
       " None,\n",
       " None,\n",
       " <__main__.TrieNode at 0x1199a9750>,\n",
       " None,\n",
       " None,\n",
       " None,\n",
       " None,\n",
       " None,\n",
       " <__main__.TrieNode at 0x1199b9090>,\n",
       " None,\n",
       " None,\n",
       " None,\n",
       " None,\n",
       " None,\n",
       " None,\n",
       " None,\n",
       " None,\n",
       " None,\n",
       " None,\n",
       " None]"
      ]
     },
     "execution_count": 27,
     "metadata": {},
     "output_type": "execute_result"
    }
   ],
   "source": [
    "t3.root.children[7].children"
   ]
  },
  {
   "cell_type": "markdown",
   "metadata": {},
   "source": [
    "- [algorithms/algorithms/tree/trie at master · keon/algorithms](https://github.com/keon/algorithms/tree/master/algorithms/tree/trie)"
   ]
  },
  {
   "cell_type": "code",
   "execution_count": 1,
   "metadata": {},
   "outputs": [],
   "source": [
    "import collections\n",
    "\n",
    "\n",
    "class TrieNode:\n",
    "    def __init__(self):\n",
    "        self.children = collections.defaultdict(TrieNode)\n",
    "        self.is_word = False\n",
    "\n",
    "\n",
    "class Trie:\n",
    "    def __init__(self):\n",
    "        self.root = TrieNode()\n",
    "\n",
    "    def insert(self, word):\n",
    "        current = self.root\n",
    "        for letter in word:\n",
    "            current = current.children[letter]\n",
    "        current.is_word = True\n",
    "\n",
    "    def search(self, word):\n",
    "        current = self.root\n",
    "        for letter in word:\n",
    "            current = current.children.get(letter)\n",
    "            if current is None:\n",
    "                return False\n",
    "        return current.is_word\n",
    "\n",
    "    def starts_with(self, prefix):\n",
    "        current = self.root\n",
    "        for letter in prefix:\n",
    "            current = current.children.get(letter)\n",
    "            if current is None:\n",
    "                return False\n",
    "        return True"
   ]
  },
  {
   "cell_type": "code",
   "execution_count": 28,
   "metadata": {},
   "outputs": [],
   "source": [
    "t4 = Trie()"
   ]
  },
  {
   "cell_type": "code",
   "execution_count": 29,
   "metadata": {},
   "outputs": [],
   "source": [
    "for w in words:\n",
    "    t4.insert(w)"
   ]
  },
  {
   "cell_type": "code",
   "execution_count": 30,
   "metadata": {},
   "outputs": [
    {
     "data": {
      "text/plain": [
       "defaultdict(__main__.TrieNode, {'h': <__main__.TrieNode at 0x1121f7450>})"
      ]
     },
     "execution_count": 30,
     "metadata": {},
     "output_type": "execute_result"
    }
   ],
   "source": [
    "trie.root.children"
   ]
  },
  {
   "cell_type": "markdown",
   "metadata": {},
   "source": [
    "## 内存对比"
   ]
  },
  {
   "cell_type": "code",
   "execution_count": 10,
   "metadata": {},
   "outputs": [],
   "source": [
    "from pympler import muppy, summary, asizeof"
   ]
  },
  {
   "cell_type": "code",
   "execution_count": 39,
   "metadata": {
    "scrolled": true
   },
   "outputs": [
    {
     "name": "stdout",
     "output_type": "stream",
     "text": [
      "t 1:  3040\n",
      "t 2:  2120\n",
      "t 3:  3224\n",
      "t 4:  3224\n"
     ]
    }
   ],
   "source": [
    "for i,t in enumerate([t1, t2, t3, t4]):\n",
    "    print(\"t %d: \" % (i+1), asizeof.asizeof(t))"
   ]
  },
  {
   "cell_type": "code",
   "execution_count": null,
   "metadata": {},
   "outputs": [],
   "source": []
  },
  {
   "cell_type": "code",
   "execution_count": null,
   "metadata": {},
   "outputs": [],
   "source": []
  }
 ],
 "metadata": {
  "kernelspec": {
   "display_name": "Python 3",
   "language": "python",
   "name": "python3"
  },
  "language_info": {
   "codemirror_mode": {
    "name": "ipython",
    "version": 3
   },
   "file_extension": ".py",
   "mimetype": "text/x-python",
   "name": "python",
   "nbconvert_exporter": "python",
   "pygments_lexer": "ipython3",
   "version": "3.8.13"
  },
  "latex_envs": {
   "LaTeX_envs_menu_present": true,
   "autoclose": false,
   "autocomplete": true,
   "bibliofile": "biblio.bib",
   "cite_by": "apalike",
   "current_citInitial": 1,
   "eqLabelWithNumbers": true,
   "eqNumInitial": 1,
   "hotkeys": {
    "equation": "Ctrl-E",
    "itemize": "Ctrl-I"
   },
   "labels_anchors": false,
   "latex_user_defs": false,
   "report_style_numbering": false,
   "user_envs_cfg": false
  },
  "toc": {
   "base_numbering": 1,
   "nav_menu": {},
   "number_sections": true,
   "sideBar": true,
   "skip_h1_title": false,
   "title_cell": "Table of Contents",
   "title_sidebar": "Contents",
   "toc_cell": false,
   "toc_position": {
    "height": "calc(100% - 180px)",
    "left": "10px",
    "top": "150px",
    "width": "165px"
   },
   "toc_section_display": true,
   "toc_window_display": true
  }
 },
 "nbformat": 4,
 "nbformat_minor": 2
}
