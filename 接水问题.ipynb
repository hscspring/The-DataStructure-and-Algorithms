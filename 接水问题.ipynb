{
 "cells": [
  {
   "cell_type": "code",
   "execution_count": 5,
   "id": "372de53a",
   "metadata": {},
   "outputs": [],
   "source": [
    "def maxWater( arr):\n",
    "        lms = []\n",
    "        lm = arr[0]\n",
    "        for v in arr:\n",
    "            lm = max(v, lm)\n",
    "            lms.append(lm)\n",
    "        res = 0\n",
    "        print(lms)\n",
    "        rm = arr[-1]\n",
    "        for i in range(len(arr)-1, -1, -1):\n",
    "            print(i)\n",
    "            rm = max(arr[i], rm)\n",
    "            sm = min(rm, lms[i])\n",
    "            res += sm - arr[i]\n",
    "        return res"
   ]
  },
  {
   "cell_type": "code",
   "execution_count": 6,
   "id": "20a8f72b",
   "metadata": {},
   "outputs": [],
   "source": [
    "arr = [3,1,2,5,2,4]  "
   ]
  },
  {
   "cell_type": "code",
   "execution_count": 7,
   "id": "fcdc017e",
   "metadata": {},
   "outputs": [
    {
     "name": "stdout",
     "output_type": "stream",
     "text": [
      "[3, 3, 3, 5, 5, 5]\n",
      "5\n",
      "4\n",
      "3\n",
      "2\n",
      "1\n",
      "0\n"
     ]
    },
    {
     "data": {
      "text/plain": [
       "5"
      ]
     },
     "execution_count": 7,
     "metadata": {},
     "output_type": "execute_result"
    }
   ],
   "source": [
    "maxWater(arr)"
   ]
  },
  {
   "cell_type": "code",
   "execution_count": null,
   "id": "b57d6fdf",
   "metadata": {},
   "outputs": [],
   "source": []
  }
 ],
 "metadata": {
  "kernelspec": {
   "display_name": "Python 3 (ipykernel)",
   "language": "python",
   "name": "python3"
  },
  "language_info": {
   "codemirror_mode": {
    "name": "ipython",
    "version": 3
   },
   "file_extension": ".py",
   "mimetype": "text/x-python",
   "name": "python",
   "nbconvert_exporter": "python",
   "pygments_lexer": "ipython3",
   "version": "3.9.13"
  },
  "toc": {
   "base_numbering": 1,
   "nav_menu": {},
   "number_sections": true,
   "sideBar": true,
   "skip_h1_title": false,
   "title_cell": "Table of Contents",
   "title_sidebar": "Contents",
   "toc_cell": false,
   "toc_position": {},
   "toc_section_display": true,
   "toc_window_display": false
  }
 },
 "nbformat": 4,
 "nbformat_minor": 5
}
