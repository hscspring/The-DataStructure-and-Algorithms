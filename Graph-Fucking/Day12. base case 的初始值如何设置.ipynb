{
 "cells": [
  {
   "cell_type": "markdown",
   "id": "012a4eb5",
   "metadata": {},
   "source": [
    "[base case 和备忘录的初始值怎么定？ :: labuladong 的算法小抄](https://labuladong.github.io/algo/3/25/72/)"
   ]
  },
  {
   "cell_type": "code",
   "execution_count": 1,
   "id": "88944634",
   "metadata": {},
   "outputs": [],
   "source": [
    "from typing import List"
   ]
  },
  {
   "cell_type": "markdown",
   "id": "e92fdad6",
   "metadata": {},
   "source": [
    "## 下降路径最小和"
   ]
  },
  {
   "cell_type": "markdown",
   "id": "2e297a01",
   "metadata": {},
   "source": [
    "给你一个 n x n 的 方形 整数数组 matrix ，请你找出并返回通过 matrix 的下降路径 的 最小和 。\n",
    "\n",
    "下降路径 可以从第一行中的任何元素开始，并从每一行中选择一个元素。在下一行选择的元素和当前行所选元素最多相隔一列（即位于正下方或者沿对角线向左或者向右的第一个元素）。具体来说，位置 (row, col) 的下一个元素应当是 (row + 1, col - 1)、(row + 1, col) 或者 (row + 1, col + 1) 。\n",
    "\n",
    "\n",
    "\n",
    "来源：力扣（LeetCode）\n",
    "\n",
    "链接：https://leetcode.cn/problems/minimum-falling-path-sum\n"
   ]
  },
  {
   "cell_type": "code",
   "execution_count": 88,
   "id": "4d53f140",
   "metadata": {
    "code_folding": []
   },
   "outputs": [],
   "source": [
    "class Solution:\n",
    "    def minFallingPathSum(self, matrix: List[List[int]]) -> int:\n",
    "        rows, cols = len(matrix), len(matrix[0])\n",
    "        dp = [[9999] * cols for i in range(rows)]\n",
    "        for i in range(rows):\n",
    "            for j in range(cols):\n",
    "                if i == 0:\n",
    "                    min_v = 0\n",
    "                elif j == 0:\n",
    "                    min_v = min(dp[i-1][j], dp[i-1][j+1])\n",
    "                elif j == cols - 1:\n",
    "                    min_v = min(dp[i-1][j-1], dp[i-1][j])\n",
    "                else:\n",
    "                    min_v = min(dp[i-1][j-1], dp[i-1][j], dp[i-1][j+1])\n",
    "                \n",
    "                dp[i][j] = matrix[i][j] + min_v\n",
    "        return min([dp[rows-1][i] for i in range(cols)])"
   ]
  },
  {
   "cell_type": "code",
   "execution_count": 89,
   "id": "391eb040",
   "metadata": {},
   "outputs": [],
   "source": [
    "so = Solution()"
   ]
  },
  {
   "cell_type": "code",
   "execution_count": 90,
   "id": "ce0affd0",
   "metadata": {},
   "outputs": [],
   "source": [
    "matrix = [[2,1,3],[6,5,4],[7,8,9]]"
   ]
  },
  {
   "cell_type": "code",
   "execution_count": 91,
   "id": "477e1b55",
   "metadata": {},
   "outputs": [
    {
     "data": {
      "text/plain": [
       "13"
      ]
     },
     "execution_count": 91,
     "metadata": {},
     "output_type": "execute_result"
    }
   ],
   "source": [
    "so.minFallingPathSum(matrix)"
   ]
  },
  {
   "cell_type": "code",
   "execution_count": 108,
   "id": "5c408a0c",
   "metadata": {},
   "outputs": [],
   "source": [
    "class Solution:\n",
    "    def minFallingPathSum(self, matrix: List[List[int]]) -> int:\n",
    "        res = 99999\n",
    "        rows, cols = len(matrix), len(matrix[0])\n",
    "        memo = [[66666] * cols for i in range(rows)]\n",
    "        def func(i, j):\n",
    "            # 边界\n",
    "            if i < 0 or j < 0 or i >= rows or j >= cols:\n",
    "                return 99999\n",
    "            # base\n",
    "            if i == 0:\n",
    "                return matrix[i][j]\n",
    "            # 备忘录\n",
    "            if memo[i][j] != 66666:\n",
    "                return memo[i][j]\n",
    "            memo[i][j] = matrix[i][j] + min(func(i-1, j), func(i-1, j-1), func(i-1, j+1))\n",
    "            return memo[i][j]\n",
    "        \n",
    "        # 结果可能在最后一行任意一列，不然我们只返回右下角就可以了\n",
    "        for j in range(cols):\n",
    "            res = min(res, func(rows-1, j))\n",
    "        return res"
   ]
  },
  {
   "cell_type": "code",
   "execution_count": 109,
   "id": "afaa9f0c",
   "metadata": {},
   "outputs": [],
   "source": [
    "so = Solution()"
   ]
  },
  {
   "cell_type": "code",
   "execution_count": 110,
   "id": "4ed8180e",
   "metadata": {
    "scrolled": true
   },
   "outputs": [
    {
     "data": {
      "text/plain": [
       "13"
      ]
     },
     "execution_count": 110,
     "metadata": {},
     "output_type": "execute_result"
    }
   ],
   "source": [
    "so.minFallingPathSum(matrix)"
   ]
  },
  {
   "cell_type": "code",
   "execution_count": null,
   "id": "f95b729a",
   "metadata": {},
   "outputs": [],
   "source": []
  },
  {
   "cell_type": "code",
   "execution_count": null,
   "id": "e125d046",
   "metadata": {},
   "outputs": [],
   "source": []
  },
  {
   "cell_type": "code",
   "execution_count": null,
   "id": "c36a4c74",
   "metadata": {},
   "outputs": [],
   "source": []
  },
  {
   "cell_type": "code",
   "execution_count": null,
   "id": "ce464247",
   "metadata": {},
   "outputs": [],
   "source": []
  },
  {
   "cell_type": "code",
   "execution_count": null,
   "id": "4195bc93",
   "metadata": {},
   "outputs": [],
   "source": []
  }
 ],
 "metadata": {
  "kernelspec": {
   "display_name": "Python 3",
   "language": "python",
   "name": "python3"
  },
  "language_info": {
   "codemirror_mode": {
    "name": "ipython",
    "version": 3
   },
   "file_extension": ".py",
   "mimetype": "text/x-python",
   "name": "python",
   "nbconvert_exporter": "python",
   "pygments_lexer": "ipython3",
   "version": "3.8.13"
  },
  "latex_envs": {
   "LaTeX_envs_menu_present": true,
   "autoclose": false,
   "autocomplete": true,
   "bibliofile": "biblio.bib",
   "cite_by": "apalike",
   "current_citInitial": 1,
   "eqLabelWithNumbers": true,
   "eqNumInitial": 1,
   "hotkeys": {
    "equation": "Ctrl-E",
    "itemize": "Ctrl-I"
   },
   "labels_anchors": false,
   "latex_user_defs": false,
   "report_style_numbering": false,
   "user_envs_cfg": false
  },
  "toc": {
   "base_numbering": 1,
   "nav_menu": {},
   "number_sections": true,
   "sideBar": true,
   "skip_h1_title": false,
   "title_cell": "Table of Contents",
   "title_sidebar": "Contents",
   "toc_cell": false,
   "toc_position": {},
   "toc_section_display": true,
   "toc_window_display": false
  }
 },
 "nbformat": 4,
 "nbformat_minor": 5
}
