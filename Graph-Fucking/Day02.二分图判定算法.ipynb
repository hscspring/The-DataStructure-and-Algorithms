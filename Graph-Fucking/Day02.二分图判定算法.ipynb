{
 "cells": [
  {
   "cell_type": "markdown",
   "id": "b94706f1",
   "metadata": {},
   "source": [
    "[二分图判定算法 :: labuladong 的算法小抄](https://labuladong.github.io/algo/2/22/52/)"
   ]
  },
  {
   "cell_type": "markdown",
   "id": "bd5bbc09",
   "metadata": {},
   "source": [
    "存在一个 无向图 ，图中有 n 个节点。其中每个节点都有一个介于 0 到 n - 1 之间的唯一编号。给你一个二维数组 graph ，其中 graph[u] 是一个节点数组，由节点 u 的邻接节点组成。形式上，对于 graph[u] 中的每个 v ，都存在一条位于节点 u 和节点 v 之间的无向边。该无向图同时具有以下属性：\n",
    "不存在自环（graph[u] 不包含 u）。\n",
    "不存在平行边（graph[u] 不包含重复值）。\n",
    "如果 v 在 graph[u] 内，那么 u 也应该在 graph[v] 内（该图是无向图）\n",
    "这个图可能不是连通图，也就是说两个节点 u 和 v 之间可能不存在一条连通彼此的路径。\n",
    "二分图 定义：如果能将一个图的节点集合分割成两个独立的子集 A 和 B ，并使图中的每一条边的两个节点一个来自 A 集合，一个来自 B 集合，就将这个图称为 二分图 。\n",
    "\n",
    "如果图是二分图，返回 true ；否则，返回 false 。\n",
    "\n",
    "来源：力扣（LeetCode）\n",
    "\n",
    "链接：https://leetcode.cn/problems/is-graph-bipartite"
   ]
  },
  {
   "cell_type": "code",
   "execution_count": 148,
   "id": "24aa6f01",
   "metadata": {},
   "outputs": [],
   "source": [
    "from typing import List"
   ]
  },
  {
   "cell_type": "code",
   "execution_count": 149,
   "id": "731f9d38",
   "metadata": {},
   "outputs": [],
   "source": [
    "class Solution:\n",
    "    \n",
    "    def isBipartite(self, graph: List[List[int]]) -> bool:\n",
    "        self.res = True\n",
    "        length = len(graph)\n",
    "        visited = [False] * length\n",
    "        color = [False] * length\n",
    "\n",
    "        def traverse(graph, v):\n",
    "            if not self.res:\n",
    "                return\n",
    "            visited[v] = True\n",
    "            for nv in graph[v]:\n",
    "                if not visited[nv]:\n",
    "                    color[nv] = not color[v]\n",
    "                    traverse(graph, nv)\n",
    "                else:\n",
    "                    if color[nv] == color[v]:\n",
    "                        self.res = False\n",
    "\n",
    "        for v in range(length):\n",
    "            if not visited[v]:\n",
    "                traverse(graph, v)\n",
    "                if not self.res:\n",
    "                    return False\n",
    "        return True"
   ]
  },
  {
   "cell_type": "code",
   "execution_count": 150,
   "id": "fbb870e6",
   "metadata": {},
   "outputs": [],
   "source": [
    "so = Solution()"
   ]
  },
  {
   "cell_type": "code",
   "execution_count": 153,
   "id": "fe886b8c",
   "metadata": {},
   "outputs": [],
   "source": [
    "g1 = [[1,2],[0,2],[0,1]]\n",
    "g2 = [[1,3],[0,2],[1,3],[0,2]]"
   ]
  },
  {
   "cell_type": "code",
   "execution_count": 154,
   "id": "2876c8ce",
   "metadata": {},
   "outputs": [
    {
     "name": "stdout",
     "output_type": "stream",
     "text": [
      "False\n",
      "True\n"
     ]
    }
   ],
   "source": [
    "for g in [g1, g2]:\n",
    "    res = so.isBipartite(g)\n",
    "    print(res)"
   ]
  },
  {
   "cell_type": "code",
   "execution_count": null,
   "id": "e69f357d",
   "metadata": {},
   "outputs": [],
   "source": []
  }
 ],
 "metadata": {
  "kernelspec": {
   "display_name": "Python 3",
   "language": "python",
   "name": "python3"
  },
  "language_info": {
   "codemirror_mode": {
    "name": "ipython",
    "version": 3
   },
   "file_extension": ".py",
   "mimetype": "text/x-python",
   "name": "python",
   "nbconvert_exporter": "python",
   "pygments_lexer": "ipython3",
   "version": "3.8.13"
  },
  "latex_envs": {
   "LaTeX_envs_menu_present": true,
   "autoclose": false,
   "autocomplete": true,
   "bibliofile": "biblio.bib",
   "cite_by": "apalike",
   "current_citInitial": 1,
   "eqLabelWithNumbers": true,
   "eqNumInitial": 1,
   "hotkeys": {
    "equation": "Ctrl-E",
    "itemize": "Ctrl-I"
   },
   "labels_anchors": false,
   "latex_user_defs": false,
   "report_style_numbering": false,
   "user_envs_cfg": false
  },
  "toc": {
   "base_numbering": 1,
   "nav_menu": {},
   "number_sections": true,
   "sideBar": true,
   "skip_h1_title": false,
   "title_cell": "Table of Contents",
   "title_sidebar": "Contents",
   "toc_cell": false,
   "toc_position": {},
   "toc_section_display": true,
   "toc_window_display": false
  }
 },
 "nbformat": 4,
 "nbformat_minor": 5
}
