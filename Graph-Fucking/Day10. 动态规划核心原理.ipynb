{
 "cells": [
  {
   "cell_type": "markdown",
   "id": "372d1e72",
   "metadata": {},
   "source": [
    "[动态规划解题套路框架 :: labuladong 的算法小抄](https://labuladong.github.io/algo/3/25/69/)\n",
    "\n",
    "首先，动态规划问题的一般形式就是求最值。求解动态规划的核心问题是穷举。\n",
    "\n",
    "只有列出正确的「状态转移方程」，才能正确地穷举。而且，你需要判断算法问题是否具备「最优子结构」，是否能够通过子问题的最值得到原问题的最值。另外，动态规划问题存在「重叠子问题」，如果暴力穷举的话效率会很低，所以需要你使用「备忘录」或者「DP table」来优化穷举过程，避免不必要的计算。以上提到的重叠子问题、最优子结构、状态转移方程就是动态规划三要素。\n",
    "\n",
    "明确 base case -> 明确「状态」-> 明确「选择」 -> 定义 dp 数组 / 函数的含义。\n",
    "\n",
    "动态规划问题最困难的就是写出这个暴力解，即状态转移方程。只要写出暴力解，优化方法无非是用备忘录或者 DP table，再无奥妙可言。\n",
    "\n",
    "如果我们发现每次状态转移只需要 DP table 中的一部分，那么可以尝试缩小 DP table 的大小，只记录必要的数据，从而降低空间复杂度。\n",
    "\n",
    "要符合「最优子结构」，子问题间必须互相独立。"
   ]
  },
  {
   "cell_type": "code",
   "execution_count": 16,
   "id": "b1d30a14",
   "metadata": {},
   "outputs": [],
   "source": [
    "from typing import List"
   ]
  },
  {
   "cell_type": "markdown",
   "id": "6381e331",
   "metadata": {},
   "source": [
    "## 斐波那契数列"
   ]
  },
  {
   "cell_type": "markdown",
   "id": "b8836cb4",
   "metadata": {},
   "source": [
    "斐波那契数 （通常用 F(n) 表示）形成的序列称为 斐波那契数列 。该数列由 0 和 1 开始，后面的每一项数字都是前面两项数字的和。也就是：\n",
    "\n",
    "\n",
    "F(0) = 0，F(1) = 1\n",
    "\n",
    "F(n) = F(n - 1) + F(n - 2)，其中 n > 1\n",
    "\n",
    "给定 n ，请计算 F(n) 。\n",
    "\n",
    "来源：力扣（LeetCode）\n",
    "\n",
    "链接：https://leetcode.cn/problems/fibonacci-number\n"
   ]
  },
  {
   "cell_type": "code",
   "execution_count": 9,
   "id": "70d26292",
   "metadata": {},
   "outputs": [],
   "source": [
    "class Solution:\n",
    "    def fib(self, n: int) -> int:\n",
    "        if n < 2:\n",
    "            return n\n",
    "        f0, f1 = 0, 1\n",
    "        for i in range(2, n+1):\n",
    "            f = f0 + f1\n",
    "            f0 = f1\n",
    "            f1 = f\n",
    "        return f1"
   ]
  },
  {
   "cell_type": "code",
   "execution_count": 10,
   "id": "f0cda8d0",
   "metadata": {},
   "outputs": [],
   "source": [
    "so = Solution()"
   ]
  },
  {
   "cell_type": "code",
   "execution_count": 14,
   "id": "cb8ade95",
   "metadata": {},
   "outputs": [
    {
     "data": {
      "text/plain": [
       "3"
      ]
     },
     "execution_count": 14,
     "metadata": {},
     "output_type": "execute_result"
    }
   ],
   "source": [
    "so.fib(4)"
   ]
  },
  {
   "cell_type": "markdown",
   "id": "cb23e80f",
   "metadata": {},
   "source": [
    "## 凑硬币"
   ]
  },
  {
   "cell_type": "markdown",
   "id": "7e1184a3",
   "metadata": {},
   "source": [
    "给你一个整数数组 coins ，表示不同面额的硬币；以及一个整数 amount ，表示总金额。\n",
    "\n",
    "计算并返回可以凑成总金额所需的 最少的硬币个数 。如果没有任何一种硬币组合能组成总金额，返回 -1 。\n",
    "\n",
    "你可以认为每种硬币的数量是无限的。\n",
    "\n",
    "\n",
    "\n",
    "来源：力扣（LeetCode）\n",
    "\n",
    "链接：https://leetcode.cn/problems/coin-change"
   ]
  },
  {
   "cell_type": "code",
   "execution_count": 25,
   "id": "1b661f6d",
   "metadata": {},
   "outputs": [],
   "source": [
    "class Solution:\n",
    "    def coinChange(self, coins: List[int], amount: int) -> int:\n",
    "        def dp(coins, amount):\n",
    "            res = 1e5\n",
    "            if amount < 0: return -1\n",
    "            if amount == 0: return 0\n",
    "            for c in coins:\n",
    "                sub = dp(coins, amount - c)\n",
    "                if sub == -1:\n",
    "                    continue\n",
    "                res = min(res, sub + 1)\n",
    "            return -1 if res == 1e5 else res\n",
    "        return dp(coins, amount)"
   ]
  },
  {
   "cell_type": "code",
   "execution_count": 26,
   "id": "46980ddf",
   "metadata": {},
   "outputs": [],
   "source": [
    "so = Solution()"
   ]
  },
  {
   "cell_type": "code",
   "execution_count": 27,
   "id": "b8531f28",
   "metadata": {},
   "outputs": [],
   "source": [
    "coins = [1, 2, 5]\n",
    "amount = 11"
   ]
  },
  {
   "cell_type": "code",
   "execution_count": 28,
   "id": "505adb2d",
   "metadata": {},
   "outputs": [
    {
     "data": {
      "text/plain": [
       "3"
      ]
     },
     "execution_count": 28,
     "metadata": {},
     "output_type": "execute_result"
    }
   ],
   "source": [
    "so.coinChange(coins, amount)"
   ]
  },
  {
   "cell_type": "code",
   "execution_count": 69,
   "id": "be32ec80",
   "metadata": {},
   "outputs": [],
   "source": [
    "class Solution:\n",
    "    def coinChange(self, coins: List[int], amount: int) -> int:\n",
    "        memo = [-666] * (amount + 1)\n",
    "        def dp(coins, amount):\n",
    "            if amount < 0: return -1\n",
    "            if amount == 0: return 0\n",
    "            \n",
    "            if memo[amount] != -666:\n",
    "                return memo[amount]\n",
    "            res = 1e5\n",
    "            for c in coins:\n",
    "                sub = dp(coins, amount - c)\n",
    "                if sub == -1:\n",
    "                    continue\n",
    "                res = min(res, sub + 1)\n",
    "            memo[amount] = -1 if res == 1e5 else res\n",
    "            return memo[amount]\n",
    "        return dp(coins, amount)"
   ]
  },
  {
   "cell_type": "code",
   "execution_count": 70,
   "id": "9b6eeaba",
   "metadata": {},
   "outputs": [],
   "source": [
    "so = Solution()"
   ]
  },
  {
   "cell_type": "code",
   "execution_count": 71,
   "id": "bf26abcf",
   "metadata": {},
   "outputs": [
    {
     "data": {
      "text/plain": [
       "-1"
      ]
     },
     "execution_count": 71,
     "metadata": {},
     "output_type": "execute_result"
    }
   ],
   "source": [
    "so.coinChange([2147483647], 2)"
   ]
  },
  {
   "cell_type": "code",
   "execution_count": 259,
   "id": "97c0209b",
   "metadata": {},
   "outputs": [],
   "source": [
    "class Solution:\n",
    "    def coinChange(self, coins: List[int], amount: int) -> int:\n",
    "        # 需要多少个硬币\n",
    "        dp = [0] + [amount + 1] * amount\n",
    "        for i in range(len(dp)):\n",
    "            for c in coins:\n",
    "                if i < c:\n",
    "                    continue\n",
    "                # 增加一个硬币或使用当前的硬币\n",
    "                dp[i] = min(dp[i-c]+1, dp[i])\n",
    "        return -1 if dp[amount] >= amount+1 else dp[amount]"
   ]
  },
  {
   "cell_type": "code",
   "execution_count": 260,
   "id": "4c0b9984",
   "metadata": {},
   "outputs": [],
   "source": [
    "so = Solution()"
   ]
  },
  {
   "cell_type": "code",
   "execution_count": 261,
   "id": "01ca6c2f",
   "metadata": {},
   "outputs": [
    {
     "data": {
      "text/plain": [
       "4"
      ]
     },
     "execution_count": 261,
     "metadata": {},
     "output_type": "execute_result"
    }
   ],
   "source": [
    "so.coinChange([1,2,5,10], 27)"
   ]
  },
  {
   "cell_type": "code",
   "execution_count": 248,
   "id": "5431569f",
   "metadata": {
    "scrolled": true
   },
   "outputs": [
    {
     "data": {
      "text/plain": [
       "20"
      ]
     },
     "execution_count": 248,
     "metadata": {},
     "output_type": "execute_result"
    }
   ],
   "source": [
    "so.coinChange([186,419,83,408], 6249)"
   ]
  },
  {
   "cell_type": "code",
   "execution_count": 244,
   "id": "5f35f34f",
   "metadata": {},
   "outputs": [
    {
     "data": {
      "text/plain": [
       "-1"
      ]
     },
     "execution_count": 244,
     "metadata": {},
     "output_type": "execute_result"
    }
   ],
   "source": [
    "so.coinChange([2], 3)"
   ]
  },
  {
   "cell_type": "code",
   "execution_count": 245,
   "id": "1c281f58",
   "metadata": {},
   "outputs": [
    {
     "data": {
      "text/plain": [
       "0"
      ]
     },
     "execution_count": 245,
     "metadata": {},
     "output_type": "execute_result"
    }
   ],
   "source": [
    "so.coinChange([1], 0)"
   ]
  },
  {
   "cell_type": "code",
   "execution_count": 277,
   "id": "d45a215a",
   "metadata": {},
   "outputs": [],
   "source": [
    "class Solution:\n",
    "    def coinChange(self, coins: List[int], amount: int) -> int:\n",
    "        # 需要多少个硬币\n",
    "        dp = [0] + [amount + 1] * amount\n",
    "        for i in range(len(dp)):\n",
    "            tmp = []\n",
    "            for c in coins:\n",
    "                if i < c:\n",
    "                    continue\n",
    "                tmp.append(dp[i-c]+1)\n",
    "            if tmp:\n",
    "                dp[i] = min(tmp)\n",
    "        return -1 if dp[amount] >= amount+1 else dp[amount]"
   ]
  },
  {
   "cell_type": "code",
   "execution_count": 278,
   "id": "10cc8042",
   "metadata": {},
   "outputs": [],
   "source": [
    "so = Solution()"
   ]
  },
  {
   "cell_type": "code",
   "execution_count": 279,
   "id": "4ba2ebd7",
   "metadata": {},
   "outputs": [
    {
     "data": {
      "text/plain": [
       "4"
      ]
     },
     "execution_count": 279,
     "metadata": {},
     "output_type": "execute_result"
    }
   ],
   "source": [
    "so.coinChange([1,2,5,10], 27)"
   ]
  },
  {
   "cell_type": "code",
   "execution_count": 280,
   "id": "56c3334a",
   "metadata": {},
   "outputs": [
    {
     "data": {
      "text/plain": [
       "20"
      ]
     },
     "execution_count": 280,
     "metadata": {},
     "output_type": "execute_result"
    }
   ],
   "source": [
    "so.coinChange([186,419,83,408], 6249)"
   ]
  },
  {
   "cell_type": "code",
   "execution_count": 281,
   "id": "32c374cd",
   "metadata": {},
   "outputs": [
    {
     "data": {
      "text/plain": [
       "-1"
      ]
     },
     "execution_count": 281,
     "metadata": {},
     "output_type": "execute_result"
    }
   ],
   "source": [
    "so.coinChange([2], 3)"
   ]
  },
  {
   "cell_type": "code",
   "execution_count": 282,
   "id": "6705910f",
   "metadata": {
    "scrolled": true
   },
   "outputs": [
    {
     "data": {
      "text/plain": [
       "0"
      ]
     },
     "execution_count": 282,
     "metadata": {},
     "output_type": "execute_result"
    }
   ],
   "source": [
    "so.coinChange([1], 0)"
   ]
  },
  {
   "cell_type": "code",
   "execution_count": null,
   "id": "c502cf7a",
   "metadata": {},
   "outputs": [],
   "source": []
  },
  {
   "cell_type": "code",
   "execution_count": null,
   "id": "9dca13a5",
   "metadata": {},
   "outputs": [],
   "source": []
  }
 ],
 "metadata": {
  "kernelspec": {
   "display_name": "Python 3 (ipykernel)",
   "language": "python",
   "name": "python3"
  },
  "language_info": {
   "codemirror_mode": {
    "name": "ipython",
    "version": 3
   },
   "file_extension": ".py",
   "mimetype": "text/x-python",
   "name": "python",
   "nbconvert_exporter": "python",
   "pygments_lexer": "ipython3",
   "version": "3.9.13"
  },
  "latex_envs": {
   "LaTeX_envs_menu_present": true,
   "autoclose": false,
   "autocomplete": true,
   "bibliofile": "biblio.bib",
   "cite_by": "apalike",
   "current_citInitial": 1,
   "eqLabelWithNumbers": true,
   "eqNumInitial": 1,
   "hotkeys": {
    "equation": "Ctrl-E",
    "itemize": "Ctrl-I"
   },
   "labels_anchors": false,
   "latex_user_defs": false,
   "report_style_numbering": false,
   "user_envs_cfg": false
  },
  "toc": {
   "base_numbering": 1,
   "nav_menu": {},
   "number_sections": true,
   "sideBar": true,
   "skip_h1_title": false,
   "title_cell": "Table of Contents",
   "title_sidebar": "Contents",
   "toc_cell": false,
   "toc_position": {
    "height": "calc(100% - 180px)",
    "left": "10px",
    "top": "150px",
    "width": "221px"
   },
   "toc_section_display": true,
   "toc_window_display": true
  }
 },
 "nbformat": 4,
 "nbformat_minor": 5
}
