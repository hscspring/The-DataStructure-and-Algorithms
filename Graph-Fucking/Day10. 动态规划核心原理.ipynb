{
 "cells": [
  {
   "cell_type": "markdown",
   "id": "e55f46f8",
   "metadata": {},
   "source": [
    "[动态规划解题套路框架 :: labuladong 的算法小抄](https://labuladong.github.io/algo/3/25/69/)\n",
    "\n",
    "首先，动态规划问题的一般形式就是求最值。求解动态规划的核心问题是穷举。\n",
    "\n",
    "只有列出正确的「状态转移方程」，才能正确地穷举。而且，你需要判断算法问题是否具备「最优子结构」，是否能够通过子问题的最值得到原问题的最值。另外，动态规划问题存在「重叠子问题」，如果暴力穷举的话效率会很低，所以需要你使用「备忘录」或者「DP table」来优化穷举过程，避免不必要的计算。以上提到的重叠子问题、最优子结构、状态转移方程就是动态规划三要素。\n",
    "\n",
    "明确 base case -> 明确「状态」-> 明确「选择」 -> 定义 dp 数组 / 函数的含义。\n",
    "\n",
    "动态规划问题最困难的就是写出这个暴力解，即状态转移方程。只要写出暴力解，优化方法无非是用备忘录或者 DP table，再无奥妙可言。\n",
    "\n",
    "如果我们发现每次状态转移只需要 DP table 中的一部分，那么可以尝试缩小 DP table 的大小，只记录必要的数据，从而降低空间复杂度。\n",
    "\n",
    "要符合「最优子结构」，子问题间必须互相独立。"
   ]
  },
  {
   "cell_type": "code",
   "execution_count": 16,
   "id": "e230496d",
   "metadata": {},
   "outputs": [],
   "source": [
    "from typing import List"
   ]
  },
  {
   "cell_type": "markdown",
   "id": "86d76fda",
   "metadata": {},
   "source": [
    "## 斐波那契数列"
   ]
  },
  {
   "cell_type": "markdown",
   "id": "b804fa70",
   "metadata": {},
   "source": [
    "斐波那契数 （通常用 F(n) 表示）形成的序列称为 斐波那契数列 。该数列由 0 和 1 开始，后面的每一项数字都是前面两项数字的和。也就是：\n",
    "\n",
    "\n",
    "F(0) = 0，F(1) = 1\n",
    "\n",
    "F(n) = F(n - 1) + F(n - 2)，其中 n > 1\n",
    "\n",
    "给定 n ，请计算 F(n) 。\n",
    "\n",
    "来源：力扣（LeetCode）\n",
    "\n",
    "链接：https://leetcode.cn/problems/fibonacci-number\n"
   ]
  },
  {
   "cell_type": "code",
   "execution_count": 9,
   "id": "2cfb9b26",
   "metadata": {},
   "outputs": [],
   "source": [
    "class Solution:\n",
    "    def fib(self, n: int) -> int:\n",
    "        if n < 2:\n",
    "            return n\n",
    "        f0, f1 = 0, 1\n",
    "        for i in range(2, n+1):\n",
    "            f = f0 + f1\n",
    "            f0 = f1\n",
    "            f1 = f\n",
    "        return f1"
   ]
  },
  {
   "cell_type": "code",
   "execution_count": 10,
   "id": "5c839507",
   "metadata": {},
   "outputs": [],
   "source": [
    "so = Solution()"
   ]
  },
  {
   "cell_type": "code",
   "execution_count": 14,
   "id": "e8f8e007",
   "metadata": {},
   "outputs": [
    {
     "data": {
      "text/plain": [
       "3"
      ]
     },
     "execution_count": 14,
     "metadata": {},
     "output_type": "execute_result"
    }
   ],
   "source": [
    "so.fib(4)"
   ]
  },
  {
   "cell_type": "markdown",
   "id": "2eed22df",
   "metadata": {},
   "source": [
    "## 凑硬币"
   ]
  },
  {
   "cell_type": "markdown",
   "id": "33e4cc64",
   "metadata": {},
   "source": [
    "给你一个整数数组 coins ，表示不同面额的硬币；以及一个整数 amount ，表示总金额。\n",
    "\n",
    "计算并返回可以凑成总金额所需的 最少的硬币个数 。如果没有任何一种硬币组合能组成总金额，返回 -1 。\n",
    "\n",
    "你可以认为每种硬币的数量是无限的。\n",
    "\n",
    "\n",
    "\n",
    "来源：力扣（LeetCode）\n",
    "\n",
    "链接：https://leetcode.cn/problems/coin-change"
   ]
  },
  {
   "cell_type": "code",
   "execution_count": 25,
   "id": "3d99c1f3",
   "metadata": {},
   "outputs": [],
   "source": [
    "class Solution:\n",
    "    def coinChange(self, coins: List[int], amount: int) -> int:\n",
    "        def dp(coins, amount):\n",
    "            res = 1e5\n",
    "            if amount < 0: return -1\n",
    "            if amount == 0: return 0\n",
    "            for c in coins:\n",
    "                sub = dp(coins, amount - c)\n",
    "                if sub == -1:\n",
    "                    continue\n",
    "                res = min(res, sub + 1)\n",
    "            return -1 if res == 1e5 else res\n",
    "        return dp(coins, amount)"
   ]
  },
  {
   "cell_type": "code",
   "execution_count": 26,
   "id": "706d9559",
   "metadata": {},
   "outputs": [],
   "source": [
    "so = Solution()"
   ]
  },
  {
   "cell_type": "code",
   "execution_count": 27,
   "id": "130affcd",
   "metadata": {},
   "outputs": [],
   "source": [
    "coins = [1, 2, 5]\n",
    "amount = 11"
   ]
  },
  {
   "cell_type": "code",
   "execution_count": 28,
   "id": "37c35ea9",
   "metadata": {},
   "outputs": [
    {
     "data": {
      "text/plain": [
       "3"
      ]
     },
     "execution_count": 28,
     "metadata": {},
     "output_type": "execute_result"
    }
   ],
   "source": [
    "so.coinChange(coins, amount)"
   ]
  },
  {
   "cell_type": "code",
   "execution_count": 69,
   "id": "68d79bd1",
   "metadata": {},
   "outputs": [],
   "source": [
    "class Solution:\n",
    "    def coinChange(self, coins: List[int], amount: int) -> int:\n",
    "        memo = [-666] * (amount + 1)\n",
    "        def dp(coins, amount):\n",
    "            if amount < 0: return -1\n",
    "            if amount == 0: return 0\n",
    "            \n",
    "            if memo[amount] != -666:\n",
    "                return memo[amount]\n",
    "            res = 1e5\n",
    "            for c in coins:\n",
    "                sub = dp(coins, amount - c)\n",
    "                if sub == -1:\n",
    "                    continue\n",
    "                res = min(res, sub + 1)\n",
    "            memo[amount] = -1 if res == 1e5 else res\n",
    "            return memo[amount]\n",
    "        return dp(coins, amount)"
   ]
  },
  {
   "cell_type": "code",
   "execution_count": 70,
   "id": "b7916ffa",
   "metadata": {},
   "outputs": [],
   "source": [
    "so = Solution()"
   ]
  },
  {
   "cell_type": "code",
   "execution_count": 71,
   "id": "b536f2bd",
   "metadata": {},
   "outputs": [
    {
     "data": {
      "text/plain": [
       "-1"
      ]
     },
     "execution_count": 71,
     "metadata": {},
     "output_type": "execute_result"
    }
   ],
   "source": [
    "so.coinChange([2147483647], 2)"
   ]
  },
  {
   "cell_type": "code",
   "execution_count": 259,
   "id": "b365da8c",
   "metadata": {},
   "outputs": [],
   "source": [
    "class Solution:\n",
    "    def coinChange(self, coins: List[int], amount: int) -> int:\n",
    "        # 需要多少个硬币\n",
    "        dp = [0] + [amount + 1] * amount\n",
    "        for i in range(len(dp)):\n",
    "            for c in coins:\n",
    "                if i < c:\n",
    "                    continue\n",
    "                # 增加一个硬币或使用当前的硬币\n",
    "                dp[i] = min(dp[i-c]+1, dp[i])\n",
    "        return -1 if dp[amount] >= amount+1 else dp[amount]"
   ]
  },
  {
   "cell_type": "code",
   "execution_count": 260,
   "id": "356d4b2e",
   "metadata": {},
   "outputs": [],
   "source": [
    "so = Solution()"
   ]
  },
  {
   "cell_type": "code",
   "execution_count": 261,
   "id": "bf3c59a4",
   "metadata": {},
   "outputs": [
    {
     "data": {
      "text/plain": [
       "4"
      ]
     },
     "execution_count": 261,
     "metadata": {},
     "output_type": "execute_result"
    }
   ],
   "source": [
    "so.coinChange([1,2,5,10], 27)"
   ]
  },
  {
   "cell_type": "code",
   "execution_count": 248,
   "id": "3da1d21f",
   "metadata": {
    "scrolled": true
   },
   "outputs": [
    {
     "data": {
      "text/plain": [
       "20"
      ]
     },
     "execution_count": 248,
     "metadata": {},
     "output_type": "execute_result"
    }
   ],
   "source": [
    "so.coinChange([186,419,83,408], 6249)"
   ]
  },
  {
   "cell_type": "code",
   "execution_count": 244,
   "id": "f48ab17d",
   "metadata": {},
   "outputs": [
    {
     "data": {
      "text/plain": [
       "-1"
      ]
     },
     "execution_count": 244,
     "metadata": {},
     "output_type": "execute_result"
    }
   ],
   "source": [
    "so.coinChange([2], 3)"
   ]
  },
  {
   "cell_type": "code",
   "execution_count": 245,
   "id": "d53ecca5",
   "metadata": {},
   "outputs": [
    {
     "data": {
      "text/plain": [
       "0"
      ]
     },
     "execution_count": 245,
     "metadata": {},
     "output_type": "execute_result"
    }
   ],
   "source": [
    "so.coinChange([1], 0)"
   ]
  },
  {
   "cell_type": "code",
   "execution_count": 277,
   "id": "66d94062",
   "metadata": {},
   "outputs": [],
   "source": [
    "class Solution:\n",
    "    def coinChange(self, coins: List[int], amount: int) -> int:\n",
    "        # 需要多少个硬币\n",
    "        dp = [0] + [amount + 1] * amount\n",
    "        for i in range(len(dp)):\n",
    "            tmp = []\n",
    "            for c in coins:\n",
    "                if i < c:\n",
    "                    continue\n",
    "                tmp.append(dp[i-c]+1)\n",
    "            if tmp:\n",
    "                dp[i] = min(tmp)\n",
    "        return -1 if dp[amount] >= amount+1 else dp[amount]"
   ]
  },
  {
   "cell_type": "code",
   "execution_count": 278,
   "id": "7aaaf96a",
   "metadata": {},
   "outputs": [],
   "source": [
    "so = Solution()"
   ]
  },
  {
   "cell_type": "code",
   "execution_count": 279,
   "id": "5c83d643",
   "metadata": {},
   "outputs": [
    {
     "data": {
      "text/plain": [
       "4"
      ]
     },
     "execution_count": 279,
     "metadata": {},
     "output_type": "execute_result"
    }
   ],
   "source": [
    "so.coinChange([1,2,5,10], 27)"
   ]
  },
  {
   "cell_type": "code",
   "execution_count": 280,
   "id": "c106e2a8",
   "metadata": {},
   "outputs": [
    {
     "data": {
      "text/plain": [
       "20"
      ]
     },
     "execution_count": 280,
     "metadata": {},
     "output_type": "execute_result"
    }
   ],
   "source": [
    "so.coinChange([186,419,83,408], 6249)"
   ]
  },
  {
   "cell_type": "code",
   "execution_count": 281,
   "id": "b2e58213",
   "metadata": {},
   "outputs": [
    {
     "data": {
      "text/plain": [
       "-1"
      ]
     },
     "execution_count": 281,
     "metadata": {},
     "output_type": "execute_result"
    }
   ],
   "source": [
    "so.coinChange([2], 3)"
   ]
  },
  {
   "cell_type": "code",
   "execution_count": 282,
   "id": "40688420",
   "metadata": {
    "scrolled": true
   },
   "outputs": [
    {
     "data": {
      "text/plain": [
       "0"
      ]
     },
     "execution_count": 282,
     "metadata": {},
     "output_type": "execute_result"
    }
   ],
   "source": [
    "so.coinChange([1], 0)"
   ]
  },
  {
   "cell_type": "code",
   "execution_count": null,
   "id": "e0ade12d",
   "metadata": {},
   "outputs": [],
   "source": []
  },
  {
   "cell_type": "code",
   "execution_count": null,
   "id": "e875cab4",
   "metadata": {},
   "outputs": [],
   "source": []
  }
 ],
 "metadata": {
  "kernelspec": {
   "display_name": "Python 3",
   "language": "python",
   "name": "python3"
  },
  "language_info": {
   "codemirror_mode": {
    "name": "ipython",
    "version": 3
   },
   "file_extension": ".py",
   "mimetype": "text/x-python",
   "name": "python",
   "nbconvert_exporter": "python",
   "pygments_lexer": "ipython3",
   "version": "3.8.13"
  },
  "latex_envs": {
   "LaTeX_envs_menu_present": true,
   "autoclose": false,
   "autocomplete": true,
   "bibliofile": "biblio.bib",
   "cite_by": "apalike",
   "current_citInitial": 1,
   "eqLabelWithNumbers": true,
   "eqNumInitial": 1,
   "hotkeys": {
    "equation": "Ctrl-E",
    "itemize": "Ctrl-I"
   },
   "labels_anchors": false,
   "latex_user_defs": false,
   "report_style_numbering": false,
   "user_envs_cfg": false
  },
  "toc": {
   "base_numbering": 1,
   "nav_menu": {},
   "number_sections": true,
   "sideBar": true,
   "skip_h1_title": false,
   "title_cell": "Table of Contents",
   "title_sidebar": "Contents",
   "toc_cell": false,
   "toc_position": {},
   "toc_section_display": true,
   "toc_window_display": true
  }
 },
 "nbformat": 4,
 "nbformat_minor": 5
}
