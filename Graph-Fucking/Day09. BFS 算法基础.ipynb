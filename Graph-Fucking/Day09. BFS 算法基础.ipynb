{
 "cells": [
  {
   "cell_type": "markdown",
   "id": "74d0d548",
   "metadata": {},
   "source": [
    "[BFS 算法解题套路框架 :: labuladong 的算法小抄](https://labuladong.github.io/algo/4/31/111/)\n",
    "\n",
    "\n",
    "BFS 相对 DFS 的最主要的区别是：BFS 找到的路径一定是最短的，但代价就是空间复杂度可能比 DFS 大很多。\n",
    "\n",
    "让你从一个起点，走到终点，问最短路径。这就是 BFS 的本质。\n",
    "\n",
    "DFS 是线，BFS 是面；DFS 是单打独斗，BFS 是集体行动。"
   ]
  },
  {
   "cell_type": "code",
   "execution_count": 10,
   "id": "af76a019",
   "metadata": {},
   "outputs": [],
   "source": [
    "from typing import Optional, List"
   ]
  },
  {
   "cell_type": "markdown",
   "id": "51b85ce6",
   "metadata": {},
   "source": [
    "## 最小深度"
   ]
  },
  {
   "cell_type": "markdown",
   "id": "230d2d64",
   "metadata": {},
   "source": [
    "给定一个二叉树，找出其最小深度。\n",
    "\n",
    "最小深度是从根节点到最近叶子节点的最短路径上的节点数量。\n",
    "\n",
    "说明：叶子节点是指没有子节点的节点。\n",
    "\n",
    "https://leetcode.cn/problems/minimum-depth-of-binary-tree/"
   ]
  },
  {
   "cell_type": "code",
   "execution_count": 4,
   "id": "54874ea2",
   "metadata": {},
   "outputs": [],
   "source": [
    "# Definition for a binary tree node.\n",
    "class TreeNode:\n",
    "    def __init__(self, val=0, left=None, right=None):\n",
    "        self.val = val\n",
    "        self.left = left\n",
    "        self.right = right\n",
    "\n",
    "class Solution:\n",
    "    def minDepth(self, root: Optional[TreeNode]) -> int:\n",
    "        if not root: return 0\n",
    "        q = [root]\n",
    "        depth = 1\n",
    "        while q:\n",
    "            for i in range(len(q)):\n",
    "                node = q.pop(0)\n",
    "                if not node.left and not node.right:\n",
    "                    return depth\n",
    "                if node.left:\n",
    "                    q.append(node.left)\n",
    "                if node.right:\n",
    "                    q.append(node.right)\n",
    "            depth += 1\n",
    "        return depth"
   ]
  },
  {
   "cell_type": "markdown",
   "id": "34d1cacf",
   "metadata": {},
   "source": [
    "## 转盘锁"
   ]
  },
  {
   "cell_type": "markdown",
   "id": "21cf6ce1",
   "metadata": {},
   "source": [
    "你有一个带有四个圆形拨轮的转盘锁。每个拨轮都有 10 个数字： '0', '1', '2', '3', '4', '5', '6', '7', '8', '9' 。每个拨轮可以自由旋转：例如把 '9' 变为 '0'，'0' 变为 '9' 。每次旋转都只能旋转一个拨轮的一位数字。\n",
    "\n",
    "锁的初始数字为 '0000' ，一个代表四个拨轮的数字的字符串。\n",
    "\n",
    "列表 deadends 包含了一组死亡数字，一旦拨轮的数字和列表里的任何一个元素相同，这个锁将会被永久锁定，无法再被旋转。\n",
    "\n",
    "字符串 target 代表可以解锁的数字，你需要给出解锁需要的最小旋转次数，如果无论如何不能解锁，返回 -1 。\n",
    "\n",
    "\n",
    "\n",
    "来源：力扣（LeetCode）\n",
    "\n",
    "链接：https://leetcode.cn/problems/open-the-lock\n"
   ]
  },
  {
   "cell_type": "code",
   "execution_count": 65,
   "id": "05487a67",
   "metadata": {},
   "outputs": [],
   "source": [
    "class Solution:\n",
    "    def openLock(self, deadends: List[str], target: str) -> int:\n",
    "        def roll_one(status, idx, direct: str = \"up\"):\n",
    "            res = list(status)\n",
    "            v = int(res[idx])\n",
    "            if direct == \"up\":\n",
    "                v += 1\n",
    "            else:\n",
    "                v -= 1\n",
    "            v = v % 10\n",
    "            res[idx] = str(v)\n",
    "            return \"\".join(res)\n",
    "        \n",
    "        q = [\"0000\"]\n",
    "        step = 0\n",
    "        visited = {\"0000\"}\n",
    "        while q:\n",
    "            for i in range(len(q)):\n",
    "                node = q.pop(0)\n",
    "                # 判断不能死掉\n",
    "                if node in deadends:\n",
    "                    continue\n",
    "                if node == target:\n",
    "                    return step\n",
    "                for j in range(4):\n",
    "                    up = roll_one(node, j, \"up\")\n",
    "                    if up not in visited:\n",
    "                        visited.add(up)\n",
    "                        q.append(up)\n",
    "                    down = roll_one(node, j, \"down\")\n",
    "                    if down not in visited:\n",
    "                        visited.add(down)\n",
    "                        q.append(down)\n",
    "            step += 1\n",
    "        return -1"
   ]
  },
  {
   "cell_type": "code",
   "execution_count": 66,
   "id": "a6354ef4",
   "metadata": {},
   "outputs": [],
   "source": [
    "deadends = [\"0201\",\"0101\",\"0102\",\"1212\",\"2002\"]\n",
    "target = \"0202\""
   ]
  },
  {
   "cell_type": "markdown",
   "id": "770917a2",
   "metadata": {},
   "source": [
    "可能的移动序列为 \"0000\" -> \"1000\" -> \"1100\" -> \"1200\" -> \"1201\" -> \"1202\" -> \"0202\"。\n",
    "\n",
    "注意 \"0000\" -> \"0001\" -> \"0002\" -> \"0102\" -> \"0202\" 这样的序列是不能解锁的，\n",
    "\n",
    "因为当拨动到 \"0102\" 时这个锁就会被锁定。"
   ]
  },
  {
   "cell_type": "code",
   "execution_count": 67,
   "id": "7215c3cd",
   "metadata": {},
   "outputs": [],
   "source": [
    "so = Solution()"
   ]
  },
  {
   "cell_type": "code",
   "execution_count": 68,
   "id": "65c454be",
   "metadata": {},
   "outputs": [
    {
     "data": {
      "text/plain": [
       "6"
      ]
     },
     "execution_count": 68,
     "metadata": {},
     "output_type": "execute_result"
    }
   ],
   "source": [
    "so.openLock(deadends, target)"
   ]
  },
  {
   "cell_type": "code",
   "execution_count": null,
   "id": "62055d39",
   "metadata": {},
   "outputs": [],
   "source": []
  },
  {
   "cell_type": "code",
   "execution_count": null,
   "id": "e0a0aad0",
   "metadata": {},
   "outputs": [],
   "source": []
  },
  {
   "cell_type": "code",
   "execution_count": null,
   "id": "9c247620",
   "metadata": {},
   "outputs": [],
   "source": []
  },
  {
   "cell_type": "code",
   "execution_count": null,
   "id": "1775ddc4",
   "metadata": {},
   "outputs": [],
   "source": []
  },
  {
   "cell_type": "code",
   "execution_count": null,
   "id": "e0dd31a0",
   "metadata": {},
   "outputs": [],
   "source": []
  }
 ],
 "metadata": {
  "kernelspec": {
   "display_name": "Python 3 (ipykernel)",
   "language": "python",
   "name": "python3"
  },
  "language_info": {
   "codemirror_mode": {
    "name": "ipython",
    "version": 3
   },
   "file_extension": ".py",
   "mimetype": "text/x-python",
   "name": "python",
   "nbconvert_exporter": "python",
   "pygments_lexer": "ipython3",
   "version": "3.9.13"
  },
  "latex_envs": {
   "LaTeX_envs_menu_present": true,
   "autoclose": false,
   "autocomplete": true,
   "bibliofile": "biblio.bib",
   "cite_by": "apalike",
   "current_citInitial": 1,
   "eqLabelWithNumbers": true,
   "eqNumInitial": 1,
   "hotkeys": {
    "equation": "Ctrl-E",
    "itemize": "Ctrl-I"
   },
   "labels_anchors": false,
   "latex_user_defs": false,
   "report_style_numbering": false,
   "user_envs_cfg": false
  },
  "toc": {
   "base_numbering": 1,
   "nav_menu": {},
   "number_sections": true,
   "sideBar": true,
   "skip_h1_title": false,
   "title_cell": "Table of Contents",
   "title_sidebar": "Contents",
   "toc_cell": false,
   "toc_position": {},
   "toc_section_display": true,
   "toc_window_display": false
  }
 },
 "nbformat": 4,
 "nbformat_minor": 5
}
