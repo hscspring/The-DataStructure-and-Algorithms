{
 "cells": [
  {
   "cell_type": "markdown",
   "id": "56efa6a3",
   "metadata": {},
   "source": [
    "[动态规划帮我通关了《魔塔》 :: labuladong 的算法小抄](https://labuladong.github.io/algo/3/28/87/)"
   ]
  },
  {
   "cell_type": "code",
   "execution_count": 1,
   "id": "2e1085e6",
   "metadata": {},
   "outputs": [],
   "source": [
    "from typing import List"
   ]
  },
  {
   "cell_type": "markdown",
   "id": "6cfe9ceb",
   "metadata": {},
   "source": [
    "一些恶魔抓住了公主（P）并将她关在了地下城的右下角。地下城是由 M x N 个房间组成的二维网格。我们英勇的骑士（K）最初被安置在左上角的房间里，他必须穿过地下城并通过对抗恶魔来拯救公主。\n",
    "\n",
    "骑士的初始健康点数为一个正整数。如果他的健康点数在某一时刻降至 0 或以下，他会立即死亡。\n",
    "\n",
    "有些房间由恶魔守卫，因此骑士在进入这些房间时会失去健康点数（若房间里的值为负整数，则表示骑士将损失健康点数）；其他房间要么是空的（房间里的值为 0），要么包含增加骑士健康点数的魔法球（若房间里的值为正整数，则表示骑士将增加健康点数）。\n",
    "\n",
    "为了尽快到达公主，骑士决定每次只向右或向下移动一步。\n",
    "\n",
    " \n",
    "\n",
    "编写一个函数来计算确保骑士能够拯救到公主所需的最低初始健康点数。\n",
    "\n",
    "例如，考虑到如下布局的地下城，如果骑士遵循最佳路径 右 -> 右 -> 下 -> 下，则骑士的初始健康点数至少为 7。\n",
    "\n",
    "```\n",
    "-2 (K)\t-3\t3\n",
    "-5\t-10\t1\n",
    "10\t30\t-5 (P)\n",
    "``` \n",
    "\n",
    "说明:\n",
    "\n",
    "骑士的健康点数没有上限。\n",
    "\n",
    "任何房间都可能对骑士的健康点数造成威胁，也可能增加骑士的健康点数，包括骑士进入的左上角房间以及公主被监禁的右下角房间。\n",
    "\n",
    "来源：力扣（LeetCode）\n",
    "\n",
    "链接：https://leetcode.cn/problems/dungeon-game\n"
   ]
  },
  {
   "cell_type": "code",
   "execution_count": 10,
   "id": "204c3b49",
   "metadata": {},
   "outputs": [],
   "source": [
    "class Solution:\n",
    "    def calculateMinimumHP(self, dungeon: List[List[int]]) -> int:\n",
    "        m = len(dungeon)\n",
    "        n = len(dungeon[0])\n",
    "        memo = [[-1] * n for i in range(m)]\n",
    "        def dp(i, j):\n",
    "            if i == m or j == n: return 9999\n",
    "            if i == m-1 and j == n-1:\n",
    "                return 1 if dungeon[i][j] >=0 else -dungeon[i][j] + 1\n",
    "            if memo[i][j] != -1:\n",
    "                return memo[i][j]\n",
    "            memo[i][j] = max(1, min(dp(i, j+1), dp(i+1, j)) - dungeon[i][j])\n",
    "            return memo[i][j]\n",
    "        return dp(0, 0)"
   ]
  },
  {
   "cell_type": "code",
   "execution_count": 11,
   "id": "c72a8147",
   "metadata": {},
   "outputs": [],
   "source": [
    "grid = [[-2,-3,3],[-5,-10,1],[10,30,-5]]"
   ]
  },
  {
   "cell_type": "code",
   "execution_count": 12,
   "id": "07622a00",
   "metadata": {},
   "outputs": [],
   "source": [
    "so = Solution()"
   ]
  },
  {
   "cell_type": "code",
   "execution_count": 13,
   "id": "ecda89b1",
   "metadata": {},
   "outputs": [
    {
     "data": {
      "text/plain": [
       "7"
      ]
     },
     "execution_count": 13,
     "metadata": {},
     "output_type": "execute_result"
    }
   ],
   "source": [
    "so.calculateMinimumHP(grid)"
   ]
  },
  {
   "cell_type": "code",
   "execution_count": 53,
   "id": "dae26a45",
   "metadata": {},
   "outputs": [],
   "source": [
    "class Solution:\n",
    "    def calculateMinimumHP(self, dungeon: List[List[int]]) -> int:\n",
    "        m = len(dungeon)\n",
    "        n = len(dungeon[0])\n",
    "        dp = [[0] * (n+1) for i in range(m+1)]\n",
    "        dp[m-1][n-1] = 1 if dungeon[m-1][n-1] >=0 else -dungeon[m-1][n-1] + 1\n",
    "        for i in range(m, -1, -1):\n",
    "            for j in range(n, -1, -1):\n",
    "                if i == m or j == n:\n",
    "                    dp[i][j] = 9999\n",
    "                    continue\n",
    "                if i == m - 1 and j == n-1:\n",
    "                    continue\n",
    "                dp[i][j] = max(1, min(dp[i][j+1], dp[i+1][j]) - dungeon[i][j])\n",
    "        return dp[0][0]"
   ]
  },
  {
   "cell_type": "code",
   "execution_count": 84,
   "id": "5958a312",
   "metadata": {},
   "outputs": [],
   "source": [
    "class Solution:\n",
    "    def calculateMinimumHP(self, dungeon: List[List[int]]) -> int:\n",
    "        m = len(dungeon)\n",
    "        n = len(dungeon[0])\n",
    "        dp = [[0] * (n) for i in range(m)]\n",
    "        dp[m-1][n-1] = 1 if dungeon[m-1][n-1] >=0 else -dungeon[m-1][n-1] + 1\n",
    "        for i in range(m-1, -1, -1):\n",
    "            for j in range(n-1, -1, -1):\n",
    "                if i == m - 1 and j == n-1:\n",
    "                    continue\n",
    "                \n",
    "                if i == m-1:\n",
    "                    dp[i][j] = max(1, dp[i][j+1] - dungeon[i][j])\n",
    "                elif j == n-1:\n",
    "                    dp[i][j] = max(1, dp[i+1][j] - dungeon[i][j])\n",
    "                else:\n",
    "                    dp[i][j] = max(1, min(dp[i][j+1], dp[i+1][j]) - dungeon[i][j])\n",
    "        return dp[0][0]"
   ]
  },
  {
   "cell_type": "code",
   "execution_count": 85,
   "id": "9b75d00c",
   "metadata": {},
   "outputs": [],
   "source": [
    "so = Solution()"
   ]
  },
  {
   "cell_type": "code",
   "execution_count": 86,
   "id": "e8d642be",
   "metadata": {},
   "outputs": [
    {
     "data": {
      "text/plain": [
       "7"
      ]
     },
     "execution_count": 86,
     "metadata": {},
     "output_type": "execute_result"
    }
   ],
   "source": [
    "so.calculateMinimumHP(grid)"
   ]
  },
  {
   "cell_type": "code",
   "execution_count": null,
   "id": "1914fad1",
   "metadata": {},
   "outputs": [],
   "source": []
  },
  {
   "cell_type": "code",
   "execution_count": null,
   "id": "f3fd2abe",
   "metadata": {},
   "outputs": [],
   "source": []
  },
  {
   "cell_type": "code",
   "execution_count": null,
   "id": "cdf708ee",
   "metadata": {},
   "outputs": [],
   "source": []
  }
 ],
 "metadata": {
  "kernelspec": {
   "display_name": "Python 3",
   "language": "python",
   "name": "python3"
  },
  "language_info": {
   "codemirror_mode": {
    "name": "ipython",
    "version": 3
   },
   "file_extension": ".py",
   "mimetype": "text/x-python",
   "name": "python",
   "nbconvert_exporter": "python",
   "pygments_lexer": "ipython3",
   "version": "3.8.13"
  },
  "latex_envs": {
   "LaTeX_envs_menu_present": true,
   "autoclose": false,
   "autocomplete": true,
   "bibliofile": "biblio.bib",
   "cite_by": "apalike",
   "current_citInitial": 1,
   "eqLabelWithNumbers": true,
   "eqNumInitial": 1,
   "hotkeys": {
    "equation": "Ctrl-E",
    "itemize": "Ctrl-I"
   },
   "labels_anchors": false,
   "latex_user_defs": false,
   "report_style_numbering": false,
   "user_envs_cfg": false
  },
  "toc": {
   "base_numbering": 1,
   "nav_menu": {},
   "number_sections": true,
   "sideBar": true,
   "skip_h1_title": false,
   "title_cell": "Table of Contents",
   "title_sidebar": "Contents",
   "toc_cell": false,
   "toc_position": {},
   "toc_section_display": true,
   "toc_window_display": false
  }
 },
 "nbformat": 4,
 "nbformat_minor": 5
}
