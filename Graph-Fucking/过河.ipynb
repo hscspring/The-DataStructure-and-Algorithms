{
 "cells": [
  {
   "cell_type": "code",
   "execution_count": 52,
   "id": "cdd91fe5",
   "metadata": {},
   "outputs": [],
   "source": [
    "from dataclasses import dataclass\n",
    "from typing import List"
   ]
  },
  {
   "cell_type": "code",
   "execution_count": 97,
   "id": "63f66772",
   "metadata": {},
   "outputs": [],
   "source": [
    "def permute(lst, target: int):\n",
    "    track = []\n",
    "    res = []\n",
    "    length = len(lst)\n",
    "    def backtrack():\n",
    "        if len(track) == target:\n",
    "            res.append(\"\".join(track.copy()))\n",
    "            return\n",
    "        for i in range(length):\n",
    "            track.append(lst[i])\n",
    "            backtrack()\n",
    "            track.pop()\n",
    "    backtrack()\n",
    "    return res"
   ]
  },
  {
   "cell_type": "markdown",
   "id": "76ea82d9",
   "metadata": {},
   "source": [
    "## 农夫过河"
   ]
  },
  {
   "cell_type": "code",
   "execution_count": 156,
   "id": "8b110eae",
   "metadata": {},
   "outputs": [],
   "source": [
    "class PassRiver:\n",
    "    \n",
    "    def __init__(self):\n",
    "        \"\"\"\n",
    "        0000 = 农夫、狼、羊、菜\n",
    "        \"\"\"\n",
    "        self.nodes = []\n",
    "        self.init_graph()\n",
    "        self.visited = [0] * self.node_num\n",
    "        self.path = [0] * self.node_num\n",
    "    \n",
    "    def is_safe(self, v):\n",
    "        if v[0] != v[2] and (v[1] == v[2] or v[2] == v[3]):\n",
    "            return 0\n",
    "        return 1\n",
    "    \n",
    "    def is_connected(self, i, j):\n",
    "        k = 0\n",
    "        for idx in range(1, 4):\n",
    "            if self.nodes[i][idx] != self.nodes[j][idx]:\n",
    "                k += 1\n",
    "        if self.nodes[i][0] != self.nodes[j][0] and k <= 1:\n",
    "            return 1\n",
    "        return 0\n",
    "    \n",
    "    def init_graph(self):\n",
    "        for v in permute(\"01\", 4):\n",
    "            if self.is_safe(v):\n",
    "                self.nodes.append(v)\n",
    "        num = len(self.nodes)\n",
    "        self.edges = [[0] * num for i in range(num)]\n",
    "        for i in range(num):\n",
    "            for j in range(num):\n",
    "                if self.is_connected(i, j):\n",
    "                    self.edges[i][j] = self.edges[j][i] = 1\n",
    "        self.node_num = num\n",
    "    \n",
    "    def print_path(self, u, v):\n",
    "        k = u\n",
    "        while k != v:\n",
    "            print(self.nodes[k])\n",
    "            k = self.path[k]\n",
    "            print(self.nodes[k])\n",
    "            print()\n",
    "    \n",
    "    def dfs(self, u, v):\n",
    "        self.visited[u] = 1\n",
    "        for j in range(self.node_num):\n",
    "            if self.edges[u][j] and not self.visited[j] and not self.visited[v]:\n",
    "                self.path[u] = j\n",
    "                self.dfs(j, v)\n",
    "    \n",
    "    def solve(self):\n",
    "        self.dfs(0, 9)\n",
    "        if self.visited[9]:\n",
    "            self.print_path(0, 9)"
   ]
  },
  {
   "cell_type": "code",
   "execution_count": 157,
   "id": "2a23d946",
   "metadata": {},
   "outputs": [],
   "source": [
    "pr = PassRiver()"
   ]
  },
  {
   "cell_type": "code",
   "execution_count": 158,
   "id": "4dbe1ceb",
   "metadata": {},
   "outputs": [
    {
     "name": "stdout",
     "output_type": "stream",
     "text": [
      "0000\n",
      "1010\n",
      "\n",
      "1010\n",
      "0010\n",
      "\n",
      "0010\n",
      "1011\n",
      "\n",
      "1011\n",
      "0001\n",
      "\n",
      "0001\n",
      "1101\n",
      "\n",
      "1101\n",
      "0101\n",
      "\n",
      "0101\n",
      "1111\n",
      "\n"
     ]
    }
   ],
   "source": [
    "pr.solve()"
   ]
  },
  {
   "cell_type": "code",
   "execution_count": 219,
   "id": "b19b1f1d",
   "metadata": {},
   "outputs": [],
   "source": [
    "@dataclass\n",
    "class Node:\n",
    "    f: int\n",
    "    w: int\n",
    "    s: int\n",
    "    v: int\n",
    "\n",
    "class PassRiver:\n",
    "    \n",
    "    def __init__(self):\n",
    "        self.nodes = []\n",
    "        self.init_graph()\n",
    "        self.visited = [0] * self.node_num\n",
    "        self.path = [0] * self.node_num\n",
    "        \n",
    "        \n",
    "    def is_visited(self, j: int):\n",
    "        return self.visited[j]\n",
    "    \n",
    "    def locate(self, f, w, s, v):\n",
    "        for i in range(self.node_num):\n",
    "            curr = self.nodes[i]\n",
    "            if curr.f == f and curr.w == w and curr.s == s and curr.v == v:\n",
    "                return i\n",
    "        return -1\n",
    "    \n",
    "    def is_safe(self, f, w, s, v):\n",
    "        if f != s and (w == s or s == v):\n",
    "            return 0\n",
    "        return 1\n",
    "    \n",
    "    def is_connected(self, i, j):\n",
    "        k = 0\n",
    "        if self.nodes[i].w != self.nodes[j].w:\n",
    "            k += 1\n",
    "        if self.nodes[i].s != self.nodes[j].s:\n",
    "            k += 1\n",
    "        if self.nodes[i].v != self.nodes[j].v:\n",
    "            k += 1\n",
    "        if self.nodes[i].f != self.nodes[j].f and k <= 1:\n",
    "            return 1\n",
    "        return 0\n",
    "    \n",
    "    def init_graph(self):\n",
    "        num = 0\n",
    "        for f in range(2):\n",
    "            for w in range(2):\n",
    "                for s in range(2):\n",
    "                    for v in range(2):\n",
    "                        if self.is_safe(f, w, s, v):\n",
    "                            nd = Node(f, w, s, v)\n",
    "                            self.nodes.append(nd)\n",
    "                            num += 1\n",
    "        self.node_num = num\n",
    "        self.edges = [[0] * num for i in range(num)]\n",
    "        for i in range(num):\n",
    "            for j in range(num):\n",
    "                if self.is_connected(i, j):\n",
    "                    self.edges[i][j] = self.edges[j][i] = 1\n",
    "    \n",
    "    def print_path(self, u, v):\n",
    "        k = u\n",
    "        print(self.nodes[k])\n",
    "        while k != v:\n",
    "            k = self.path[k]\n",
    "            print(self.nodes[k])\n",
    "    \n",
    "    def dfs(self, u, v):\n",
    "        self.visited[u] = 1\n",
    "        for j in range(self.node_num):\n",
    "            if self.edges[u][j] and not self.visited[j] and not self.visited[v]:\n",
    "                self.path[u] = j\n",
    "                self.dfs(j, v)\n",
    "    \n",
    "    def solve(self):\n",
    "        i = self.locate(0, 0, 0, 0)\n",
    "        j = self.locate(1, 1, 1, 1)\n",
    "        self.dfs(i, j)\n",
    "        if self.visited[j]:\n",
    "            self.print_path(i, j)"
   ]
  },
  {
   "cell_type": "code",
   "execution_count": 220,
   "id": "f33f584b",
   "metadata": {},
   "outputs": [],
   "source": [
    "g = PassRiver()"
   ]
  },
  {
   "cell_type": "code",
   "execution_count": 221,
   "id": "d87af09c",
   "metadata": {},
   "outputs": [
    {
     "name": "stdout",
     "output_type": "stream",
     "text": [
      "Node(f=0, w=0, s=0, v=0)\n",
      "Node(f=1, w=0, s=1, v=0)\n",
      "Node(f=0, w=0, s=1, v=0)\n",
      "Node(f=1, w=0, s=1, v=1)\n",
      "Node(f=0, w=0, s=0, v=1)\n",
      "Node(f=1, w=1, s=0, v=1)\n",
      "Node(f=0, w=1, s=0, v=1)\n",
      "Node(f=1, w=1, s=1, v=1)\n"
     ]
    }
   ],
   "source": [
    "g.solve()"
   ]
  },
  {
   "cell_type": "code",
   "execution_count": 192,
   "id": "e954a2f9",
   "metadata": {},
   "outputs": [
    {
     "name": "stdout",
     "output_type": "stream",
     "text": [
      "Node(f=0, w=0, s=0, v=0) Node(f=1, w=0, s=1, v=0)\n",
      "Node(f=0, w=0, s=0, v=1) Node(f=1, w=0, s=1, v=1)\n",
      "Node(f=0, w=0, s=0, v=1) Node(f=1, w=1, s=0, v=1)\n",
      "Node(f=0, w=0, s=1, v=0) Node(f=1, w=0, s=1, v=0)\n",
      "Node(f=0, w=0, s=1, v=0) Node(f=1, w=0, s=1, v=1)\n",
      "Node(f=0, w=0, s=1, v=0) Node(f=1, w=1, s=1, v=0)\n",
      "Node(f=0, w=1, s=0, v=0) Node(f=1, w=1, s=0, v=1)\n",
      "Node(f=0, w=1, s=0, v=0) Node(f=1, w=1, s=1, v=0)\n",
      "Node(f=0, w=1, s=0, v=1) Node(f=1, w=1, s=0, v=1)\n",
      "Node(f=0, w=1, s=0, v=1) Node(f=1, w=1, s=1, v=1)\n",
      "Node(f=1, w=0, s=1, v=0) Node(f=0, w=0, s=0, v=0)\n",
      "Node(f=1, w=0, s=1, v=0) Node(f=0, w=0, s=1, v=0)\n",
      "Node(f=1, w=0, s=1, v=1) Node(f=0, w=0, s=0, v=1)\n",
      "Node(f=1, w=0, s=1, v=1) Node(f=0, w=0, s=1, v=0)\n",
      "Node(f=1, w=1, s=0, v=1) Node(f=0, w=0, s=0, v=1)\n",
      "Node(f=1, w=1, s=0, v=1) Node(f=0, w=1, s=0, v=0)\n",
      "Node(f=1, w=1, s=0, v=1) Node(f=0, w=1, s=0, v=1)\n",
      "Node(f=1, w=1, s=1, v=0) Node(f=0, w=0, s=1, v=0)\n",
      "Node(f=1, w=1, s=1, v=0) Node(f=0, w=1, s=0, v=0)\n",
      "Node(f=1, w=1, s=1, v=1) Node(f=0, w=1, s=0, v=1)\n"
     ]
    }
   ],
   "source": [
    "n = len(g.nodes)\n",
    "for i in range(n):\n",
    "    for j in range(n):\n",
    "        if g.edges[i][j]:\n",
    "            print(g.nodes[i], g.nodes[j])"
   ]
  },
  {
   "cell_type": "markdown",
   "id": "3068d490",
   "metadata": {},
   "source": [
    "## 家庭过河"
   ]
  },
  {
   "cell_type": "markdown",
   "id": "1098ab91",
   "metadata": {},
   "source": [
    "爸爸 妈妈 儿子 女儿 保姆  狗，要过河，只有一条船，船一次只能乘坐2人（小孩和狗也算一个人），只有爸爸妈妈和保姆会划船。妈妈不在的时候，爸爸会打女儿，爸爸不在的时候，妈妈会打儿子，保姆不在的时候，狗会咬人。如何过河。"
   ]
  },
  {
   "cell_type": "code",
   "execution_count": null,
   "id": "d6ba3868",
   "metadata": {},
   "outputs": [],
   "source": []
  },
  {
   "cell_type": "code",
   "execution_count": 470,
   "id": "262b52bd",
   "metadata": {},
   "outputs": [],
   "source": [
    "@dataclass\n",
    "class Node:\n",
    "    \n",
    "    dad: str\n",
    "    mum: str\n",
    "    son: str\n",
    "    dau: str\n",
    "    nan: str\n",
    "    dog: str\n",
    "    \n",
    "    def __post_init__(self):\n",
    "        self.uid = self.dad + self.mum + self.son + self.dau + self.nan + self.dog\n",
    "    \n",
    "    def __eq__(self, other):\n",
    "        return self.uid == other.uid\n",
    "\n",
    "class PassRiver:\n",
    "    \n",
    "    def __init__(self):\n",
    "        self.node_num = self.init_graph()\n",
    "        self.visited = [False] * self.node_num\n",
    "        self.path = [0] * self.node_num\n",
    "    \n",
    "    def permute(self, lst, target: int) -> List[List[str]]:\n",
    "        track = []\n",
    "        res = []\n",
    "        length = len(lst)\n",
    "        def backtrack():\n",
    "            if len(track) == target:\n",
    "                res.append(track.copy())\n",
    "                return\n",
    "            for i in range(length):\n",
    "                track.append(lst[i])\n",
    "                backtrack()\n",
    "                track.pop()\n",
    "        backtrack()\n",
    "        return res\n",
    "\n",
    "    def is_visited(self, i: int) -> bool:\n",
    "        return self.visited[i]\n",
    "    \n",
    "    def locate(self, v: Node) -> int:\n",
    "        for i in range(self.node_num):\n",
    "            curr = self.nodes[i]\n",
    "            if curr == v:\n",
    "                return i\n",
    "        return -1\n",
    "    \n",
    "    def is_safe(self, v: Node) -> bool:\n",
    "        if (\n",
    "            (v.mum != v.dad and (v.dad == v.dau or v.mum == v.son)) or\n",
    "            (v.nan != v.dog)\n",
    "        ):\n",
    "            return False\n",
    "        return True\n",
    "    \n",
    "    def _get_unequal_num(self, ni: Node, nj: Node, ignore: str) -> int:\n",
    "        k = 0\n",
    "        for prop in  Node.__dict__[\"__annotations__\"]:\n",
    "            if prop == ignore:\n",
    "                continue\n",
    "            if getattr(ni, prop) != getattr(nj, prop):\n",
    "                k += 1\n",
    "        return k\n",
    "    \n",
    "    def is_connected(self, i: int, j: int) -> bool:\n",
    "        ni = self.nodes[i]\n",
    "        nj = self.nodes[j]\n",
    "        # 只考虑状态转移，因为不符合规定的Node已经排除了\n",
    "        if (\n",
    "            ni.dad != nj.dad and self._get_unequal_num(ni, nj, \"dad\") <= 1 or\n",
    "            ni.mum != nj.mum and self._get_unequal_num(ni, nj, \"mum\") <= 1 or\n",
    "            ni.nan != nj.nan and self._get_unequal_num(ni, nj, \"nan\") == 1\n",
    "        ):\n",
    "            return True\n",
    "        return False\n",
    "    \n",
    "    def init_graph(self):\n",
    "        self.nodes = []\n",
    "        num = 0\n",
    "        all_pers = self.permute([\"0\", \"1\"], 6)\n",
    "        for v in all_pers:\n",
    "            nd = Node(*v)\n",
    "            if self.is_safe(nd):\n",
    "                self.nodes.append(nd)\n",
    "                num += 1\n",
    "        self.edges = []\n",
    "        self.edges = [[0]*num for i in range(num)]\n",
    "        for i in range(num):\n",
    "            tmp = []\n",
    "            for j in range(num):\n",
    "#                 if j < i and i - j == 1:\n",
    "#                     continue\n",
    "#                 ni, nj = self.nodes[i], self.nodes[j]\n",
    "#                 diff = abs(ni.uid.count(\"1\") - nj.uid.count(\"1\"))\n",
    "#                 if diff not in [1, 2]:\n",
    "#                     continue\n",
    "                if self.is_connected(i, j):\n",
    "                    self.edges[i][j] = True\n",
    "                    tmp.append(j)\n",
    "#             self.edges.append(tmp)\n",
    "        return num\n",
    "    \n",
    "    def print_path(self, i: int, j: int) -> None:\n",
    "        k = i\n",
    "        print(k, self.nodes[k])\n",
    "        while k != j:\n",
    "            k = self.path[k]\n",
    "            print(k, self.nodes[k])\n",
    "    \n",
    "    def dfs(self, i: int, j: int) -> None:\n",
    "        self.visited[i] = True\n",
    "        for k in range(self.node_num):\n",
    "            \n",
    "            # i到k是联通的，而且k和j都没有访问过\n",
    "            if (\n",
    "                self.edges[i][k] \n",
    "                and not self.is_visited(k) \n",
    "                and not self.is_visited(j)\n",
    "            ):\n",
    "                self.path[i] = k\n",
    "                self.dfs(k, j)\n",
    "    \n",
    "    def solve(self):\n",
    "        vs = Node(*[\"0\"] * 6)\n",
    "        ve = Node(*[\"1\"] * 6)\n",
    "        i = self.locate(vs)\n",
    "        j = self.locate(ve)\n",
    "        print(i, j)\n",
    "        # 从第i个到第j个\n",
    "        self.dfs(i, j)\n",
    "        # 如果第j个已经到了，打印路径\n",
    "        if self.visited[j]:\n",
    "            self.print_path(i, j)"
   ]
  },
  {
   "cell_type": "code",
   "execution_count": 471,
   "id": "dc242981",
   "metadata": {},
   "outputs": [
    {
     "data": {
      "text/plain": [
       "'\\n# 爸妈儿女保狗\\n111111 => 000000\\n\\n010111 => 101000\\n110111 <= 001000\\n\\n000111 => 111000\\n010111 <= 101000\\n\\n010100 => 101011\\n110100 <= 001011\\n\\n000100 => 111011\\n010100 <= 101011\\n\\n000000 => 111111\\n'"
      ]
     },
     "execution_count": 471,
     "metadata": {},
     "output_type": "execute_result"
    }
   ],
   "source": [
    "\"\"\"\n",
    "# 爸妈儿女保狗\n",
    "111111 => 000000\n",
    "\n",
    "010111 => 101000\n",
    "110111 <= 001000\n",
    "\n",
    "000111 => 111000\n",
    "010111 <= 101000\n",
    "\n",
    "010100 => 101011\n",
    "110100 <= 001011\n",
    "\n",
    "000100 => 111011\n",
    "010100 <= 101011\n",
    "\n",
    "000000 => 111111\n",
    "\"\"\""
   ]
  },
  {
   "cell_type": "code",
   "execution_count": 472,
   "id": "132bf44b",
   "metadata": {},
   "outputs": [],
   "source": [
    "pr = PassRiver()"
   ]
  },
  {
   "cell_type": "code",
   "execution_count": 473,
   "id": "b3722116",
   "metadata": {},
   "outputs": [
    {
     "name": "stdout",
     "output_type": "stream",
     "text": [
      "0 19\n",
      "0 Node(dad='0', mum='0', son='0', dau='0', nan='0', dog='0')\n",
      "1 Node(dad='0', mum='0', son='0', dau='0', nan='1', dog='1')\n",
      "9 Node(dad='0', mum='1', son='0', dau='1', nan='1', dog='1')\n",
      "3 Node(dad='0', mum='0', son='0', dau='1', nan='1', dog='1')\n",
      "2 Node(dad='0', mum='0', son='0', dau='1', nan='0', dog='0')\n",
      "8 Node(dad='0', mum='1', son='0', dau='1', nan='0', dog='0')\n",
      "6 Node(dad='0', mum='0', son='1', dau='1', nan='0', dog='0')\n",
      "7 Node(dad='0', mum='0', son='1', dau='1', nan='1', dog='1')\n",
      "11 Node(dad='1', mum='0', son='1', dau='0', nan='1', dog='1')\n",
      "5 Node(dad='0', mum='0', son='1', dau='0', nan='1', dog='1')\n",
      "4 Node(dad='0', mum='0', son='1', dau='0', nan='0', dog='0')\n",
      "10 Node(dad='1', mum='0', son='1', dau='0', nan='0', dog='0')\n",
      "18 Node(dad='1', mum='1', son='1', dau='1', nan='0', dog='0')\n",
      "19 Node(dad='1', mum='1', son='1', dau='1', nan='1', dog='1')\n"
     ]
    }
   ],
   "source": [
    "pr.solve()"
   ]
  },
  {
   "cell_type": "code",
   "execution_count": null,
   "id": "ec44458d",
   "metadata": {},
   "outputs": [],
   "source": []
  },
  {
   "cell_type": "code",
   "execution_count": 458,
   "id": "5bac26b2",
   "metadata": {},
   "outputs": [
    {
     "data": {
      "text/plain": [
       "400"
      ]
     },
     "execution_count": 458,
     "metadata": {},
     "output_type": "execute_result"
    }
   ],
   "source": [
    "sum([len(v) for v in pr.edges])"
   ]
  },
  {
   "cell_type": "code",
   "execution_count": 459,
   "id": "cc9cbe3f",
   "metadata": {},
   "outputs": [],
   "source": [
    "std = [\n",
    "    \"000000, 101000\",\n",
    "    \"101000, 001000\",\n",
    "    \"001000, 111000\",\n",
    "    \"111000, 101000\",\n",
    "    \"101000, 101011\",\n",
    "    \"101011, 001011\",\n",
    "    \"001011, 111011\",\n",
    "    \"111011, 101011\",\n",
    "    \"101011, 111111\"\n",
    "]"
   ]
  },
  {
   "cell_type": "code",
   "execution_count": 460,
   "id": "7b2f1443",
   "metadata": {
    "scrolled": true
   },
   "outputs": [
    {
     "data": {
      "text/plain": [
       "(0, 10, 4, 16, 10, 11, 5, 17, 11, 19)"
      ]
     },
     "execution_count": 460,
     "metadata": {},
     "output_type": "execute_result"
    }
   ],
   "source": [
    "0, 10, 4, 16, 10, 11, 5, 17, 11, 19"
   ]
  },
  {
   "cell_type": "code",
   "execution_count": 447,
   "id": "e8fd27d0",
   "metadata": {},
   "outputs": [],
   "source": [
    "graph = pr.edges"
   ]
  },
  {
   "cell_type": "code",
   "execution_count": 448,
   "id": "2d003e5b",
   "metadata": {},
   "outputs": [
    {
     "data": {
      "text/plain": [
       "[(0, '000000'),\n",
       " (1, '000011'),\n",
       " (2, '000100'),\n",
       " (3, '000111'),\n",
       " (4, '001000'),\n",
       " (5, '001011'),\n",
       " (6, '001100'),\n",
       " (7, '001111'),\n",
       " (8, '010100'),\n",
       " (9, '010111'),\n",
       " (10, '101000'),\n",
       " (11, '101011'),\n",
       " (12, '110000'),\n",
       " (13, '110011'),\n",
       " (14, '110100'),\n",
       " (15, '110111'),\n",
       " (16, '111000'),\n",
       " (17, '111011'),\n",
       " (18, '111100'),\n",
       " (19, '111111')]"
      ]
     },
     "execution_count": 448,
     "metadata": {},
     "output_type": "execute_result"
    }
   ],
   "source": [
    "[(i,v.uid) for i, v in enumerate(pr.nodes)]"
   ]
  },
  {
   "cell_type": "code",
   "execution_count": 449,
   "id": "ac17a19d",
   "metadata": {},
   "outputs": [
    {
     "data": {
      "text/plain": [
       "[(0, [1, 8, 10, 12]),\n",
       " (1, [9, 11, 13]),\n",
       " (2, [3, 8, 14]),\n",
       " (3, [9, 15]),\n",
       " (4, [5, 10, 16]),\n",
       " (5, [11, 17]),\n",
       " (6, [7, 18]),\n",
       " (7, [19]),\n",
       " (8, [0, 2, 9, 14, 18]),\n",
       " (9, [1, 3, 15, 19]),\n",
       " (10, [0, 4, 11, 16, 18]),\n",
       " (11, [1, 5, 17, 19]),\n",
       " (12, [0, 13]),\n",
       " (13, [1]),\n",
       " (14, [2, 8, 15]),\n",
       " (15, [3, 9]),\n",
       " (16, [4, 10, 17]),\n",
       " (17, [5, 11]),\n",
       " (18, [6, 8, 10, 19]),\n",
       " (19, [7, 9, 11])]"
      ]
     },
     "execution_count": 449,
     "metadata": {},
     "output_type": "execute_result"
    }
   ],
   "source": [
    "[(i,v) for (i,v) in enumerate(graph)]"
   ]
  },
  {
   "cell_type": "code",
   "execution_count": 389,
   "id": "702185fe",
   "metadata": {},
   "outputs": [],
   "source": [
    "from collections import deque"
   ]
  },
  {
   "cell_type": "code",
   "execution_count": 401,
   "id": "b3b75a1e",
   "metadata": {},
   "outputs": [],
   "source": [
    "d = deque([0]*3, maxlen=3)"
   ]
  },
  {
   "cell_type": "code",
   "execution_count": 402,
   "id": "24957666",
   "metadata": {},
   "outputs": [],
   "source": [
    "d.append(4)"
   ]
  },
  {
   "cell_type": "code",
   "execution_count": null,
   "id": "d0e91411",
   "metadata": {},
   "outputs": [],
   "source": []
  },
  {
   "cell_type": "code",
   "execution_count": 450,
   "id": "c2553ce3",
   "metadata": {},
   "outputs": [],
   "source": [
    "def allPathsSourceTarget(graph: List[List[int]]) -> List[List[int]]:\n",
    "    res = []\n",
    "    path = []\n",
    "    length = len(graph)\n",
    "    visited = [0] * length\n",
    "    def traverse(graph, idx, path):\n",
    "        if visited[idx] > 0:\n",
    "            return\n",
    "        visited[idx] += 1\n",
    "        # 添加节点\n",
    "        path.append(idx)\n",
    "        # 遍历结束（idx没法再增加）\n",
    "        if idx == length - 1:\n",
    "            res.append(path.copy())\n",
    "\n",
    "        # 执行当前节点的邻接节点，结果会添加到路径里\n",
    "        for v in graph[idx]:\n",
    "            traverse(graph, v, path)\n",
    "\n",
    "        # 弹出刚刚添加进去的节点\n",
    "        path.pop()\n",
    "        visited[idx] -= 1\n",
    "\n",
    "    traverse(graph, 0, path)\n",
    "    return res"
   ]
  },
  {
   "cell_type": "code",
   "execution_count": 451,
   "id": "b16dd5bd",
   "metadata": {},
   "outputs": [],
   "source": [
    "graph1 = [[1,2],[3],[3],[]]"
   ]
  },
  {
   "cell_type": "code",
   "execution_count": 452,
   "id": "5f3debfd",
   "metadata": {},
   "outputs": [],
   "source": [
    "res = allPathsSourceTarget(graph)"
   ]
  },
  {
   "cell_type": "code",
   "execution_count": 453,
   "id": "6d2ecd24",
   "metadata": {},
   "outputs": [
    {
     "data": {
      "text/plain": [
       "80"
      ]
     },
     "execution_count": 453,
     "metadata": {},
     "output_type": "execute_result"
    }
   ],
   "source": [
    "len(res)"
   ]
  },
  {
   "cell_type": "code",
   "execution_count": 454,
   "id": "0f8cdc50",
   "metadata": {},
   "outputs": [
    {
     "data": {
      "text/plain": [
       "[[0, 1, 9, 19],\n",
       " [0, 1, 11, 19],\n",
       " [0, 8, 2, 3, 9, 1, 11, 19],\n",
       " [0, 8, 2, 3, 9, 19],\n",
       " [0, 8, 2, 3, 15, 9, 1, 11, 19],\n",
       " [0, 8, 2, 3, 15, 9, 19],\n",
       " [0, 8, 2, 14, 15, 3, 9, 1, 11, 19],\n",
       " [0, 8, 2, 14, 15, 3, 9, 19],\n",
       " [0, 8, 2, 14, 15, 9, 1, 11, 19],\n",
       " [0, 8, 2, 14, 15, 9, 19],\n",
       " [0, 8, 9, 1, 11, 19],\n",
       " [0, 8, 9, 19],\n",
       " [0, 8, 14, 2, 3, 9, 1, 11, 19],\n",
       " [0, 8, 14, 2, 3, 9, 19],\n",
       " [0, 8, 14, 2, 3, 15, 9, 1, 11, 19],\n",
       " [0, 8, 14, 2, 3, 15, 9, 19],\n",
       " [0, 8, 14, 15, 3, 9, 1, 11, 19],\n",
       " [0, 8, 14, 15, 3, 9, 19],\n",
       " [0, 8, 14, 15, 9, 1, 11, 19],\n",
       " [0, 8, 14, 15, 9, 19],\n",
       " [0, 8, 18, 6, 7, 19],\n",
       " [0, 8, 18, 10, 4, 5, 11, 1, 9, 19],\n",
       " [0, 8, 18, 10, 4, 5, 11, 19],\n",
       " [0, 8, 18, 10, 4, 5, 17, 11, 1, 9, 19],\n",
       " [0, 8, 18, 10, 4, 5, 17, 11, 19],\n",
       " [0, 8, 18, 10, 4, 16, 17, 5, 11, 1, 9, 19],\n",
       " [0, 8, 18, 10, 4, 16, 17, 5, 11, 19],\n",
       " [0, 8, 18, 10, 4, 16, 17, 11, 1, 9, 19],\n",
       " [0, 8, 18, 10, 4, 16, 17, 11, 19],\n",
       " [0, 8, 18, 10, 11, 1, 9, 19],\n",
       " [0, 8, 18, 10, 11, 19],\n",
       " [0, 8, 18, 10, 16, 4, 5, 11, 1, 9, 19],\n",
       " [0, 8, 18, 10, 16, 4, 5, 11, 19],\n",
       " [0, 8, 18, 10, 16, 4, 5, 17, 11, 1, 9, 19],\n",
       " [0, 8, 18, 10, 16, 4, 5, 17, 11, 19],\n",
       " [0, 8, 18, 10, 16, 17, 5, 11, 1, 9, 19],\n",
       " [0, 8, 18, 10, 16, 17, 5, 11, 19],\n",
       " [0, 8, 18, 10, 16, 17, 11, 1, 9, 19],\n",
       " [0, 8, 18, 10, 16, 17, 11, 19],\n",
       " [0, 8, 18, 19],\n",
       " [0, 10, 4, 5, 11, 1, 9, 19],\n",
       " [0, 10, 4, 5, 11, 19],\n",
       " [0, 10, 4, 5, 17, 11, 1, 9, 19],\n",
       " [0, 10, 4, 5, 17, 11, 19],\n",
       " [0, 10, 4, 16, 17, 5, 11, 1, 9, 19],\n",
       " [0, 10, 4, 16, 17, 5, 11, 19],\n",
       " [0, 10, 4, 16, 17, 11, 1, 9, 19],\n",
       " [0, 10, 4, 16, 17, 11, 19],\n",
       " [0, 10, 11, 1, 9, 19],\n",
       " [0, 10, 11, 19],\n",
       " [0, 10, 16, 4, 5, 11, 1, 9, 19],\n",
       " [0, 10, 16, 4, 5, 11, 19],\n",
       " [0, 10, 16, 4, 5, 17, 11, 1, 9, 19],\n",
       " [0, 10, 16, 4, 5, 17, 11, 19],\n",
       " [0, 10, 16, 17, 5, 11, 1, 9, 19],\n",
       " [0, 10, 16, 17, 5, 11, 19],\n",
       " [0, 10, 16, 17, 11, 1, 9, 19],\n",
       " [0, 10, 16, 17, 11, 19],\n",
       " [0, 10, 18, 6, 7, 19],\n",
       " [0, 10, 18, 8, 2, 3, 9, 1, 11, 19],\n",
       " [0, 10, 18, 8, 2, 3, 9, 19],\n",
       " [0, 10, 18, 8, 2, 3, 15, 9, 1, 11, 19],\n",
       " [0, 10, 18, 8, 2, 3, 15, 9, 19],\n",
       " [0, 10, 18, 8, 2, 14, 15, 3, 9, 1, 11, 19],\n",
       " [0, 10, 18, 8, 2, 14, 15, 3, 9, 19],\n",
       " [0, 10, 18, 8, 2, 14, 15, 9, 1, 11, 19],\n",
       " [0, 10, 18, 8, 2, 14, 15, 9, 19],\n",
       " [0, 10, 18, 8, 9, 1, 11, 19],\n",
       " [0, 10, 18, 8, 9, 19],\n",
       " [0, 10, 18, 8, 14, 2, 3, 9, 1, 11, 19],\n",
       " [0, 10, 18, 8, 14, 2, 3, 9, 19],\n",
       " [0, 10, 18, 8, 14, 2, 3, 15, 9, 1, 11, 19],\n",
       " [0, 10, 18, 8, 14, 2, 3, 15, 9, 19],\n",
       " [0, 10, 18, 8, 14, 15, 3, 9, 1, 11, 19],\n",
       " [0, 10, 18, 8, 14, 15, 3, 9, 19],\n",
       " [0, 10, 18, 8, 14, 15, 9, 1, 11, 19],\n",
       " [0, 10, 18, 8, 14, 15, 9, 19],\n",
       " [0, 10, 18, 19],\n",
       " [0, 12, 13, 1, 9, 19],\n",
       " [0, 12, 13, 1, 11, 19]]"
      ]
     },
     "execution_count": 454,
     "metadata": {},
     "output_type": "execute_result"
    }
   ],
   "source": [
    "res"
   ]
  },
  {
   "cell_type": "code",
   "execution_count": null,
   "id": "2f8a548d",
   "metadata": {},
   "outputs": [],
   "source": []
  },
  {
   "cell_type": "code",
   "execution_count": null,
   "id": "a4370fec",
   "metadata": {},
   "outputs": [],
   "source": []
  },
  {
   "cell_type": "code",
   "execution_count": null,
   "id": "7680a91d",
   "metadata": {},
   "outputs": [],
   "source": []
  },
  {
   "cell_type": "markdown",
   "id": "40e0d0ad",
   "metadata": {},
   "source": [
    "### draft"
   ]
  },
  {
   "cell_type": "code",
   "execution_count": 61,
   "id": "4cdb189d",
   "metadata": {},
   "outputs": [],
   "source": [
    "std = [\n",
    "    (\"dad\", \"son\"),\n",
    "    (\"dad\", \"mum\"),\n",
    "    (\"nanny\", \"dog\"),\n",
    "    (\"dad\", \"mum\"),\n",
    "    (\"mum\", \"dau\")\n",
    "]"
   ]
  },
  {
   "cell_type": "code",
   "execution_count": 1,
   "id": "f37d6717",
   "metadata": {},
   "outputs": [],
   "source": [
    "all_pass = [\n",
    "    (\"dad\", \"son\"),\n",
    "    (\"mum\", \"dau\"),\n",
    "    (\"dad\", \"mum\"),\n",
    "    (\"nanny\", \"dog\"),\n",
    "    (\"dad\", \"nanny\"),\n",
    "    (\"mum\", \"nanny\")\n",
    "]"
   ]
  },
  {
   "cell_type": "code",
   "execution_count": 95,
   "id": "817ce7ac",
   "metadata": {},
   "outputs": [],
   "source": [
    "def check_satisfy(lst):\n",
    "    if \"dad\" in lst and \"dau\" in lst and \"mum\" not in lst:\n",
    "        return False\n",
    "    if \"mum\" in lst and \"son\" in lst and \"dad\" not in lst:\n",
    "        return False\n",
    "    if \"dog\"in lst and \"nanny\" not in lst:\n",
    "        return False\n",
    "    return True"
   ]
  },
  {
   "cell_type": "code",
   "execution_count": 128,
   "id": "d3e546ac",
   "metadata": {},
   "outputs": [],
   "source": [
    "def check_order_satisfy(order):\n",
    "    if not order:\n",
    "        return False\n",
    "    left = set([\"dad\", \"mum\", \"dau\", \"son\", \"nanny\", \"dog\"])\n",
    "    right = set()\n",
    "    for item in order:\n",
    "        for v in item:\n",
    "            if v in [\"son\", \"dau\", \"dog\"]:\n",
    "                left.remove(v)\n",
    "                right.add(v)\n",
    "            else:\n",
    "                right.add(v)\n",
    "        if not (check_satisfy(left) and check_satisfy(right)):\n",
    "            return False\n",
    "    if left:\n",
    "        return False\n",
    "    if len(right) != 6:\n",
    "        return False\n",
    "    return True"
   ]
  },
  {
   "cell_type": "code",
   "execution_count": 129,
   "id": "14852847",
   "metadata": {},
   "outputs": [],
   "source": [
    "def pass_river(cands):\n",
    "    res = []\n",
    "    track = []\n",
    "    length = len(cands)\n",
    "    left, right = set(a), set()\n",
    "    def backtrack(start):\n",
    "        order = track.copy()\n",
    "        if len(order) > 5:\n",
    "            return\n",
    "        if check_order_satisfy(order):\n",
    "            print(order)\n",
    "            res.append(order)\n",
    "#             return\n",
    "        for i in range(length):\n",
    "            track.append(cands[i])\n",
    "            backtrack(i)\n",
    "            track.pop()\n",
    "    backtrack(0)\n",
    "    return res"
   ]
  },
  {
   "cell_type": "code",
   "execution_count": 130,
   "id": "7782bfa3",
   "metadata": {},
   "outputs": [
    {
     "name": "stdout",
     "output_type": "stream",
     "text": [
      "[('dad', 'son'), ('mum', 'dau'), ('nanny', 'dog')]\n",
      "[('dad', 'son'), ('nanny', 'dog'), ('mum', 'dau')]\n",
      "[('mum', 'dau'), ('dad', 'son'), ('nanny', 'dog')]\n",
      "[('mum', 'dau'), ('nanny', 'dog'), ('dad', 'son')]\n",
      "[('nanny', 'dog'), ('dad', 'son'), ('mum', 'dau')]\n",
      "[('nanny', 'dog'), ('mum', 'dau'), ('dad', 'son')]\n"
     ]
    }
   ],
   "source": [
    "res = pass_river(all_pass)"
   ]
  },
  {
   "cell_type": "code",
   "execution_count": null,
   "id": "b31847bc",
   "metadata": {},
   "outputs": [],
   "source": []
  },
  {
   "cell_type": "code",
   "execution_count": null,
   "id": "475bedeb",
   "metadata": {},
   "outputs": [],
   "source": []
  }
 ],
 "metadata": {
  "kernelspec": {
   "display_name": "Python 3",
   "language": "python",
   "name": "python3"
  },
  "language_info": {
   "codemirror_mode": {
    "name": "ipython",
    "version": 3
   },
   "file_extension": ".py",
   "mimetype": "text/x-python",
   "name": "python",
   "nbconvert_exporter": "python",
   "pygments_lexer": "ipython3",
   "version": "3.8.13"
  },
  "latex_envs": {
   "LaTeX_envs_menu_present": true,
   "autoclose": false,
   "autocomplete": true,
   "bibliofile": "biblio.bib",
   "cite_by": "apalike",
   "current_citInitial": 1,
   "eqLabelWithNumbers": true,
   "eqNumInitial": 1,
   "hotkeys": {
    "equation": "Ctrl-E",
    "itemize": "Ctrl-I"
   },
   "labels_anchors": false,
   "latex_user_defs": false,
   "report_style_numbering": false,
   "user_envs_cfg": false
  },
  "toc": {
   "base_numbering": 1,
   "nav_menu": {},
   "number_sections": true,
   "sideBar": true,
   "skip_h1_title": false,
   "title_cell": "Table of Contents",
   "title_sidebar": "Contents",
   "toc_cell": false,
   "toc_position": {
    "height": "789px",
    "left": "379px",
    "top": "111.125px",
    "width": "384px"
   },
   "toc_section_display": true,
   "toc_window_display": true
  }
 },
 "nbformat": 4,
 "nbformat_minor": 5
}
