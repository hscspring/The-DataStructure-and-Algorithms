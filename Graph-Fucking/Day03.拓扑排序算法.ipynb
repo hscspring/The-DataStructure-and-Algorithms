{
 "cells": [
  {
   "cell_type": "markdown",
   "id": "97fd5598",
   "metadata": {},
   "source": [
    "[环检测及拓扑排序算法 :: labuladong 的算法小抄](https://labuladong.github.io/algo/2/22/51/)"
   ]
  },
  {
   "cell_type": "markdown",
   "id": "54ab5c06",
   "metadata": {},
   "source": [
    "你这个学期必须选修 numCourses 门课程，记为 0 到 numCourses - 1 。\n",
    "\n",
    "在选修某些课程之前需要一些先修课程。 先修课程按数组 prerequisites 给出，其中 prerequisites[i] = [ai, bi] ，表示如果要学习课程 ai 则 必须 先学习课程  bi 。\n",
    "\n",
    "例如，先修课程对 [0, 1] 表示：想要学习课程 0 ，你需要先完成课程 1 。\n",
    "请你判断是否可能完成所有课程的学习？如果可以，返回 true ；否则，返回 false 。\n",
    "\n",
    "来源：力扣（LeetCode）\n",
    "\n",
    "链接：https://leetcode.cn/problems/course-schedule"
   ]
  },
  {
   "cell_type": "code",
   "execution_count": 27,
   "id": "31887d6c",
   "metadata": {},
   "outputs": [],
   "source": [
    "from typing import List"
   ]
  },
  {
   "cell_type": "code",
   "execution_count": 36,
   "id": "2f60d1c3",
   "metadata": {},
   "outputs": [],
   "source": [
    "class Solution:\n",
    "    def build_graph(self, num: int, prerequisites: List[List[int]], typ: str = \"adj\") -> List[List[int]]:\n",
    "        g = []\n",
    "        for i in range(num):\n",
    "            g.append([])\n",
    "        for e, s in prerequisites:\n",
    "            g[s].append(e)\n",
    "        return g\n",
    "    def canFinish(self, num: int, prerequisites: List[List[int]]) -> bool:\n",
    "        self.has_circle = False\n",
    "        \n",
    "        g = self.build_graph(num, prerequisites)\n",
    "\n",
    "        def traverse(graph, i):\n",
    "            # 如果已经被标记，说明有环了\n",
    "            if on_path[i]:\n",
    "                self.has_circle = True\n",
    "                return\n",
    "            if visited[i]:\n",
    "                return\n",
    "            \n",
    "            on_path[i] = True\n",
    "            visited[i] = True\n",
    "            for v in graph[i]:\n",
    "                traverse(graph, v)\n",
    "            # 退出时设为False\n",
    "            on_path[i] = False\n",
    "\n",
    "        on_path = [False] * num\n",
    "        visited = [False] * num\n",
    "\n",
    "        for i in range(num):\n",
    "            traverse(g, i)\n",
    "        return not self.has_circle"
   ]
  },
  {
   "cell_type": "code",
   "execution_count": 40,
   "id": "5aba55da",
   "metadata": {},
   "outputs": [],
   "source": [
    "pre1 = [[1,0],[0,1]]\n",
    "pre2 = [[1,0]]"
   ]
  },
  {
   "cell_type": "code",
   "execution_count": 38,
   "id": "b5b973a8",
   "metadata": {},
   "outputs": [],
   "source": [
    "so = Solution()"
   ]
  },
  {
   "cell_type": "code",
   "execution_count": 45,
   "id": "3692b6b1",
   "metadata": {
    "scrolled": true
   },
   "outputs": [
    {
     "name": "stdout",
     "output_type": "stream",
     "text": [
      "[[1], [0]]\n",
      "[[1], []]\n"
     ]
    }
   ],
   "source": [
    "for pre in [pre1, pre2]:\n",
    "    g = so.build_graph(2, pre)\n",
    "    print(g)"
   ]
  },
  {
   "cell_type": "code",
   "execution_count": 39,
   "id": "f08d00bc",
   "metadata": {},
   "outputs": [
    {
     "name": "stdout",
     "output_type": "stream",
     "text": [
      "False\n",
      "True\n"
     ]
    }
   ],
   "source": [
    "for pre in [pre1, pre2]:\n",
    "    res = so.canFinish(2, pre)\n",
    "    print(res)"
   ]
  },
  {
   "cell_type": "markdown",
   "id": "45f3de91",
   "metadata": {},
   "source": [
    "现在你总共有 numCourses 门课需要选，记为 0 到 numCourses - 1。给你一个数组 prerequisites ，其中 prerequisites[i] = [ai, bi] ，表示在选修课程 ai 前 必须 先选修 bi 。\n",
    "\n",
    "例如，想要学习课程 0 ，你需要先完成课程 1 ，我们用一个匹配来表示：[0,1] 。\n",
    "返回你为了学完所有课程所安排的学习顺序。可能会有多个正确的顺序，你只要返回 任意一种 就可以了。如果不可能完成所有课程，返回 一个空数组 。\n",
    "\n",
    "\n",
    "\n",
    "来源：力扣（LeetCode）\n",
    "\n",
    "链接：https://leetcode.cn/problems/course-schedule-ii"
   ]
  },
  {
   "cell_type": "code",
   "execution_count": 131,
   "id": "331dd492",
   "metadata": {},
   "outputs": [],
   "source": [
    "class Solution:\n",
    "    \n",
    "    def build_graph(self, num: int, prerequisites: List[List[int]], typ: str = \"adj\") -> List[List[int]]:\n",
    "        g = []\n",
    "        for i in range(num):\n",
    "            g.append([])\n",
    "        for e, s in prerequisites:\n",
    "            g[s].append(e)\n",
    "        return g\n",
    "    def findOrder(self, num: int, prerequisites: List[List[int]]) -> List[int]:\n",
    "        self.has_circle = False\n",
    "        \n",
    "        # 创建邻接图\n",
    "        g = self.build_graph(num, prerequisites)\n",
    "        on_path = [False] * num\n",
    "        visited = [False] * num\n",
    "        post_order = []\n",
    "        pre_order = []\n",
    "        def traverse(graph, i):\n",
    "            if on_path[i]:\n",
    "                self.has_circle = True\n",
    "                return\n",
    "            if visited[i]:\n",
    "                return\n",
    "            pre_order.append(i)\n",
    "            on_path[i] = True\n",
    "            visited[i] = True\n",
    "            for v in graph[i]:\n",
    "                traverse(graph, v)\n",
    "            \n",
    "            # 后续遍历\n",
    "            post_order.append(i)\n",
    "            # 记得退出时设为 False\n",
    "            on_path[i] = False\n",
    "        \n",
    "        for i in range(num):\n",
    "            traverse(g, i)\n",
    "            # 有环提前返回\n",
    "            if self.has_circle:\n",
    "                return []\n",
    "        res = list(reversed(post_order))\n",
    "        print(\"pre order\", pre_order)\n",
    "        return res"
   ]
  },
  {
   "cell_type": "code",
   "execution_count": 132,
   "id": "b04137e1",
   "metadata": {},
   "outputs": [],
   "source": [
    "n3, p3 = 2, [[1,0]]\n",
    "n4, p4 = 4, [[1,0],[2,0],[3,1],[3,2]]\n",
    "n5, p5 = 1, []"
   ]
  },
  {
   "cell_type": "code",
   "execution_count": 133,
   "id": "f21a6d9c",
   "metadata": {},
   "outputs": [
    {
     "name": "stdout",
     "output_type": "stream",
     "text": [
      "pre order [0, 1]\n",
      "[0, 1]\n",
      "pre order [0, 1, 3, 2]\n",
      "[0, 2, 1, 3]\n",
      "pre order [0]\n",
      "[0]\n"
     ]
    }
   ],
   "source": [
    "so2 = Solution()\n",
    "for n,p in [(n3, p3), (n4, p4), (n5, p5)]:\n",
    "    res = so2.findOrder(n, p)\n",
    "    print(res)"
   ]
  },
  {
   "cell_type": "markdown",
   "id": "aeea2d2f",
   "metadata": {},
   "source": [
    "第二个case，前序遍历结果为：[0,1,3,2]，3的先决课程包括1和2，结果2还没上3就上了。"
   ]
  },
  {
   "cell_type": "code",
   "execution_count": null,
   "id": "2f86844f",
   "metadata": {},
   "outputs": [],
   "source": []
  },
  {
   "cell_type": "code",
   "execution_count": null,
   "id": "ecdb54ba",
   "metadata": {},
   "outputs": [],
   "source": []
  },
  {
   "cell_type": "code",
   "execution_count": null,
   "id": "860d168b",
   "metadata": {},
   "outputs": [],
   "source": []
  }
 ],
 "metadata": {
  "kernelspec": {
   "display_name": "Python 3",
   "language": "python",
   "name": "python3"
  },
  "language_info": {
   "codemirror_mode": {
    "name": "ipython",
    "version": 3
   },
   "file_extension": ".py",
   "mimetype": "text/x-python",
   "name": "python",
   "nbconvert_exporter": "python",
   "pygments_lexer": "ipython3",
   "version": "3.8.13"
  },
  "latex_envs": {
   "LaTeX_envs_menu_present": true,
   "autoclose": false,
   "autocomplete": true,
   "bibliofile": "biblio.bib",
   "cite_by": "apalike",
   "current_citInitial": 1,
   "eqLabelWithNumbers": true,
   "eqNumInitial": 1,
   "hotkeys": {
    "equation": "Ctrl-E",
    "itemize": "Ctrl-I"
   },
   "labels_anchors": false,
   "latex_user_defs": false,
   "report_style_numbering": false,
   "user_envs_cfg": false
  },
  "toc": {
   "base_numbering": 1,
   "nav_menu": {},
   "number_sections": true,
   "sideBar": true,
   "skip_h1_title": false,
   "title_cell": "Table of Contents",
   "title_sidebar": "Contents",
   "toc_cell": false,
   "toc_position": {},
   "toc_section_display": true,
   "toc_window_display": false
  }
 },
 "nbformat": 4,
 "nbformat_minor": 5
}
