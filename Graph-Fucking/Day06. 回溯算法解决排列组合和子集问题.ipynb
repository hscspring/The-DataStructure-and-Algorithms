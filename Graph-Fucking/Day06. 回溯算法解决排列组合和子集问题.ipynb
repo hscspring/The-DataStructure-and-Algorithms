{
 "cells": [
  {
   "cell_type": "markdown",
   "id": "72237d5b",
   "metadata": {},
   "source": [
    "[回溯算法秒杀所有排列 / 组合 / 子集问题 :: labuladong 的算法小抄](https://labuladong.github.io/algo/4/31/107/)"
   ]
  },
  {
   "cell_type": "code",
   "execution_count": 3,
   "id": "c9250eec",
   "metadata": {},
   "outputs": [],
   "source": [
    "from typing import List"
   ]
  },
  {
   "cell_type": "markdown",
   "id": "a11cb733",
   "metadata": {},
   "source": [
    "## 元素无重不可复选\n",
    "\n",
    "记得 i+1"
   ]
  },
  {
   "cell_type": "markdown",
   "id": "52c05e49",
   "metadata": {},
   "source": [
    "### 子集"
   ]
  },
  {
   "cell_type": "markdown",
   "id": "e579c172",
   "metadata": {},
   "source": [
    "给你一个整数数组 nums ，数组中的元素 互不相同 。返回该数组所有可能的子集（幂集）。\n",
    "\n",
    "解集 不能 包含重复的子集。你可以按 任意顺序 返回解集。\n",
    "\n",
    "https://leetcode.cn/problems/subsets/"
   ]
  },
  {
   "cell_type": "code",
   "execution_count": 1,
   "id": "d30fdbeb",
   "metadata": {},
   "outputs": [],
   "source": [
    "nums = [1,2,3]"
   ]
  },
  {
   "cell_type": "code",
   "execution_count": 13,
   "id": "50d4d2c8",
   "metadata": {},
   "outputs": [],
   "source": [
    "class Solution:\n",
    "    def subsets(self, nums: List[int]) -> List[List[int]]:\n",
    "        res = []\n",
    "        track = []\n",
    "        def backtrack(start):\n",
    "            res.append(track.copy())\n",
    "            for i in range(start, len(nums)):\n",
    "                track.append(nums[i])\n",
    "                # i+1防止重复\n",
    "                backtrack(i + 1)\n",
    "                track.pop()\n",
    "        backtrack(0)\n",
    "        return res"
   ]
  },
  {
   "cell_type": "code",
   "execution_count": 14,
   "id": "ee663c4f",
   "metadata": {},
   "outputs": [],
   "source": [
    "so = Solution()"
   ]
  },
  {
   "cell_type": "code",
   "execution_count": 15,
   "id": "d90d89fa",
   "metadata": {},
   "outputs": [
    {
     "data": {
      "text/plain": [
       "[[], [1], [1, 2], [1, 2, 3], [1, 3], [2], [2, 3], [3]]"
      ]
     },
     "execution_count": 15,
     "metadata": {},
     "output_type": "execute_result"
    }
   ],
   "source": [
    "so.subsets(nums)"
   ]
  },
  {
   "cell_type": "markdown",
   "id": "98c0c7c4",
   "metadata": {},
   "source": [
    "### 组合"
   ]
  },
  {
   "cell_type": "markdown",
   "id": "a307644a",
   "metadata": {},
   "source": [
    "给定两个整数 n 和 k，返回范围 [1, n] 中所有可能的 k 个数的组合。\n",
    "\n",
    "你可以按 任何顺序 返回答案。\n",
    "\n",
    "https://leetcode.cn/problems/combinations/"
   ]
  },
  {
   "cell_type": "code",
   "execution_count": 40,
   "id": "8c4929d7",
   "metadata": {},
   "outputs": [],
   "source": [
    "class Solution:\n",
    "    def combine(self, n: int, k: int) -> List[List[int]]:\n",
    "        res = []\n",
    "        track = []\n",
    "        def backtrack(start, n, k):\n",
    "            if len(track) == k:\n",
    "                res.append(track.copy())\n",
    "                return\n",
    "            for i in range(start, n+1):\n",
    "                track.append(i)\n",
    "                # 注意这里是 i+1，防止重复\n",
    "                backtrack(i + 1, n, k)\n",
    "                track.pop()\n",
    "        \n",
    "        backtrack(1, n, k)\n",
    "        return res"
   ]
  },
  {
   "cell_type": "code",
   "execution_count": 41,
   "id": "a5a8f86f",
   "metadata": {},
   "outputs": [],
   "source": [
    "so = Solution()"
   ]
  },
  {
   "cell_type": "code",
   "execution_count": 42,
   "id": "472b1101",
   "metadata": {},
   "outputs": [
    {
     "data": {
      "text/plain": [
       "[[1, 2], [1, 3], [1, 4], [2, 3], [2, 4], [3, 4]]"
      ]
     },
     "execution_count": 42,
     "metadata": {},
     "output_type": "execute_result"
    }
   ],
   "source": [
    "so.combine(4, 2)"
   ]
  },
  {
   "cell_type": "markdown",
   "id": "041e638d",
   "metadata": {},
   "source": [
    "### 排列"
   ]
  },
  {
   "cell_type": "markdown",
   "id": "2c5efab1",
   "metadata": {},
   "source": [
    "给定一个不含重复数字的数组 nums ，返回其 所有可能的全排列 。你可以 按任意顺序 返回答案。\n",
    "\n",
    "https://leetcode.cn/problems/permutations/"
   ]
  },
  {
   "cell_type": "code",
   "execution_count": 49,
   "id": "f20bc8dd",
   "metadata": {},
   "outputs": [],
   "source": [
    "class Solution:\n",
    "    def permute(self, nums: List[int]) -> List[List[int]]:\n",
    "        length = len(nums)\n",
    "        res = []\n",
    "        used = [False] * length\n",
    "        track = []\n",
    "        def backtrack():\n",
    "            if len(track) == length:\n",
    "                res.append(track.copy())\n",
    "            for i in range(length):\n",
    "                if used[i]:\n",
    "                    continue\n",
    "                used[i] = True\n",
    "                track.append(nums[i])\n",
    "                backtrack()\n",
    "                used[i] = False\n",
    "                track.pop()\n",
    "        backtrack()\n",
    "        return res"
   ]
  },
  {
   "cell_type": "code",
   "execution_count": 50,
   "id": "b9c4c607",
   "metadata": {},
   "outputs": [],
   "source": [
    "so = Solution()"
   ]
  },
  {
   "cell_type": "code",
   "execution_count": 51,
   "id": "4ff483f8",
   "metadata": {},
   "outputs": [
    {
     "data": {
      "text/plain": [
       "[[1, 2, 3], [1, 3, 2], [2, 1, 3], [2, 3, 1], [3, 1, 2], [3, 2, 1]]"
      ]
     },
     "execution_count": 51,
     "metadata": {},
     "output_type": "execute_result"
    }
   ],
   "source": [
    "so.permute([1,2,3])"
   ]
  },
  {
   "cell_type": "markdown",
   "id": "e3dcbf15",
   "metadata": {},
   "source": [
    "## 元素可重不可复选\n",
    "\n",
    "记得排序+剪枝"
   ]
  },
  {
   "cell_type": "markdown",
   "id": "c21a607e",
   "metadata": {},
   "source": [
    "### 子集"
   ]
  },
  {
   "cell_type": "markdown",
   "id": "53675f1d",
   "metadata": {},
   "source": [
    "给你一个整数数组 nums ，其中可能包含重复元素，请你返回该数组所有可能的子集（幂集）。\n",
    "\n",
    "解集 不能 包含重复的子集。返回的解集中，子集可以按 任意顺序 排列。\n",
    "\n",
    "来源：力扣（LeetCode）\n",
    "\n",
    "链接：https://leetcode.cn/problems/subsets-ii"
   ]
  },
  {
   "cell_type": "markdown",
   "id": "175e2387",
   "metadata": {},
   "source": [
    "输入：nums = [1,2,2]\n",
    "\n",
    "输出：[[],[1],[1,2],[1,2,2],[2],[2,2]]"
   ]
  },
  {
   "cell_type": "code",
   "execution_count": 94,
   "id": "ba0bb784",
   "metadata": {},
   "outputs": [],
   "source": [
    "class Solution:\n",
    "    def subsetsWithDup(self, nums: List[int]) -> List[List[int]]:\n",
    "        nums = sorted(nums)\n",
    "        length = len(nums)\n",
    "        res = []\n",
    "        track = []\n",
    "        def backtrack(start):\n",
    "            res.append(track.copy())\n",
    "            for i in range(start, length):\n",
    "                if i>start and nums[i] == nums[i-1]:\n",
    "                    continue\n",
    "                track.append(nums[i])\n",
    "                # 防止重复往回取\n",
    "                backtrack(i + 1)\n",
    "                track.pop()\n",
    "        \n",
    "        backtrack(0)\n",
    "        return res"
   ]
  },
  {
   "cell_type": "code",
   "execution_count": 95,
   "id": "6b083eba",
   "metadata": {},
   "outputs": [],
   "source": [
    "so = Solution()"
   ]
  },
  {
   "cell_type": "code",
   "execution_count": 96,
   "id": "53454460",
   "metadata": {
    "scrolled": true
   },
   "outputs": [
    {
     "data": {
      "text/plain": [
       "[[], [1], [1, 2], [1, 2, 2], [2], [2, 2]]"
      ]
     },
     "execution_count": 96,
     "metadata": {},
     "output_type": "execute_result"
    }
   ],
   "source": [
    "so.subsetsWithDup([1,2,2])"
   ]
  },
  {
   "cell_type": "markdown",
   "id": "bfac698b",
   "metadata": {},
   "source": [
    "### 组合"
   ]
  },
  {
   "cell_type": "markdown",
   "id": "43e82fde",
   "metadata": {},
   "source": [
    "给定一个候选人编号的集合 candidates 和一个目标数 target ，找出 candidates 中所有可以使数字和为 target 的组合。\n",
    "\n",
    "candidates 中的每个数字在每个组合中只能使用 一次 。\n",
    "\n",
    "注意：解集不能包含重复的组合。 \n",
    "\n",
    "来源：力扣（LeetCode）\n",
    "\n",
    "链接：https://leetcode.cn/problems/combination-sum-ii\n"
   ]
  },
  {
   "cell_type": "code",
   "execution_count": 102,
   "id": "1ce28659",
   "metadata": {},
   "outputs": [],
   "source": [
    "class Solution:\n",
    "    \n",
    "    def combinationSum2(self, candidates: List[int], target: int) -> List[List[int]]:\n",
    "        length = len(candidates)\n",
    "        nums = sorted(candidates)\n",
    "        res = []\n",
    "        track = []\n",
    "        self.track_sum = 0\n",
    "        def backtrack(start):\n",
    "            if self.track_sum == target:\n",
    "                res.append(track.copy())\n",
    "                return\n",
    "            if self.track_sum > target:\n",
    "                return\n",
    "            for i in range(start, length):\n",
    "                if i > start and nums[i] == nums[i-1]:\n",
    "                    continue\n",
    "                track.append(nums[i])\n",
    "                self.track_sum += nums[i]\n",
    "                backtrack(i + 1)\n",
    "                track.pop()\n",
    "                self.track_sum -= nums[i]\n",
    "        backtrack(0)\n",
    "        return res"
   ]
  },
  {
   "cell_type": "code",
   "execution_count": 103,
   "id": "fcfc3a6a",
   "metadata": {},
   "outputs": [],
   "source": [
    "candidates = [10,1,2,7,6,1,5]\n",
    "target = 8"
   ]
  },
  {
   "cell_type": "code",
   "execution_count": 104,
   "id": "40d9d748",
   "metadata": {},
   "outputs": [],
   "source": [
    "so = Solution()"
   ]
  },
  {
   "cell_type": "code",
   "execution_count": 105,
   "id": "980876fe",
   "metadata": {},
   "outputs": [
    {
     "data": {
      "text/plain": [
       "[[1, 1, 6], [1, 2, 5], [1, 7], [2, 6]]"
      ]
     },
     "execution_count": 105,
     "metadata": {},
     "output_type": "execute_result"
    }
   ],
   "source": [
    "so.combinationSum2(candidates, target)"
   ]
  },
  {
   "cell_type": "markdown",
   "id": "dca518c5",
   "metadata": {},
   "source": [
    "### 排列"
   ]
  },
  {
   "cell_type": "markdown",
   "id": "cfa13f72",
   "metadata": {},
   "source": [
    "给定一个可包含重复数字的序列 nums ，按任意顺序 返回所有不重复的全排列。\n",
    "\n",
    "https://leetcode.cn/problems/permutations-ii/"
   ]
  },
  {
   "cell_type": "code",
   "execution_count": 108,
   "id": "8dcb0ec2",
   "metadata": {},
   "outputs": [],
   "source": [
    "class Solution:\n",
    "    def permuteUnique(self, nums: List[int]) -> List[List[int]]:\n",
    "        nums = sorted(nums)\n",
    "        length = len(nums)\n",
    "        res = []\n",
    "        track = []\n",
    "        used = [False] * length\n",
    "        def backtrack():\n",
    "            if len(track) == length:\n",
    "                res.append(track.copy())\n",
    "                return\n",
    "            for i in range(length):\n",
    "                if used[i]:\n",
    "                    continue\n",
    "                if i > 0 and nums[i] == nums[i-1] and not used[i-1]:\n",
    "                    continue\n",
    "                track.append(nums[i])\n",
    "                used[i] = True\n",
    "                backtrack()\n",
    "                track.pop()\n",
    "                used[i] = False\n",
    "        backtrack()\n",
    "        return res"
   ]
  },
  {
   "cell_type": "code",
   "execution_count": 109,
   "id": "b717b4d2",
   "metadata": {},
   "outputs": [],
   "source": [
    "so = Solution()"
   ]
  },
  {
   "cell_type": "code",
   "execution_count": 111,
   "id": "93f8e5ee",
   "metadata": {},
   "outputs": [
    {
     "data": {
      "text/plain": [
       "[[1, 1, 2], [1, 2, 1], [2, 1, 1]]"
      ]
     },
     "execution_count": 111,
     "metadata": {},
     "output_type": "execute_result"
    }
   ],
   "source": [
    "so.permuteUnique([1,1,2])"
   ]
  },
  {
   "cell_type": "markdown",
   "id": "3a3507b1",
   "metadata": {},
   "source": [
    "## 元素无重可复选"
   ]
  },
  {
   "cell_type": "markdown",
   "id": "bd0af13c",
   "metadata": {},
   "source": [
    "### 组合/子集"
   ]
  },
  {
   "cell_type": "markdown",
   "id": "0aaba112",
   "metadata": {},
   "source": [
    "给你一个 无重复元素 的整数数组 candidates 和一个目标整数 target ，找出 candidates 中可以使数字和为目标数 target 的 所有 不同组合 ，并以列表形式返回。你可以按 任意顺序 返回这些组合。\n",
    "\n",
    "candidates 中的 同一个 数字可以 无限制重复被选取 。如果至少一个数字的被选数量不同，则两种组合是不同的。 \n",
    "\n",
    "对于给定的输入，保证和为 target 的不同组合数少于 150 个。\n",
    "\n",
    "\n",
    "\n",
    "来源：力扣（LeetCode）\n",
    "\n",
    "链接：https://leetcode.cn/problems/combination-sum\n"
   ]
  },
  {
   "cell_type": "code",
   "execution_count": 116,
   "id": "7461c828",
   "metadata": {},
   "outputs": [],
   "source": [
    "class Solution:\n",
    "    def combinationSum(self, candidates: List[int], target: int) -> List[List[int]]:\n",
    "        res = []\n",
    "        track = []\n",
    "        length = len(candidates)\n",
    "        self.track_sum = 0\n",
    "        def backtrack(start):\n",
    "            if self.track_sum == target:\n",
    "                res.append(track.copy())\n",
    "                return\n",
    "            if self.track_sum > target:\n",
    "                return\n",
    "            for i in range(start, length):\n",
    "                self.track_sum += candidates[i]\n",
    "                track.append(candidates[i])\n",
    "                # 注意这里不用i+1，以为你可以重复选择元素\n",
    "                backtrack(i)\n",
    "                track.pop()\n",
    "                self.track_sum -= candidates[i]\n",
    "        backtrack(0)\n",
    "        return res"
   ]
  },
  {
   "cell_type": "code",
   "execution_count": 117,
   "id": "364fd1b4",
   "metadata": {},
   "outputs": [],
   "source": [
    "so = Solution()"
   ]
  },
  {
   "cell_type": "code",
   "execution_count": 118,
   "id": "ca370b63",
   "metadata": {},
   "outputs": [],
   "source": [
    "candidates = [2,3,6,7]\n",
    "target = 7"
   ]
  },
  {
   "cell_type": "code",
   "execution_count": 119,
   "id": "c8c21ec1",
   "metadata": {},
   "outputs": [
    {
     "data": {
      "text/plain": [
       "[[2, 2, 3], [7]]"
      ]
     },
     "execution_count": 119,
     "metadata": {},
     "output_type": "execute_result"
    }
   ],
   "source": [
    "so.combinationSum(candidates, target)"
   ]
  },
  {
   "cell_type": "markdown",
   "id": "fedaa27b",
   "metadata": {},
   "source": [
    "### 排列"
   ]
  },
  {
   "cell_type": "markdown",
   "id": "5a5006d8",
   "metadata": {},
   "source": [
    "nums 数组中的元素无重复且可复选的情况下，会有哪些排列？"
   ]
  },
  {
   "cell_type": "code",
   "execution_count": 120,
   "id": "dce40e6d",
   "metadata": {},
   "outputs": [],
   "source": [
    "class Solution:\n",
    "    def permute(self, nums: List[int]) -> List[List[int]]:\n",
    "        length = len(nums)\n",
    "        res = []\n",
    "        track = []\n",
    "        def backtrack():\n",
    "            if len(track) == length:\n",
    "                res.append(track.copy())\n",
    "                return\n",
    "            for i in range(length):\n",
    "                track.append(nums[i])\n",
    "                backtrack()\n",
    "                track.pop()\n",
    "        backtrack()\n",
    "        return res"
   ]
  },
  {
   "cell_type": "code",
   "execution_count": 121,
   "id": "e92b3fdd",
   "metadata": {},
   "outputs": [],
   "source": [
    "so = Solution()"
   ]
  },
  {
   "cell_type": "code",
   "execution_count": 123,
   "id": "9f2341cd",
   "metadata": {},
   "outputs": [
    {
     "data": {
      "text/plain": [
       "[[1, 1, 1],\n",
       " [1, 1, 2],\n",
       " [1, 1, 3],\n",
       " [1, 2, 1],\n",
       " [1, 2, 2],\n",
       " [1, 2, 3],\n",
       " [1, 3, 1],\n",
       " [1, 3, 2],\n",
       " [1, 3, 3],\n",
       " [2, 1, 1],\n",
       " [2, 1, 2],\n",
       " [2, 1, 3],\n",
       " [2, 2, 1],\n",
       " [2, 2, 2],\n",
       " [2, 2, 3],\n",
       " [2, 3, 1],\n",
       " [2, 3, 2],\n",
       " [2, 3, 3],\n",
       " [3, 1, 1],\n",
       " [3, 1, 2],\n",
       " [3, 1, 3],\n",
       " [3, 2, 1],\n",
       " [3, 2, 2],\n",
       " [3, 2, 3],\n",
       " [3, 3, 1],\n",
       " [3, 3, 2],\n",
       " [3, 3, 3]]"
      ]
     },
     "execution_count": 123,
     "metadata": {},
     "output_type": "execute_result"
    }
   ],
   "source": [
    "so.permute([1,2,3])"
   ]
  },
  {
   "cell_type": "code",
   "execution_count": 124,
   "id": "1e603df6",
   "metadata": {},
   "outputs": [
    {
     "data": {
      "text/plain": [
       "27"
      ]
     },
     "execution_count": 124,
     "metadata": {},
     "output_type": "execute_result"
    }
   ],
   "source": [
    "len(_)"
   ]
  },
  {
   "cell_type": "markdown",
   "id": "480d6980",
   "metadata": {},
   "source": [
    "## 其他"
   ]
  },
  {
   "cell_type": "markdown",
   "id": "3ffd576a",
   "metadata": {},
   "source": [
    "找出所有相加之和为 n 的 k 个数的组合，且满足下列条件：\n",
    "\n",
    "只使用数字 1 到 9\n",
    "每个数字 最多使用一次 \n",
    "返回 所有可能的有效组合的列表 。该列表不能包含相同的组合两次，组合可以以任何顺序返回。\n",
    "\n",
    "\n",
    "\n",
    "来源：力扣（LeetCode）\n",
    "\n",
    "链接：https://leetcode.cn/problems/combination-sum-iii\n"
   ]
  },
  {
   "cell_type": "code",
   "execution_count": 186,
   "id": "d308835a",
   "metadata": {},
   "outputs": [],
   "source": [
    "class Solution:\n",
    "    def combinationSum3(self, k: int, n: int) -> List[List[int]]:\n",
    "        res = []\n",
    "        track = []\n",
    "        nums = list(range(1, 10))\n",
    "        length = len(nums)\n",
    "        \n",
    "        def backtrack(start):\n",
    "            if len(track) == k:\n",
    "                if sum(track) == n:\n",
    "                    res.append(track.copy())\n",
    "                return\n",
    "\n",
    "            for i in range(start, length+1):\n",
    "                track.append(i)\n",
    "                backtrack(i + 1)\n",
    "                track.pop()\n",
    "        backtrack(1)\n",
    "        return res"
   ]
  },
  {
   "cell_type": "code",
   "execution_count": 190,
   "id": "f38a15bd",
   "metadata": {},
   "outputs": [],
   "source": [
    "class Solution:\n",
    "    def combinationSum3(self, k: int, n: int) -> List[List[int]]:\n",
    "        res = []\n",
    "        track = []\n",
    "        nums = list(range(1, 10))\n",
    "        length = len(nums)\n",
    "        self.track_sum = 0\n",
    "        def backtrack(start):\n",
    "            if len(track) == k and self.track_sum == n:\n",
    "                res.append(track.copy())\n",
    "                return\n",
    "            if self.track_sum > n:\n",
    "                return\n",
    "\n",
    "            for i in range(start, length+1):\n",
    "                track.append(i)\n",
    "                self.track_sum += i\n",
    "                backtrack(i + 1)\n",
    "                track.pop()\n",
    "                self.track_sum -= i\n",
    "        backtrack(1)\n",
    "        return res"
   ]
  },
  {
   "cell_type": "code",
   "execution_count": 187,
   "id": "e6c83c81",
   "metadata": {},
   "outputs": [],
   "source": [
    "k=3\n",
    "n=7"
   ]
  },
  {
   "cell_type": "code",
   "execution_count": 188,
   "id": "d3aad137",
   "metadata": {},
   "outputs": [],
   "source": [
    "so = Solution()"
   ]
  },
  {
   "cell_type": "code",
   "execution_count": 189,
   "id": "0e7d6449",
   "metadata": {},
   "outputs": [
    {
     "data": {
      "text/plain": [
       "[[1, 2, 3, 4, 5, 6, 7, 8, 9]]"
      ]
     },
     "execution_count": 189,
     "metadata": {},
     "output_type": "execute_result"
    }
   ],
   "source": [
    "so.combinationSum3(9, 45)"
   ]
  },
  {
   "cell_type": "code",
   "execution_count": null,
   "id": "6639efd1",
   "metadata": {},
   "outputs": [],
   "source": []
  },
  {
   "cell_type": "code",
   "execution_count": null,
   "id": "4d21e609",
   "metadata": {},
   "outputs": [],
   "source": []
  },
  {
   "cell_type": "code",
   "execution_count": null,
   "id": "740237c3",
   "metadata": {},
   "outputs": [],
   "source": []
  },
  {
   "cell_type": "code",
   "execution_count": null,
   "id": "4d2eb47b",
   "metadata": {},
   "outputs": [],
   "source": []
  },
  {
   "cell_type": "code",
   "execution_count": null,
   "id": "cc8b5cfb",
   "metadata": {},
   "outputs": [],
   "source": []
  }
 ],
 "metadata": {
  "kernelspec": {
   "display_name": "Python 3",
   "language": "python",
   "name": "python3"
  },
  "language_info": {
   "codemirror_mode": {
    "name": "ipython",
    "version": 3
   },
   "file_extension": ".py",
   "mimetype": "text/x-python",
   "name": "python",
   "nbconvert_exporter": "python",
   "pygments_lexer": "ipython3",
   "version": "3.8.13"
  },
  "latex_envs": {
   "LaTeX_envs_menu_present": true,
   "autoclose": false,
   "autocomplete": true,
   "bibliofile": "biblio.bib",
   "cite_by": "apalike",
   "current_citInitial": 1,
   "eqLabelWithNumbers": true,
   "eqNumInitial": 1,
   "hotkeys": {
    "equation": "Ctrl-E",
    "itemize": "Ctrl-I"
   },
   "labels_anchors": false,
   "latex_user_defs": false,
   "report_style_numbering": false,
   "user_envs_cfg": false
  },
  "toc": {
   "base_numbering": 1,
   "nav_menu": {},
   "number_sections": true,
   "sideBar": true,
   "skip_h1_title": false,
   "title_cell": "Table of Contents",
   "title_sidebar": "Contents",
   "toc_cell": false,
   "toc_position": {
    "height": "calc(100% - 180px)",
    "left": "10px",
    "top": "150px",
    "width": "165px"
   },
   "toc_section_display": true,
   "toc_window_display": true
  }
 },
 "nbformat": 4,
 "nbformat_minor": 5
}
