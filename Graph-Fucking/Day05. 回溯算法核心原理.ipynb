{
 "cells": [
  {
   "cell_type": "markdown",
   "id": "bcaf849f",
   "metadata": {},
   "source": [
    "[回溯算法解题套路框架 :: labuladong 的算法小抄](https://labuladong.github.io/algo/4/31/105/)"
   ]
  },
  {
   "cell_type": "markdown",
   "id": "3f378eee",
   "metadata": {},
   "source": [
    "给定一个不含重复数字的数组 nums ，返回其 所有可能的全排列 。你可以 按任意顺序 返回答案。\n",
    "\n",
    "https://leetcode.cn/problems/permutations/"
   ]
  },
  {
   "cell_type": "code",
   "execution_count": 2,
   "id": "c67a3e88",
   "metadata": {},
   "outputs": [],
   "source": [
    "from typing import List"
   ]
  },
  {
   "cell_type": "code",
   "execution_count": 18,
   "id": "f1443d22",
   "metadata": {},
   "outputs": [],
   "source": [
    "def permute(s: str or list):\n",
    "    res = []\n",
    "    def func(prefix, suffix):\n",
    "        if not suffix:\n",
    "            res.append(prefix)\n",
    "        for i in range(len(suffix)):\n",
    "            func(prefix+[suffix[i]], suffix[:i]+suffix[i+1:])\n",
    "    func([], s)\n",
    "    return res"
   ]
  },
  {
   "cell_type": "code",
   "execution_count": 19,
   "id": "a4a34126",
   "metadata": {},
   "outputs": [
    {
     "data": {
      "text/plain": [
       "[[1, 2, 3], [1, 3, 2], [2, 1, 3], [2, 3, 1], [3, 1, 2], [3, 2, 1]]"
      ]
     },
     "execution_count": 19,
     "metadata": {},
     "output_type": "execute_result"
    }
   ],
   "source": [
    "permute([1,2,3])"
   ]
  },
  {
   "cell_type": "code",
   "execution_count": 163,
   "id": "76602ddd",
   "metadata": {},
   "outputs": [],
   "source": [
    "class Solution:\n",
    "    \"\"\"\n",
    "    // 路径：记录在 track 中\n",
    "    // 选择列表：nums 中不存在于 track 的那些元素（used[i] 为 false）\n",
    "    // 结束条件：nums 中的元素全都在 track 中出现\n",
    "    \"\"\"\n",
    "    def permute(self, nums: List[int]) -> List[List[int]]:\n",
    "        res = []\n",
    "        track = []\n",
    "        used = [False] * len(nums)\n",
    "        \n",
    "        def backtrack(nums, track, used):\n",
    "            # 停止条件\n",
    "            if len(track) == len(nums):\n",
    "#                 if len(set(track)) == len(track):\n",
    "                res.append(track.copy())\n",
    "                return\n",
    "            for i, v in enumerate(nums):\n",
    "                # 如果已经在track中，跳过\n",
    "                if v in track:\n",
    "                    continue\n",
    "#                 if used[i]:\n",
    "#                     continue\n",
    "                # 选择\n",
    "                track.append(v)\n",
    "#                 used[i] = True\n",
    "                backtrack(nums, track, used)\n",
    "                track.pop()\n",
    "#                 used[i] = False\n",
    "        \n",
    "        backtrack(nums, track, used)\n",
    "        return res"
   ]
  },
  {
   "cell_type": "code",
   "execution_count": 164,
   "id": "786866e5",
   "metadata": {},
   "outputs": [],
   "source": [
    "nums1 = [1,2,3]\n",
    "nums2 = [0,1]\n",
    "nums3 = [1]"
   ]
  },
  {
   "cell_type": "code",
   "execution_count": 165,
   "id": "64ec942a",
   "metadata": {
    "scrolled": true
   },
   "outputs": [
    {
     "name": "stdout",
     "output_type": "stream",
     "text": [
      "[[1, 2, 3], [1, 3, 2], [2, 1, 3], [2, 3, 1], [3, 1, 2], [3, 2, 1]]\n",
      "[[0, 1], [1, 0]]\n",
      "[[1]]\n"
     ]
    }
   ],
   "source": [
    "so = Solution()\n",
    "for ns in [nums1, nums2, nums3]:\n",
    "    res = so.permute(ns)\n",
    "    print(res)"
   ]
  },
  {
   "cell_type": "markdown",
   "id": "4bf45fdb",
   "metadata": {},
   "source": [
    "按照国际象棋的规则，皇后可以攻击与之处在同一行或同一列或同一斜线上的棋子。\n",
    "\n",
    "n 皇后问题 研究的是如何将 n 个皇后放置在 n×n 的棋盘上，并且使皇后彼此之间不能相互攻击。\n",
    "\n",
    "给你一个整数 n ，返回所有不同的 n 皇后问题 的解决方案。\n",
    "\n",
    "每一种解法包含一个不同的 n 皇后问题 的棋子放置方案，该方案中 'Q' 和 '.' 分别代表了皇后和空位。\n",
    "\n",
    "来源：力扣（LeetCode）\n",
    "\n",
    "链接：https://leetcode.cn/problems/n-queens\n",
    "\n"
   ]
  },
  {
   "cell_type": "code",
   "execution_count": 145,
   "id": "5fe5a3ee",
   "metadata": {},
   "outputs": [],
   "source": [
    "class Solution:\n",
    "    \"\"\"\n",
    "    // 路径：board 中小于 row 的那些行都已经成功放置了皇后\n",
    "    // 选择列表：第 row 行的所有列都是放置皇后的选择\n",
    "    // 结束条件：row 超过 board 的最后一行\n",
    "    \"\"\"\n",
    "    def solveNQueens(self, n: int) -> List[List[str]]:\n",
    "        res = []\n",
    "        board = [[\".\"] * n for i in range(n)]\n",
    "        \n",
    "        # 是否可以在 (row,col) 放置皇后\n",
    "        def is_valid(row: int, col: int) -> bool:\n",
    "            # 检查列\n",
    "            for i in range(row):\n",
    "                if board[i][col] == \"Q\":\n",
    "                    return False\n",
    "            \n",
    "            # 检查右上\n",
    "            i = row - 1\n",
    "            j = col + 1\n",
    "            while i >= 0 and j < n:\n",
    "                if board[i][j] == \"Q\":\n",
    "                    return False\n",
    "                i -= 1\n",
    "                j += 1\n",
    "            \n",
    "            # 检查左上\n",
    "            i = row - 1\n",
    "            j = col - 1\n",
    "            while i >= 0 and j >= 0:\n",
    "                if board[i][j] == \"Q\":\n",
    "                    return False\n",
    "                i -= 1\n",
    "                j -= 1\n",
    "            return True\n",
    "\n",
    "            \n",
    "        def backtrack(row: int):\n",
    "            print(row)\n",
    "            if row == n:\n",
    "                res.append([\"\".join(r) for r in board])\n",
    "                return\n",
    "            for col in range(n):\n",
    "                if not is_valid(row, col):\n",
    "                    continue\n",
    "                board[row][col] = \"Q\"\n",
    "                backtrack(row + 1)\n",
    "                board[row][col] = \".\"\n",
    "        backtrack(0)\n",
    "        return res"
   ]
  },
  {
   "cell_type": "code",
   "execution_count": 146,
   "id": "3a181aac",
   "metadata": {},
   "outputs": [],
   "source": [
    "so = Solution()"
   ]
  },
  {
   "cell_type": "code",
   "execution_count": 147,
   "id": "66b00c12",
   "metadata": {
    "scrolled": true
   },
   "outputs": [
    {
     "name": "stdout",
     "output_type": "stream",
     "text": [
      "0\n",
      "1\n",
      "2\n",
      "2\n",
      "3\n",
      "1\n",
      "2\n",
      "3\n",
      "4\n",
      "1\n",
      "2\n",
      "3\n",
      "4\n",
      "1\n",
      "2\n",
      "3\n",
      "2\n"
     ]
    },
    {
     "data": {
      "text/plain": [
       "[['.Q..', '...Q', 'Q...', '..Q.'], ['..Q.', 'Q...', '...Q', '.Q..']]"
      ]
     },
     "execution_count": 147,
     "metadata": {},
     "output_type": "execute_result"
    }
   ],
   "source": [
    "so.solveNQueens(4)"
   ]
  },
  {
   "cell_type": "code",
   "execution_count": null,
   "id": "983f1f31",
   "metadata": {},
   "outputs": [],
   "source": []
  },
  {
   "cell_type": "code",
   "execution_count": null,
   "id": "bc4cb036",
   "metadata": {},
   "outputs": [],
   "source": []
  },
  {
   "cell_type": "code",
   "execution_count": 142,
   "id": "1f7061b4",
   "metadata": {},
   "outputs": [],
   "source": [
    "class Solution:\n",
    "    \n",
    "    def solveNQueens(self, n: int) -> List[List[str]]:\n",
    "        def build():\n",
    "            need = []\n",
    "            for i in range(n):\n",
    "                tmp = [\".\"] * n\n",
    "                tmp[a[i]] = \"Q\"\n",
    "                need.append(\"\".join(tmp))\n",
    "            return need\n",
    "        \n",
    "        res = []\n",
    "        a = [None] * n\n",
    "        def queen(cur):\n",
    "            if cur == n:\n",
    "                res.append(build())\n",
    "                return\n",
    "            for col in range(n):\n",
    "                a[cur], flag = col, True\n",
    "                for row in range(cur):\n",
    "                    if a[row] == col or abs(col - a[row]) == cur - row:\n",
    "                        flag = False\n",
    "                        break\n",
    "                if flag:\n",
    "                    queen(cur+1)\n",
    "        queen(0)\n",
    "        return res"
   ]
  },
  {
   "cell_type": "code",
   "execution_count": 143,
   "id": "a3afec55",
   "metadata": {},
   "outputs": [],
   "source": [
    "so = Solution()"
   ]
  },
  {
   "cell_type": "code",
   "execution_count": 144,
   "id": "2c9bb97c",
   "metadata": {},
   "outputs": [
    {
     "data": {
      "text/plain": [
       "[['.Q..', '...Q', 'Q...', '..Q.'], ['..Q.', 'Q...', '...Q', '.Q..']]"
      ]
     },
     "execution_count": 144,
     "metadata": {},
     "output_type": "execute_result"
    }
   ],
   "source": [
    "so.solveNQueens(4)"
   ]
  },
  {
   "cell_type": "code",
   "execution_count": null,
   "id": "9014329a",
   "metadata": {},
   "outputs": [],
   "source": []
  },
  {
   "cell_type": "code",
   "execution_count": null,
   "id": "9610cd03",
   "metadata": {},
   "outputs": [],
   "source": []
  },
  {
   "cell_type": "code",
   "execution_count": null,
   "id": "6773c7d4",
   "metadata": {},
   "outputs": [],
   "source": []
  },
  {
   "cell_type": "code",
   "execution_count": null,
   "id": "f0c085d2",
   "metadata": {},
   "outputs": [],
   "source": []
  },
  {
   "cell_type": "code",
   "execution_count": null,
   "id": "c102f149",
   "metadata": {},
   "outputs": [],
   "source": []
  },
  {
   "cell_type": "code",
   "execution_count": null,
   "id": "fad13670",
   "metadata": {},
   "outputs": [],
   "source": []
  }
 ],
 "metadata": {
  "kernelspec": {
   "display_name": "Python 3",
   "language": "python",
   "name": "python3"
  },
  "language_info": {
   "codemirror_mode": {
    "name": "ipython",
    "version": 3
   },
   "file_extension": ".py",
   "mimetype": "text/x-python",
   "name": "python",
   "nbconvert_exporter": "python",
   "pygments_lexer": "ipython3",
   "version": "3.8.13"
  },
  "latex_envs": {
   "LaTeX_envs_menu_present": true,
   "autoclose": false,
   "autocomplete": true,
   "bibliofile": "biblio.bib",
   "cite_by": "apalike",
   "current_citInitial": 1,
   "eqLabelWithNumbers": true,
   "eqNumInitial": 1,
   "hotkeys": {
    "equation": "Ctrl-E",
    "itemize": "Ctrl-I"
   },
   "labels_anchors": false,
   "latex_user_defs": false,
   "report_style_numbering": false,
   "user_envs_cfg": false
  },
  "toc": {
   "base_numbering": 1,
   "nav_menu": {},
   "number_sections": true,
   "sideBar": true,
   "skip_h1_title": false,
   "title_cell": "Table of Contents",
   "title_sidebar": "Contents",
   "toc_cell": false,
   "toc_position": {},
   "toc_section_display": true,
   "toc_window_display": false
  }
 },
 "nbformat": 4,
 "nbformat_minor": 5
}
