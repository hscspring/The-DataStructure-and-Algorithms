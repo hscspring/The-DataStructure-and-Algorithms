{
 "cells": [
  {
   "cell_type": "markdown",
   "id": "98dc4ae6",
   "metadata": {},
   "source": [
    "[并查集（Union-Find）算法 :: labuladong 的算法小抄](https://labuladong.github.io/algo/2/22/53/)"
   ]
  },
  {
   "cell_type": "markdown",
   "id": "8ee9664f",
   "metadata": {},
   "source": [
    "给定一个由表示变量之间关系的字符串方程组成的数组，每个字符串方程 equations[i] 的长度为 4，并采用两种不同的形式之一：\"a==b\" 或 \"a!=b\"。在这里，a 和 b 是小写字母（不一定不同），表示单字母变量名。\n",
    "\n",
    "只有当可以将整数分配给变量名，以便满足所有给定的方程时才返回 true，否则返回 false。 \n",
    "\n",
    "来源：力扣（LeetCode）\n",
    "\n",
    "链接：https://leetcode.cn/problems/satisfiability-of-equality-equations"
   ]
  },
  {
   "cell_type": "markdown",
   "id": "a508daa2",
   "metadata": {},
   "source": [
    "思路：\n",
    "\n",
    "使用并查集，将所有相等关系弄成连通分量，然后检查不相等关系是否会破坏连通性。"
   ]
  },
  {
   "cell_type": "code",
   "execution_count": 74,
   "id": "c558aa77",
   "metadata": {},
   "outputs": [],
   "source": [
    "from typing import List"
   ]
  },
  {
   "cell_type": "code",
   "execution_count": 247,
   "id": "3b1f28dd",
   "metadata": {},
   "outputs": [],
   "source": [
    "class UF:\n",
    "    \n",
    "    def __init__(self, n: int, compress: bool = True):\n",
    "        self._count = n\n",
    "        self.parent = list(range(n))\n",
    "        self.size = [1] * n\n",
    "        self.compress = compress\n",
    "        \n",
    "    def union(self, p: int, q: int):\n",
    "        \n",
    "        root_p = self.find(p)\n",
    "        root_q = self.find(q)\n",
    "        # 相等直接返回\n",
    "        if root_p == root_q:\n",
    "            return\n",
    "        self.parent[root_q] = root_p\n",
    "#         if self.size[root_p] > self.size[root_q]:\n",
    "#             self.parent[root_q] = root_p\n",
    "#             self.size[root_p] += self.size[root_q]\n",
    "#         else:\n",
    "#             self.parent[root_p] = root_q\n",
    "#             self.size[root_q] += self.size[root_p]\n",
    "        self._count -= 1\n",
    "    \n",
    "    def connected(self, p: int, q: int) -> bool:\n",
    "        root_p = self.find(p)\n",
    "        root_q = self.find(q)\n",
    "        return root_p == root_q\n",
    "    \n",
    "    def find(self, x: int):\n",
    "        # 根节点满足相等\n",
    "        print(\"GO\")\n",
    "        if not self.compress:\n",
    "            return self.find_normal(x)\n",
    "        else:\n",
    "            return self.find_compress(x)\n",
    "    \n",
    "    def find_normal(self, x: int) -> int:\n",
    "        while self.parent[x] != x:\n",
    "            print(\"X normal: \", x)\n",
    "            x = self.parent[x]\n",
    "        return x\n",
    "    \n",
    "    def find_compress(self, x: int) -> int:\n",
    "        # 路径压缩\n",
    "        if self.parent[x] != x:\n",
    "            print(\"X compress: \", self.parent[x])\n",
    "            self.parent[x] = self.find(self.parent[x])\n",
    "        return self.parent[x]\n",
    "    \n",
    "    def count(self) -> int:\n",
    "        return self._count"
   ]
  },
  {
   "cell_type": "code",
   "execution_count": 287,
   "id": "8ab92e2b",
   "metadata": {},
   "outputs": [],
   "source": [
    "uf = UF(5, True)"
   ]
  },
  {
   "cell_type": "markdown",
   "id": "345d2d82",
   "metadata": {},
   "source": [
    "``` \n",
    "     2     4\n",
    "  0  1  3 \n",
    "```"
   ]
  },
  {
   "cell_type": "code",
   "execution_count": 288,
   "id": "2de4c84b",
   "metadata": {},
   "outputs": [
    {
     "name": "stdout",
     "output_type": "stream",
     "text": [
      "GO\n",
      "GO\n",
      "GO\n",
      "GO\n",
      "X compress:  0\n",
      "GO\n",
      "GO\n",
      "X compress:  0\n",
      "GO\n",
      "X compress:  1\n",
      "GO\n",
      "GO\n"
     ]
    }
   ],
   "source": [
    "uf.union(0,2)\n",
    "uf.union(1,2)\n",
    "uf.union(2,3)"
   ]
  },
  {
   "cell_type": "code",
   "execution_count": 289,
   "id": "8dcfacca",
   "metadata": {},
   "outputs": [
    {
     "name": "stdout",
     "output_type": "stream",
     "text": [
      "GO\n",
      "GO\n",
      "X compress:  1\n",
      "GO\n"
     ]
    },
    {
     "data": {
      "text/plain": [
       "True"
      ]
     },
     "execution_count": 289,
     "metadata": {},
     "output_type": "execute_result"
    }
   ],
   "source": [
    "uf.connected(1, 3)"
   ]
  },
  {
   "cell_type": "code",
   "execution_count": 290,
   "id": "bb51b3d9",
   "metadata": {},
   "outputs": [
    {
     "data": {
      "text/plain": [
       "2"
      ]
     },
     "execution_count": 290,
     "metadata": {},
     "output_type": "execute_result"
    }
   ],
   "source": [
    "uf.count()"
   ]
  },
  {
   "cell_type": "code",
   "execution_count": 291,
   "id": "e3d7b091",
   "metadata": {},
   "outputs": [
    {
     "data": {
      "text/plain": [
       "[1, 1, 1, 1, 4]"
      ]
     },
     "execution_count": 291,
     "metadata": {},
     "output_type": "execute_result"
    }
   ],
   "source": [
    "uf.parent"
   ]
  },
  {
   "cell_type": "code",
   "execution_count": 298,
   "id": "c938ac0c",
   "metadata": {},
   "outputs": [
    {
     "name": "stdout",
     "output_type": "stream",
     "text": [
      "GO\n",
      "X compress:  1\n",
      "GO\n"
     ]
    },
    {
     "data": {
      "text/plain": [
       "1"
      ]
     },
     "execution_count": 298,
     "metadata": {},
     "output_type": "execute_result"
    }
   ],
   "source": [
    "uf.find(3)"
   ]
  },
  {
   "cell_type": "code",
   "execution_count": 292,
   "id": "f6514ffb",
   "metadata": {
    "scrolled": true
   },
   "outputs": [
    {
     "name": "stdout",
     "output_type": "stream",
     "text": [
      "GO\n",
      "X compress:  1\n",
      "GO\n",
      "root:  1\n",
      "GO\n",
      "root:  1\n",
      "GO\n",
      "X compress:  1\n",
      "GO\n",
      "root:  1\n",
      "GO\n",
      "X compress:  1\n",
      "GO\n",
      "root:  1\n"
     ]
    }
   ],
   "source": [
    "for i in range(4):\n",
    "    print(\"root: \", uf.find(i))"
   ]
  },
  {
   "cell_type": "code",
   "execution_count": 286,
   "id": "48684859",
   "metadata": {},
   "outputs": [
    {
     "data": {
      "text/plain": [
       "[1, 1, 1, 1, 4]"
      ]
     },
     "execution_count": 286,
     "metadata": {},
     "output_type": "execute_result"
    }
   ],
   "source": [
    "# 压缩\n",
    "uf.parent"
   ]
  },
  {
   "cell_type": "code",
   "execution_count": null,
   "id": "e3a0615b",
   "metadata": {},
   "outputs": [],
   "source": []
  },
  {
   "cell_type": "code",
   "execution_count": null,
   "id": "82b27de8",
   "metadata": {},
   "outputs": [],
   "source": []
  },
  {
   "cell_type": "code",
   "execution_count": 259,
   "id": "c06375c7",
   "metadata": {},
   "outputs": [
    {
     "data": {
      "text/plain": [
       "[1, 1, 0, 1, 4]"
      ]
     },
     "execution_count": 259,
     "metadata": {},
     "output_type": "execute_result"
    }
   ],
   "source": [
    "uf.parent"
   ]
  },
  {
   "cell_type": "code",
   "execution_count": 280,
   "id": "f9d15b2e",
   "metadata": {},
   "outputs": [
    {
     "name": "stdout",
     "output_type": "stream",
     "text": [
      "GO\n",
      "X normal:  0\n",
      "root:  1\n",
      "GO\n",
      "root:  1\n",
      "GO\n",
      "X normal:  2\n",
      "X normal:  0\n",
      "root:  1\n",
      "GO\n",
      "X normal:  3\n",
      "root:  1\n"
     ]
    }
   ],
   "source": [
    "for i in range(4):\n",
    "    print(\"root: \", uf.find(i))"
   ]
  },
  {
   "cell_type": "code",
   "execution_count": null,
   "id": "12f2deab",
   "metadata": {},
   "outputs": [],
   "source": []
  },
  {
   "cell_type": "code",
   "execution_count": null,
   "id": "22a7be7f",
   "metadata": {},
   "outputs": [],
   "source": []
  },
  {
   "cell_type": "code",
   "execution_count": 211,
   "id": "62e07545",
   "metadata": {},
   "outputs": [],
   "source": [
    "class Solution:\n",
    "    def equationsPossible(self, equations: List[str], compress: bool = True) -> bool:\n",
    "        self.uf = UF(26, compress)\n",
    "        data = []\n",
    "        for eq in equations:\n",
    "            x = ord(eq[0]) - 97\n",
    "            y = ord(eq[3]) - 97\n",
    "            to = eq[1]\n",
    "            data.append((x, to, y))\n",
    "        \n",
    "        for v in data:\n",
    "            if v[1] == \"=\":\n",
    "                self.uf.union(v[0], v[2])\n",
    "        for v in data:\n",
    "            if v[1] == \"!\":\n",
    "                if self.uf.connected(v[0], v[2]):\n",
    "                    return False\n",
    "        return True"
   ]
  },
  {
   "cell_type": "code",
   "execution_count": 212,
   "id": "7e3ff0fd",
   "metadata": {},
   "outputs": [],
   "source": [
    "so = Solution()"
   ]
  },
  {
   "cell_type": "code",
   "execution_count": 213,
   "id": "ad91a8db",
   "metadata": {},
   "outputs": [],
   "source": [
    "e1 = [\"a==b\",\"b!=a\"]\n",
    "e2 = [\"b==a\",\"a==b\"]\n",
    "e3 = [\"a==b\",\"b==c\",\"a==c\"]\n",
    "e4 = [\"a==b\",\"b!=c\",\"c==a\"]\n",
    "e5 = [\"c==c\",\"b==d\",\"x!=z\"]"
   ]
  },
  {
   "cell_type": "code",
   "execution_count": 214,
   "id": "6fc58164",
   "metadata": {},
   "outputs": [
    {
     "name": "stdout",
     "output_type": "stream",
     "text": [
      "X normal:  1\n",
      "False\n",
      "X normal:  0\n",
      "True\n",
      "X normal:  1\n",
      "X normal:  2\n",
      "True\n",
      "X normal:  1\n",
      "X normal:  0\n",
      "False\n",
      "True\n"
     ]
    }
   ],
   "source": [
    "for e in [e1, e2, e3, e4, e5]:\n",
    "    res = so.equationsPossible(e, False)\n",
    "    print(res)"
   ]
  },
  {
   "cell_type": "code",
   "execution_count": null,
   "id": "c31d7044",
   "metadata": {},
   "outputs": [],
   "source": []
  },
  {
   "cell_type": "code",
   "execution_count": null,
   "id": "a2ccb344",
   "metadata": {},
   "outputs": [],
   "source": []
  }
 ],
 "metadata": {
  "kernelspec": {
   "display_name": "Python 3",
   "language": "python",
   "name": "python3"
  },
  "language_info": {
   "codemirror_mode": {
    "name": "ipython",
    "version": 3
   },
   "file_extension": ".py",
   "mimetype": "text/x-python",
   "name": "python",
   "nbconvert_exporter": "python",
   "pygments_lexer": "ipython3",
   "version": "3.8.13"
  },
  "latex_envs": {
   "LaTeX_envs_menu_present": true,
   "autoclose": false,
   "autocomplete": true,
   "bibliofile": "biblio.bib",
   "cite_by": "apalike",
   "current_citInitial": 1,
   "eqLabelWithNumbers": true,
   "eqNumInitial": 1,
   "hotkeys": {
    "equation": "Ctrl-E",
    "itemize": "Ctrl-I"
   },
   "labels_anchors": false,
   "latex_user_defs": false,
   "report_style_numbering": false,
   "user_envs_cfg": false
  },
  "toc": {
   "base_numbering": 1,
   "nav_menu": {},
   "number_sections": true,
   "sideBar": true,
   "skip_h1_title": false,
   "title_cell": "Table of Contents",
   "title_sidebar": "Contents",
   "toc_cell": false,
   "toc_position": {},
   "toc_section_display": true,
   "toc_window_display": false
  }
 },
 "nbformat": 4,
 "nbformat_minor": 5
}
