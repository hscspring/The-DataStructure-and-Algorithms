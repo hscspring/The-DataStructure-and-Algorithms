{
 "cells": [
  {
   "cell_type": "markdown",
   "id": "ef42efac",
   "metadata": {},
   "source": [
    "[经典动态规划：编辑距离 :: labuladong 的算法小抄](https://labuladong.github.io/algo/3/26/75/)"
   ]
  },
  {
   "cell_type": "code",
   "execution_count": null,
   "id": "cadea2d6",
   "metadata": {},
   "outputs": [],
   "source": []
  },
  {
   "cell_type": "markdown",
   "id": "6bdc5227",
   "metadata": {},
   "source": [
    "## 编辑距离"
   ]
  },
  {
   "cell_type": "markdown",
   "id": "a76fde67",
   "metadata": {},
   "source": [
    "给你两个单词 word1 和 word2， 请返回将 word1 转换成 word2 所使用的最少操作数  。\n",
    "\n",
    "你可以对一个单词进行如下三种操作：\n",
    "\n",
    "插入一个字符\n",
    "删除一个字符\n",
    "替换一个字符\n",
    "\n",
    "来源：力扣（LeetCode）\n",
    "\n",
    "链接：https://leetcode.cn/problems/edit-distance\n"
   ]
  },
  {
   "cell_type": "code",
   "execution_count": 10,
   "id": "0cfc3105",
   "metadata": {},
   "outputs": [],
   "source": [
    "class Solution:\n",
    "    def minDistance(self, word1: str, word2: str) -> int:\n",
    "        m = len(word1) + 1\n",
    "        n = len(word2) + 1\n",
    "        dp = [[0] * n for i in range(m)]\n",
    "        for i in range(1, m):\n",
    "            dp[i][0] = i\n",
    "        for j in range(1, n):\n",
    "            dp[0][j] = j\n",
    "        \n",
    "        for i in range(1, m):\n",
    "            for j in range(1, n):\n",
    "                if word1[i-1] == word2[j-1]:\n",
    "                    dp[i][j] = dp[i-1][j-1]\n",
    "                else:\n",
    "                    dp[i][j] = min(dp[i-1][j], dp[i-1][j-1], dp[i][j-1]) + 1\n",
    "        return dp[-1][-1]"
   ]
  },
  {
   "cell_type": "code",
   "execution_count": 11,
   "id": "cd153c42",
   "metadata": {},
   "outputs": [],
   "source": [
    "word1 = \"horse\"\n",
    "word2 = \"ros\""
   ]
  },
  {
   "cell_type": "code",
   "execution_count": 12,
   "id": "dd2b1ae4",
   "metadata": {},
   "outputs": [],
   "source": [
    "so = Solution()"
   ]
  },
  {
   "cell_type": "code",
   "execution_count": 13,
   "id": "74358a81",
   "metadata": {},
   "outputs": [
    {
     "data": {
      "text/plain": [
       "3"
      ]
     },
     "execution_count": 13,
     "metadata": {},
     "output_type": "execute_result"
    }
   ],
   "source": [
    "so.minDistance(word1, word2)"
   ]
  },
  {
   "cell_type": "code",
   "execution_count": 29,
   "id": "b0cc125a",
   "metadata": {},
   "outputs": [],
   "source": [
    "class Solution:\n",
    "    def minDistance(self, word1: str, word2: str) -> int:\n",
    "        m = len(word1)\n",
    "        n = len(word2)\n",
    "        memo = [[-1] * n for i in range(m)]\n",
    "        def dp(i, j):\n",
    "            # base case 是 i 走完 s1 或 j 走完 s2，可以直接返回另一个字符串剩下的长度。\n",
    "            if i == -1: return j + 1\n",
    "            if j == -1: return i + 1\n",
    "            if memo[i][j] != -1:\n",
    "                return memo[i][j]\n",
    "            \n",
    "            if word1[i] == word2[j]:\n",
    "                memo[i][j] = dp(i-1, j-1)\n",
    "            else:\n",
    "                memo[i][j] = min(dp(i-1, j), dp(i, j-1), dp(i-1, j-1)) + 1\n",
    "            return memo[i][j]\n",
    "        \n",
    "        return dp(m-1, n-1)"
   ]
  },
  {
   "cell_type": "code",
   "execution_count": 30,
   "id": "b5390199",
   "metadata": {},
   "outputs": [],
   "source": [
    "so = Solution()"
   ]
  },
  {
   "cell_type": "code",
   "execution_count": 31,
   "id": "75109b3d",
   "metadata": {},
   "outputs": [
    {
     "data": {
      "text/plain": [
       "3"
      ]
     },
     "execution_count": 31,
     "metadata": {},
     "output_type": "execute_result"
    }
   ],
   "source": [
    "so.minDistance(word1, word2)"
   ]
  },
  {
   "cell_type": "code",
   "execution_count": 42,
   "id": "92cf6d0c",
   "metadata": {},
   "outputs": [],
   "source": [
    "def min_edit_cost(s1, s2, ic, dc, rc):\n",
    "    \"\"\"\n",
    "    # 最小编辑代价\n",
    "    给定两个字符串 str1 和 str2，再给定三个整数 ic，dc 和 rc，分别代表插入、删除和替换一个字符的代价，\n",
    "    请输出将 str1 编辑成 str2 的最小代价。\n",
    "    \"\"\"\n",
    "    m, n = len(s1) + 1, len(s2) + 1\n",
    "    dp = [[0] * n for i in range(m)]\n",
    "    for i in range(1, m):\n",
    "        dp[i][0] = i * dc\n",
    "    for i in range(1, n):\n",
    "        dp[0][i] = i * ic\n",
    "    for i in range(1, m):\n",
    "        for j in range(1, n):\n",
    "            if s1[i-1] == s2[j-1]:\n",
    "                dp[i][j] = dp[i-1][j-1]\n",
    "            else:\n",
    "                dp[i][j] = min(dp[i-1][j] + dc, dp[i][j-1] + ic, dp[i-1][j-1] + rc)\n",
    "    return dp[-1][-1]"
   ]
  },
  {
   "cell_type": "code",
   "execution_count": 48,
   "id": "fd0752ce",
   "metadata": {},
   "outputs": [
    {
     "data": {
      "text/plain": [
       "4"
      ]
     },
     "execution_count": 48,
     "metadata": {},
     "output_type": "execute_result"
    }
   ],
   "source": [
    "min_edit_cost(\"ros\", \"hrose\", 2, 3, 2)"
   ]
  },
  {
   "cell_type": "code",
   "execution_count": null,
   "id": "ecd05d83",
   "metadata": {},
   "outputs": [],
   "source": []
  },
  {
   "cell_type": "code",
   "execution_count": null,
   "id": "10a41ebc",
   "metadata": {},
   "outputs": [],
   "source": []
  }
 ],
 "metadata": {
  "kernelspec": {
   "display_name": "Python 3",
   "language": "python",
   "name": "python3"
  },
  "language_info": {
   "codemirror_mode": {
    "name": "ipython",
    "version": 3
   },
   "file_extension": ".py",
   "mimetype": "text/x-python",
   "name": "python",
   "nbconvert_exporter": "python",
   "pygments_lexer": "ipython3",
   "version": "3.8.13"
  },
  "latex_envs": {
   "LaTeX_envs_menu_present": true,
   "autoclose": false,
   "autocomplete": true,
   "bibliofile": "biblio.bib",
   "cite_by": "apalike",
   "current_citInitial": 1,
   "eqLabelWithNumbers": true,
   "eqNumInitial": 1,
   "hotkeys": {
    "equation": "Ctrl-E",
    "itemize": "Ctrl-I"
   },
   "labels_anchors": false,
   "latex_user_defs": false,
   "report_style_numbering": false,
   "user_envs_cfg": false
  },
  "toc": {
   "base_numbering": 1,
   "nav_menu": {},
   "number_sections": true,
   "sideBar": true,
   "skip_h1_title": false,
   "title_cell": "Table of Contents",
   "title_sidebar": "Contents",
   "toc_cell": false,
   "toc_position": {},
   "toc_section_display": true,
   "toc_window_display": false
  }
 },
 "nbformat": 4,
 "nbformat_minor": 5
}
