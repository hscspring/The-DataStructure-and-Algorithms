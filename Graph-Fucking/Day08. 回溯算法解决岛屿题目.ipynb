{
 "cells": [
  {
   "cell_type": "markdown",
   "id": "298c2776",
   "metadata": {},
   "source": [
    "[一文秒杀所有岛屿题目 :: labuladong 的算法小抄](https://labuladong.github.io/algo/4/31/108/)"
   ]
  },
  {
   "cell_type": "code",
   "execution_count": 1,
   "id": "2c1404c4",
   "metadata": {},
   "outputs": [],
   "source": [
    "from typing import List"
   ]
  },
  {
   "cell_type": "markdown",
   "id": "f0794850",
   "metadata": {},
   "source": [
    "## 岛屿数量"
   ]
  },
  {
   "cell_type": "markdown",
   "id": "fc1c37c7",
   "metadata": {},
   "source": [
    "给你一个由 '1'（陆地）和 '0'（水）组成的的二维网格，请你计算网格中岛屿的数量。\n",
    "\n",
    "岛屿总是被水包围，并且每座岛屿只能由水平方向和 / 或竖直方向上相邻的陆地连接形成。\n",
    "\n",
    "此外，你可以假设该网格的四条边均被水包围。\n",
    "\n",
    "来源：力扣（LeetCode）\n",
    "\n",
    "链接：https://leetcode.cn/problems/number-of-islands\n"
   ]
  },
  {
   "cell_type": "code",
   "execution_count": 25,
   "id": "87fa26b3",
   "metadata": {},
   "outputs": [],
   "source": [
    "class Solution:\n",
    "    def numIslands(self, grid: List[List[str]]) -> int:\n",
    "        def dfs(grid, i, j):\n",
    "            m = len(grid)\n",
    "            n = len(grid[0])\n",
    "            if i < 0 or j < 0 or i >= m or j >= n:\n",
    "                return\n",
    "            if grid[i][j] == \"0\":\n",
    "                return\n",
    "            grid[i][j] = \"0\"\n",
    "            dfs(grid, i+1, j)\n",
    "            dfs(grid, i, j+1)\n",
    "            dfs(grid, i-1, j)\n",
    "            dfs(grid, i, j-1)\n",
    "        \n",
    "        res = 0\n",
    "        m = len(grid)\n",
    "        n = len(grid[0])\n",
    "        for i in range(m):\n",
    "            for j in range(n):\n",
    "                if grid[i][j] == \"1\":\n",
    "                    res += 1\n",
    "                    dfs(grid, i, j)\n",
    "        return res"
   ]
  },
  {
   "cell_type": "code",
   "execution_count": 26,
   "id": "1074f04b",
   "metadata": {},
   "outputs": [],
   "source": [
    "grid = [\n",
    "  [\"1\",\"1\",\"1\",\"1\",\"0\"],\n",
    "  [\"1\",\"1\",\"0\",\"1\",\"0\"],\n",
    "  [\"1\",\"1\",\"0\",\"0\",\"0\"],\n",
    "  [\"0\",\"0\",\"0\",\"0\",\"0\"]\n",
    "]\n",
    "\n"
   ]
  },
  {
   "cell_type": "code",
   "execution_count": 27,
   "id": "d95a23e9",
   "metadata": {},
   "outputs": [],
   "source": [
    "so = Solution()"
   ]
  },
  {
   "cell_type": "code",
   "execution_count": 28,
   "id": "d99a447e",
   "metadata": {},
   "outputs": [
    {
     "data": {
      "text/plain": [
       "1"
      ]
     },
     "execution_count": 28,
     "metadata": {},
     "output_type": "execute_result"
    }
   ],
   "source": [
    "so.numIslands(grid)"
   ]
  },
  {
   "cell_type": "markdown",
   "id": "0281d4d3",
   "metadata": {},
   "source": [
    "## 封闭岛屿"
   ]
  },
  {
   "cell_type": "markdown",
   "id": "6752200d",
   "metadata": {},
   "source": [
    "二维矩阵 grid 由 0 （土地）和 1 （水）组成。岛是由最大的 4 个方向连通的 0 组成的群，封闭岛是一个 完全 由 1 包围（左、上、右、下）的岛。\n",
    "\n",
    "请返回 封闭岛屿 的数目。\n",
    "\n",
    "来源：力扣（LeetCode）\n",
    "\n",
    "链接：https://leetcode.cn/problems/number-of-closed-islands"
   ]
  },
  {
   "cell_type": "code",
   "execution_count": 30,
   "id": "098aa236",
   "metadata": {},
   "outputs": [],
   "source": [
    "class Solution:\n",
    "    def closedIsland(self, grid: List[List[int]]) -> int:\n",
    "        def dfs(grid, i, j):\n",
    "            m = len(grid)\n",
    "            n = len(grid[0])\n",
    "            if i < 0 or j < 0 or i >= m or j >= n:\n",
    "                return\n",
    "            if grid[i][j] == 1:\n",
    "                return\n",
    "            grid[i][j] = 1\n",
    "            dfs(grid, i+1, j)\n",
    "            dfs(grid, i, j+1)\n",
    "            dfs(grid, i-1, j)\n",
    "            dfs(grid, i, j-1)\n",
    "        \n",
    "        m = len(grid)\n",
    "        n = len(grid[0])\n",
    "        # 上下淹掉\n",
    "        for j in range(n):\n",
    "            dfs(grid, 0, j)\n",
    "            dfs(grid, m-1, j)\n",
    "        # 左右淹掉\n",
    "        for i in range(m):\n",
    "            dfs(grid, i, 0)\n",
    "            dfs(grid, i, n-1)\n",
    "        \n",
    "        res = 0\n",
    "        for i in range(m):\n",
    "            for j in range(n):\n",
    "                if grid[i][j] == 0:\n",
    "                    res += 1\n",
    "                    dfs(grid, i, j)\n",
    "        return res"
   ]
  },
  {
   "cell_type": "markdown",
   "id": "5a650f8b",
   "metadata": {},
   "source": [
    "## 飞地数量"
   ]
  },
  {
   "cell_type": "markdown",
   "id": "7a4a7309",
   "metadata": {},
   "source": [
    "给你一个大小为 m x n 的二进制矩阵 grid ，其中 0 表示一个海洋单元格、1 表示一个陆地单元格。\n",
    "\n",
    "一次 移动 是指从一个陆地单元格走到另一个相邻（上、下、左、右）的陆地单元格或跨过 grid 的边界。\n",
    "\n",
    "返回网格中 无法 在任意次数的移动中离开网格边界的陆地单元格的数量。\n",
    "\n",
    "来源：力扣（LeetCode）\n",
    "\n",
    "链接：https://leetcode.cn/problems/number-of-enclaves\n"
   ]
  },
  {
   "cell_type": "code",
   "execution_count": 36,
   "id": "92cb75d5",
   "metadata": {},
   "outputs": [],
   "source": [
    "class Solution:\n",
    "    def numEnclaves(self, grid: List[List[int]]) -> int:\n",
    "        def dfs(grid, i, j):\n",
    "            m = len(grid)\n",
    "            n = len(grid[0])\n",
    "            if i < 0 or j < 0 or i >= m or j >= n:\n",
    "                return\n",
    "            if grid[i][j] == 0:\n",
    "                return\n",
    "            grid[i][j] = 0\n",
    "            dfs(grid, i+1, j)\n",
    "            dfs(grid, i, j+1)\n",
    "            dfs(grid, i-1, j)\n",
    "            dfs(grid, i, j-1)\n",
    "        \n",
    "        m = len(grid)\n",
    "        n = len(grid[0])\n",
    "        # 上下淹掉\n",
    "        for j in range(n):\n",
    "            dfs(grid, 0, j)\n",
    "            dfs(grid, m-1, j)\n",
    "        # 左右淹掉\n",
    "        for i in range(m):\n",
    "            dfs(grid, i, 0)\n",
    "            dfs(grid, i, n-1)\n",
    "        \n",
    "        res = 0\n",
    "        for i in range(m):\n",
    "            for j in range(n):\n",
    "                if grid[i][j] == 1:\n",
    "                    res += 1\n",
    "        return res"
   ]
  },
  {
   "cell_type": "code",
   "execution_count": 37,
   "id": "d14b1886",
   "metadata": {},
   "outputs": [],
   "source": [
    "grid = [[0,1,1,0],[0,0,1,0],[0,0,1,0],[0,0,0,0]]"
   ]
  },
  {
   "cell_type": "code",
   "execution_count": 38,
   "id": "efed29f2",
   "metadata": {},
   "outputs": [],
   "source": [
    "so = Solution()"
   ]
  },
  {
   "cell_type": "code",
   "execution_count": 39,
   "id": "af078d9f",
   "metadata": {},
   "outputs": [
    {
     "data": {
      "text/plain": [
       "0"
      ]
     },
     "execution_count": 39,
     "metadata": {},
     "output_type": "execute_result"
    }
   ],
   "source": [
    "so.numEnclaves(grid)"
   ]
  },
  {
   "cell_type": "markdown",
   "id": "c04df35c",
   "metadata": {},
   "source": [
    "## 岛屿最大面积"
   ]
  },
  {
   "cell_type": "markdown",
   "id": "57725a6b",
   "metadata": {},
   "source": [
    "给你一个大小为 m x n 的二进制矩阵 grid 。\n",
    "\n",
    "岛屿 是由一些相邻的 1 (代表土地) 构成的组合，这里的「相邻」要求两个 1 必须在 水平或者竖直的四个方向上 相邻。你可以假设 grid 的四个边缘都被 0（代表水）包围着。\n",
    "\n",
    "岛屿的面积是岛上值为 1 的单元格的数目。\n",
    "\n",
    "计算并返回 grid 中最大的岛屿面积。如果没有岛屿，则返回面积为 0 。\n",
    "\n",
    "\n",
    "\n",
    "来源：力扣（LeetCode）\n",
    "\n",
    "链接：https://leetcode.cn/problems/max-area-of-island\n"
   ]
  },
  {
   "cell_type": "code",
   "execution_count": 48,
   "id": "ee8265b1",
   "metadata": {},
   "outputs": [],
   "source": [
    "class Solution:\n",
    "    def maxAreaOfIsland(self, grid: List[List[int]]) -> int:\n",
    "        def dfs(grid, i, j):\n",
    "            m = len(grid)\n",
    "            n = len(grid[0])\n",
    "            if i < 0 or j < 0 or i >= m or j >= n:\n",
    "                return 0\n",
    "            if grid[i][j] == 0:\n",
    "                return 0\n",
    "            grid[i][j] = 0\n",
    "            \n",
    "            return (\n",
    "                dfs(grid, i+1, j) +\n",
    "                dfs(grid, i, j+1) +\n",
    "                dfs(grid, i-1, j) +\n",
    "                dfs(grid, i, j-1) + 1\n",
    "            )\n",
    "        \n",
    "        m = len(grid)\n",
    "        n = len(grid[0])\n",
    "        res = 0\n",
    "        for i in range(m):\n",
    "            for j in range(n):\n",
    "                if grid[i][j] == 1:\n",
    "                    res = max(res, dfs(grid, i, j))\n",
    "        return res"
   ]
  },
  {
   "cell_type": "code",
   "execution_count": 49,
   "id": "5140f9b2",
   "metadata": {},
   "outputs": [],
   "source": [
    "grid = [[0,0,1,0,0,0,0,1,0,0,0,0,0],[0,0,0,0,0,0,0,1,1,1,0,0,0],[0,1,1,0,1,0,0,0,0,0,0,0,0],[0,1,0,0,1,1,0,0,1,0,1,0,0],[0,1,0,0,1,1,0,0,1,1,1,0,0],[0,0,0,0,0,0,0,0,0,0,1,0,0],[0,0,0,0,0,0,0,1,1,1,0,0,0],[0,0,0,0,0,0,0,1,1,0,0,0,0]]"
   ]
  },
  {
   "cell_type": "code",
   "execution_count": 50,
   "id": "793c0a7e",
   "metadata": {},
   "outputs": [],
   "source": [
    "so = Solution()"
   ]
  },
  {
   "cell_type": "code",
   "execution_count": 51,
   "id": "0a103d9c",
   "metadata": {},
   "outputs": [
    {
     "data": {
      "text/plain": [
       "6"
      ]
     },
     "execution_count": 51,
     "metadata": {},
     "output_type": "execute_result"
    }
   ],
   "source": [
    "so.maxAreaOfIsland(grid)"
   ]
  },
  {
   "cell_type": "markdown",
   "id": "4d1a366a",
   "metadata": {},
   "source": [
    "## 子岛屿数量"
   ]
  },
  {
   "cell_type": "markdown",
   "id": "a8a32ba8",
   "metadata": {},
   "source": [
    "给你两个 m x n 的二进制矩阵 grid1 和 grid2 ，它们只包含 0 （表示水域）和 1 （表示陆地）。一个 岛屿 是由 四个方向 （水平或者竖直）上相邻的 1 组成的区域。任何矩阵以外的区域都视为水域。\n",
    "\n",
    "如果 grid2 的一个岛屿，被 grid1 的一个岛屿 完全 包含，也就是说 grid2 中该岛屿的每一个格子都被 grid1 中同一个岛屿完全包含，那么我们称 grid2 中的这个岛屿为 子岛屿 。\n",
    "\n",
    "请你返回 grid2 中 子岛屿 的 数目 。\n",
    "\n",
    "来源：力扣（LeetCode）\n",
    "\n",
    "链接：https://leetcode.cn/problems/count-sub-islands\n"
   ]
  },
  {
   "cell_type": "markdown",
   "id": "4d17ed6f",
   "metadata": {},
   "source": [
    "当岛屿 B 中所有陆地在岛屿 A 中也是陆地的时候，岛屿 B 是岛屿 A 的子岛。\n",
    "\n",
    "反过来说，如果岛屿 B 中存在一片陆地，在岛屿 A 的对应位置是海水，那么岛屿 B 就不是岛屿 A 的子岛。"
   ]
  },
  {
   "cell_type": "code",
   "execution_count": 57,
   "id": "28a5efed",
   "metadata": {},
   "outputs": [],
   "source": [
    "class Solution:\n",
    "    def countSubIslands(self, grid1: List[List[int]], grid2: List[List[int]]) -> int:\n",
    "        def dfs(grid, i, j):\n",
    "            m = len(grid)\n",
    "            n = len(grid[0])\n",
    "            if i < 0 or j < 0 or i >= m or j >= n:\n",
    "                return\n",
    "            if grid[i][j] == 0:\n",
    "                return\n",
    "            grid[i][j] = 0\n",
    "            dfs(grid, i+1, j)\n",
    "            dfs(grid, i, j+1)\n",
    "            dfs(grid, i-1, j)\n",
    "            dfs(grid, i, j-1)\n",
    "        \n",
    "        m = len(grid1)\n",
    "        n = len(grid1[0])\n",
    "        for i in range(m):\n",
    "            for j in range(n):\n",
    "                # a是海，b是岛，肯定不是子岛，淹掉\n",
    "                if grid1[i][j] == 0 and grid2[i][j] == 1:\n",
    "                    dfs(grid2, i, j)\n",
    "        # 重新统计b的岛数\n",
    "        res = 0\n",
    "        for i in range(m):\n",
    "            for j in range(n):\n",
    "                if grid2[i][j] == 1:\n",
    "                    res += 1\n",
    "                    dfs(grid2, i, j)\n",
    "        return res"
   ]
  },
  {
   "cell_type": "code",
   "execution_count": 58,
   "id": "482436cc",
   "metadata": {},
   "outputs": [],
   "source": [
    "grid1 = [[1,1,1,0,0],[0,1,1,1,1],[0,0,0,0,0],[1,0,0,0,0],[1,1,0,1,1]]\n",
    "grid2 = [[1,1,1,0,0],[0,0,1,1,1],[0,1,0,0,0],[1,0,1,1,0],[0,1,0,1,0]]\n"
   ]
  },
  {
   "cell_type": "code",
   "execution_count": 59,
   "id": "f1620bbd",
   "metadata": {},
   "outputs": [],
   "source": [
    "so = Solution()"
   ]
  },
  {
   "cell_type": "code",
   "execution_count": 60,
   "id": "c2159af6",
   "metadata": {},
   "outputs": [
    {
     "data": {
      "text/plain": [
       "3"
      ]
     },
     "execution_count": 60,
     "metadata": {},
     "output_type": "execute_result"
    }
   ],
   "source": [
    "so.countSubIslands(grid1, grid2)"
   ]
  },
  {
   "cell_type": "markdown",
   "id": "5ca74efb",
   "metadata": {},
   "source": [
    "## 不同的岛屿数量"
   ]
  },
  {
   "cell_type": "code",
   "execution_count": 82,
   "id": "9fc7d3f2",
   "metadata": {},
   "outputs": [],
   "source": [
    "class Solution:\n",
    "    def numDistinctIslands(self, grid: List[List[int]]) -> int:\n",
    "        def dfs(grid, i, j, path, d):\n",
    "            m = len(grid)\n",
    "            n = len(grid[0])\n",
    "            if i < 0 or j < 0 or i >= m or j >= n:\n",
    "                return\n",
    "            if grid[i][j] == 0:\n",
    "                return\n",
    "            grid[i][j] = 0\n",
    "            path.append(d)\n",
    "            dfs(grid, i+1, j, path, 1)\n",
    "            dfs(grid, i, j+1, path, 2)\n",
    "            dfs(grid, i-1, j, path, 3)\n",
    "            dfs(grid, i, j-1, path, 4)\n",
    "            path.append(-d)\n",
    "        \n",
    "        m = len(grid)\n",
    "        n = len(grid[0])\n",
    "        res = set()\n",
    "        for i in range(m):\n",
    "            for j in range(n):\n",
    "                if grid[i][j] == 1:\n",
    "                    path = []\n",
    "                    dfs(grid, i, j, path, 9)\n",
    "                    print(path)\n",
    "                    res.add(\"\".join(map(str, path)))\n",
    "        return len(res)"
   ]
  },
  {
   "cell_type": "code",
   "execution_count": 83,
   "id": "1aa2da1d",
   "metadata": {},
   "outputs": [],
   "source": [
    "grid = [[1,1,0,1,1],[1,0,0,0,0],[0,0,0,0,1],[1,1,0,1,1]]"
   ]
  },
  {
   "cell_type": "code",
   "execution_count": 84,
   "id": "db9fff0a",
   "metadata": {},
   "outputs": [],
   "source": [
    "so = Solution()"
   ]
  },
  {
   "cell_type": "code",
   "execution_count": 85,
   "id": "66b8551d",
   "metadata": {},
   "outputs": [
    {
     "name": "stdout",
     "output_type": "stream",
     "text": [
      "[9, 1, -1, 2, -2, -9]\n",
      "[9, 2, -2, -9]\n",
      "[9, 1, 4, -4, -1, -9]\n",
      "[9, 2, -2, -9]\n"
     ]
    },
    {
     "data": {
      "text/plain": [
       "3"
      ]
     },
     "execution_count": 85,
     "metadata": {},
     "output_type": "execute_result"
    }
   ],
   "source": [
    "so.numDistinctIslands(grid)"
   ]
  },
  {
   "cell_type": "code",
   "execution_count": null,
   "id": "1941a8d1",
   "metadata": {},
   "outputs": [],
   "source": []
  },
  {
   "cell_type": "code",
   "execution_count": null,
   "id": "e804a80a",
   "metadata": {},
   "outputs": [],
   "source": []
  },
  {
   "cell_type": "code",
   "execution_count": null,
   "id": "80af148b",
   "metadata": {},
   "outputs": [],
   "source": []
  }
 ],
 "metadata": {
  "kernelspec": {
   "display_name": "Python 3 (ipykernel)",
   "language": "python",
   "name": "python3"
  },
  "language_info": {
   "codemirror_mode": {
    "name": "ipython",
    "version": 3
   },
   "file_extension": ".py",
   "mimetype": "text/x-python",
   "name": "python",
   "nbconvert_exporter": "python",
   "pygments_lexer": "ipython3",
   "version": "3.9.13"
  },
  "latex_envs": {
   "LaTeX_envs_menu_present": true,
   "autoclose": false,
   "autocomplete": true,
   "bibliofile": "biblio.bib",
   "cite_by": "apalike",
   "current_citInitial": 1,
   "eqLabelWithNumbers": true,
   "eqNumInitial": 1,
   "hotkeys": {
    "equation": "Ctrl-E",
    "itemize": "Ctrl-I"
   },
   "labels_anchors": false,
   "latex_user_defs": false,
   "report_style_numbering": false,
   "user_envs_cfg": false
  },
  "toc": {
   "base_numbering": 1,
   "nav_menu": {},
   "number_sections": true,
   "sideBar": true,
   "skip_h1_title": false,
   "title_cell": "Table of Contents",
   "title_sidebar": "Contents",
   "toc_cell": false,
   "toc_position": {
    "height": "calc(100% - 180px)",
    "left": "10px",
    "top": "150px",
    "width": "384px"
   },
   "toc_section_display": true,
   "toc_window_display": true
  }
 },
 "nbformat": 4,
 "nbformat_minor": 5
}
