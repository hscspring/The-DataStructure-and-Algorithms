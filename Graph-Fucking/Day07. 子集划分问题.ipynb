{
 "cells": [
  {
   "cell_type": "markdown",
   "id": "5099386e",
   "metadata": {},
   "source": [
    "[经典回溯算法：集合划分问题 :: labuladong 的算法小抄](https://labuladong.github.io/algo/4/31/106/)"
   ]
  },
  {
   "cell_type": "code",
   "execution_count": 1,
   "id": "9eb38ef9",
   "metadata": {},
   "outputs": [],
   "source": [
    "from typing import List"
   ]
  },
  {
   "cell_type": "markdown",
   "id": "ff27c82d",
   "metadata": {},
   "source": [
    "给定一个整数数组  nums 和一个正整数 k，找出是否有可能把这个数组分成 k 个非空子集，其总和都相等。\n",
    "\n",
    "https://leetcode.cn/problems/partition-to-k-equal-sum-subsets/"
   ]
  },
  {
   "cell_type": "code",
   "execution_count": 38,
   "id": "2d0305f6",
   "metadata": {},
   "outputs": [],
   "source": [
    "class Solution:\n",
    "    def canPartitionKSubsets(self, nums: List[int], k: int) -> bool:\n",
    "        nums = sorted(nums, reverse=True)\n",
    "        length = len(nums)\n",
    "        if k > length:\n",
    "            return False\n",
    "        if sum(nums) % k != 0:\n",
    "            return False\n",
    "        target = sum(nums) // k\n",
    "        memo = {}\n",
    "        used = [\"0\"] * length\n",
    "        def backstrack(k, bucket, start):\n",
    "            # 所有桶被装满\n",
    "            if k == 0:\n",
    "                return True\n",
    "            state = \"\".join(used)\n",
    "            # 第k个桶好了，换下一个桶\n",
    "            if bucket == target:\n",
    "                res = backstrack(k - 1, 0, 0)\n",
    "                memo[state] = res\n",
    "                return res\n",
    "            \n",
    "            if state in memo:\n",
    "                return memo[state]\n",
    "            \n",
    "            for i in range(start, length):\n",
    "                # i已经被装入其他桶\n",
    "                if used[i] == \"1\":\n",
    "                    continue\n",
    "                # 当前桶装不下target\n",
    "                if nums[i] + bucket > target:\n",
    "                    continue\n",
    "                used[i] = \"1\"\n",
    "                bucket += nums[i]\n",
    "                if (backstrack(k, bucket, i+1)):\n",
    "                    return True\n",
    "                used[i] = \"0\"\n",
    "                bucket -= nums[i]\n",
    "            return False\n",
    "        \n",
    "        res = backstrack(k, 0, 0)\n",
    "        return res"
   ]
  },
  {
   "cell_type": "code",
   "execution_count": 64,
   "id": "10fe1957",
   "metadata": {},
   "outputs": [],
   "source": [
    "nums = [4, 3, 2, 3, 5, 2, 1]\n",
    "k = 4"
   ]
  },
  {
   "cell_type": "code",
   "execution_count": 65,
   "id": "4f506b39",
   "metadata": {},
   "outputs": [],
   "source": [
    "class Solution:\n",
    "    def canPartitionKSubsets(self, nums: List[int], k: int) -> bool:\n",
    "        length = len(nums)\n",
    "        target = sum(nums) // k\n",
    "        def backstrack(k, bucket, start):\n",
    "            if k == 0:\n",
    "                return True\n",
    "            if bucket == target:\n",
    "                return backstrack(k - 1, 0, 0)\n",
    "            \n",
    "            for i in range(start, length):\n",
    "                bucket += nums[i]\n",
    "                if (backstrack(k, bucket, i+1)):\n",
    "                    return True\n",
    "                bucket -= nums[i]\n",
    "            return False\n",
    "        \n",
    "        res = backstrack(k, 0, 0)\n",
    "        return res"
   ]
  },
  {
   "cell_type": "code",
   "execution_count": 66,
   "id": "43cbe13d",
   "metadata": {},
   "outputs": [],
   "source": [
    "so = Solution()"
   ]
  },
  {
   "cell_type": "code",
   "execution_count": 67,
   "id": "cd25167f",
   "metadata": {},
   "outputs": [
    {
     "data": {
      "text/plain": [
       "True"
      ]
     },
     "execution_count": 67,
     "metadata": {},
     "output_type": "execute_result"
    }
   ],
   "source": [
    "so.canPartitionKSubsets(nums, k)"
   ]
  },
  {
   "cell_type": "code",
   "execution_count": null,
   "id": "31b28501",
   "metadata": {},
   "outputs": [],
   "source": []
  },
  {
   "cell_type": "code",
   "execution_count": null,
   "id": "135210c3",
   "metadata": {},
   "outputs": [],
   "source": []
  },
  {
   "cell_type": "code",
   "execution_count": null,
   "id": "693cde22",
   "metadata": {},
   "outputs": [],
   "source": []
  }
 ],
 "metadata": {
  "kernelspec": {
   "display_name": "Python 3",
   "language": "python",
   "name": "python3"
  },
  "language_info": {
   "codemirror_mode": {
    "name": "ipython",
    "version": 3
   },
   "file_extension": ".py",
   "mimetype": "text/x-python",
   "name": "python",
   "nbconvert_exporter": "python",
   "pygments_lexer": "ipython3",
   "version": "3.8.13"
  },
  "latex_envs": {
   "LaTeX_envs_menu_present": true,
   "autoclose": false,
   "autocomplete": true,
   "bibliofile": "biblio.bib",
   "cite_by": "apalike",
   "current_citInitial": 1,
   "eqLabelWithNumbers": true,
   "eqNumInitial": 1,
   "hotkeys": {
    "equation": "Ctrl-E",
    "itemize": "Ctrl-I"
   },
   "labels_anchors": false,
   "latex_user_defs": false,
   "report_style_numbering": false,
   "user_envs_cfg": false
  },
  "toc": {
   "base_numbering": 1,
   "nav_menu": {},
   "number_sections": true,
   "sideBar": true,
   "skip_h1_title": false,
   "title_cell": "Table of Contents",
   "title_sidebar": "Contents",
   "toc_cell": false,
   "toc_position": {},
   "toc_section_display": true,
   "toc_window_display": false
  }
 },
 "nbformat": 4,
 "nbformat_minor": 5
}
