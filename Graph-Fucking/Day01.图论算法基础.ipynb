{
 "cells": [
  {
   "cell_type": "markdown",
   "id": "3febd396",
   "metadata": {},
   "source": [
    "[图论基础及遍历算法 :: labuladong 的算法小抄](https://labuladong.github.io/algo/2/22/50/)"
   ]
  },
  {
   "cell_type": "markdown",
   "id": "1515943d",
   "metadata": {},
   "source": [
    "给你一个有 n 个节点的 有向无环图（DAG），请你找出所有从节点 0 到节点 n-1 的路径并输出（不要求按特定顺序）\n",
    "\n",
    " graph[i] 是一个从节点 i 可以访问的所有节点的列表（即从节点 i 到节点 graph[i][j] 存在一条有向边）。\n",
    "\n",
    "来源：力扣（LeetCode）\n",
    "\n",
    "链接：https://leetcode.cn/problems/all-paths-from-source-to-target"
   ]
  },
  {
   "cell_type": "code",
   "execution_count": 5,
   "id": "1cc9bbb4",
   "metadata": {},
   "outputs": [],
   "source": [
    "from typing import List"
   ]
  },
  {
   "cell_type": "code",
   "execution_count": 6,
   "id": "67a3b203",
   "metadata": {},
   "outputs": [],
   "source": [
    "class Solution:\n",
    "    def allPathsSourceTarget(self, graph: List[List[int]]) -> List[List[int]]:\n",
    "        res = []\n",
    "        path = []\n",
    "        def traverse(graph, idx, path):\n",
    "            # 添加节点\n",
    "            path.append(idx)\n",
    "\n",
    "            # 遍历结束（idx没法再增加）\n",
    "            if idx == len(graph) - 1:\n",
    "                res.append(path.copy())\n",
    "            \n",
    "            # 执行当前节点的邻接节点，结果会添加到路径里\n",
    "            for v in graph[idx]:\n",
    "                traverse(graph, v, path)\n",
    "            \n",
    "            # 弹出刚刚添加进去的节点\n",
    "            path.pop()\n",
    "        \n",
    "        traverse(graph, 0, path)\n",
    "        return res"
   ]
  },
  {
   "cell_type": "code",
   "execution_count": 7,
   "id": "a26a4f71",
   "metadata": {},
   "outputs": [],
   "source": [
    "graph1 = [[1,2],[3],[3],[]]\n",
    "graph2 = [[4,3,1],[3,2,4],[3],[4],[]]"
   ]
  },
  {
   "cell_type": "code",
   "execution_count": 8,
   "id": "479908af",
   "metadata": {},
   "outputs": [
    {
     "name": "stdout",
     "output_type": "stream",
     "text": [
      "[[0, 1, 3], [0, 2, 3]]\n",
      "[[0, 4], [0, 3, 4], [0, 1, 3, 4], [0, 1, 2, 3, 4], [0, 1, 4]]\n"
     ]
    }
   ],
   "source": [
    "so = Solution()\n",
    "for g in [graph1, graph2]:\n",
    "    res = so.allPathsSourceTarget(g)\n",
    "    print(res)"
   ]
  },
  {
   "cell_type": "code",
   "execution_count": null,
   "id": "a50a9385",
   "metadata": {},
   "outputs": [],
   "source": []
  },
  {
   "cell_type": "code",
   "execution_count": null,
   "id": "bb9de4e4",
   "metadata": {},
   "outputs": [],
   "source": []
  },
  {
   "cell_type": "code",
   "execution_count": null,
   "id": "fa473e5f",
   "metadata": {},
   "outputs": [],
   "source": []
  },
  {
   "cell_type": "code",
   "execution_count": null,
   "id": "5689e699",
   "metadata": {},
   "outputs": [],
   "source": []
  }
 ],
 "metadata": {
  "kernelspec": {
   "display_name": "Python 3 (ipykernel)",
   "language": "python",
   "name": "python3"
  },
  "language_info": {
   "codemirror_mode": {
    "name": "ipython",
    "version": 3
   },
   "file_extension": ".py",
   "mimetype": "text/x-python",
   "name": "python",
   "nbconvert_exporter": "python",
   "pygments_lexer": "ipython3",
   "version": "3.9.13"
  },
  "latex_envs": {
   "LaTeX_envs_menu_present": true,
   "autoclose": false,
   "autocomplete": true,
   "bibliofile": "biblio.bib",
   "cite_by": "apalike",
   "current_citInitial": 1,
   "eqLabelWithNumbers": true,
   "eqNumInitial": 1,
   "hotkeys": {
    "equation": "Ctrl-E",
    "itemize": "Ctrl-I"
   },
   "labels_anchors": false,
   "latex_user_defs": false,
   "report_style_numbering": false,
   "user_envs_cfg": false
  },
  "toc": {
   "base_numbering": 1,
   "nav_menu": {},
   "number_sections": true,
   "sideBar": true,
   "skip_h1_title": false,
   "title_cell": "Table of Contents",
   "title_sidebar": "Contents",
   "toc_cell": false,
   "toc_position": {},
   "toc_section_display": true,
   "toc_window_display": false
  }
 },
 "nbformat": 4,
 "nbformat_minor": 5
}
