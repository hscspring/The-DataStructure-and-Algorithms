{
 "cells": [
  {
   "cell_type": "markdown",
   "id": "f8fd69f7",
   "metadata": {},
   "source": [
    "[动态规划设计：最长递增子序列 :: labuladong 的算法小抄](https://labuladong.github.io/algo/3/26/76/)"
   ]
  },
  {
   "cell_type": "code",
   "execution_count": 2,
   "id": "a9e0f1f4",
   "metadata": {},
   "outputs": [],
   "source": [
    "from typing import List"
   ]
  },
  {
   "cell_type": "markdown",
   "id": "fb337cad",
   "metadata": {},
   "source": [
    "## 最长递增子序列"
   ]
  },
  {
   "cell_type": "markdown",
   "id": "dcee8fde",
   "metadata": {},
   "source": [
    "给你一个整数数组 nums ，找到其中最长严格递增子序列的长度。\n",
    "\n",
    "子序列 是由数组派生而来的序列，删除（或不删除）数组中的元素而不改变其余元素的顺序。例如，[3,6,2,7] 是数组 [0,3,1,6,2,2,7] 的子序列。\n",
    "\n",
    "\n",
    "\n",
    "来源：力扣（LeetCode）\n",
    "\n",
    "链接：https://leetcode.cn/problems/longest-increasing-subsequence\n"
   ]
  },
  {
   "cell_type": "code",
   "execution_count": 16,
   "id": "5be44007",
   "metadata": {},
   "outputs": [],
   "source": [
    "class Solution:\n",
    "    def lengthOfLIS(self, nums: List[int]) -> int:\n",
    "        length = len(nums)\n",
    "        dp = [1] * length\n",
    "        for i in range(length):\n",
    "            sub_max = 0\n",
    "            for j in range(i):\n",
    "                if nums[i] > nums[j]:\n",
    "                    sub_max = max(dp[j], sub_max)\n",
    "            dp[i] = sub_max + 1\n",
    "        return max(dp)"
   ]
  },
  {
   "cell_type": "code",
   "execution_count": 17,
   "id": "2fb20f4d",
   "metadata": {},
   "outputs": [],
   "source": [
    "nums = [10,9,2,5,3,7,101,18]"
   ]
  },
  {
   "cell_type": "code",
   "execution_count": 18,
   "id": "37cf9218",
   "metadata": {},
   "outputs": [],
   "source": [
    "so = Solution()"
   ]
  },
  {
   "cell_type": "code",
   "execution_count": 19,
   "id": "17865a97",
   "metadata": {},
   "outputs": [
    {
     "data": {
      "text/plain": [
       "4"
      ]
     },
     "execution_count": 19,
     "metadata": {},
     "output_type": "execute_result"
    }
   ],
   "source": [
    "so.lengthOfLIS(nums)"
   ]
  },
  {
   "cell_type": "markdown",
   "id": "a4019f07",
   "metadata": {},
   "source": [
    "## 俄罗斯套娃"
   ]
  },
  {
   "cell_type": "markdown",
   "id": "66802e06",
   "metadata": {},
   "source": [
    "给你一个二维整数数组 envelopes ，其中 envelopes[i] = [wi, hi] ，表示第 i 个信封的宽度和高度。\n",
    "\n",
    "当另一个信封的宽度和高度都比这个信封大的时候，这个信封就可以放进另一个信封里，如同俄罗斯套娃一样。\n",
    "\n",
    "请计算 最多能有多少个 信封能组成一组 “俄罗斯套娃” 信封（即可以把一个信封放到另一个信封里面）。\n",
    "\n",
    "注意：不允许旋转信封。\n",
    "\n",
    "\n",
    "\n",
    "来源：力扣（LeetCode）\n",
    "\n",
    "链接：https://leetcode.cn/problems/russian-doll-envelopes"
   ]
  },
  {
   "cell_type": "markdown",
   "id": "29eb1514",
   "metadata": {},
   "source": [
    "先对宽度 w 进行升序排序，如果遇到 w 相同的情况，则按照高度 h 降序排序；之后把所有的 h 作为一个数组，在这个数组上计算 LIS 的长度就是答案。\n",
    "\n"
   ]
  },
  {
   "cell_type": "code",
   "execution_count": 25,
   "id": "44ed0fbd",
   "metadata": {},
   "outputs": [],
   "source": [
    "class Solution:\n",
    "    def maxEnvelopes(self, envelopes: List[List[int]]) -> int:\n",
    "        \n",
    "        def length_of_lis(nums):\n",
    "            length = len(nums)\n",
    "            dp = [1] * length\n",
    "            for i in range(length):\n",
    "                sm = 0\n",
    "                for j in range(i):\n",
    "                    if nums[i] > nums[j]:\n",
    "                        sm = max(sm, dp[j])\n",
    "                dp[i] = sm + 1\n",
    "            return max(dp)\n",
    "    \n",
    "        ens = sorted(envelopes, key=lambda x: (x[0], -x[1]))\n",
    "        hs = [v[1] for v in ens]\n",
    "        return length_of_lis(hs)"
   ]
  },
  {
   "cell_type": "code",
   "execution_count": 26,
   "id": "f8cb787a",
   "metadata": {},
   "outputs": [],
   "source": [
    "envelopes = [[5,4],[6,4],[6,7],[2,3]]"
   ]
  },
  {
   "cell_type": "code",
   "execution_count": 27,
   "id": "ac0253ab",
   "metadata": {},
   "outputs": [],
   "source": [
    "so = Solution()"
   ]
  },
  {
   "cell_type": "code",
   "execution_count": 28,
   "id": "f163f9a2",
   "metadata": {},
   "outputs": [
    {
     "data": {
      "text/plain": [
       "3"
      ]
     },
     "execution_count": 28,
     "metadata": {},
     "output_type": "execute_result"
    }
   ],
   "source": [
    "so.maxEnvelopes(envelopes)"
   ]
  },
  {
   "cell_type": "code",
   "execution_count": 74,
   "id": "532b1e80",
   "metadata": {},
   "outputs": [],
   "source": [
    "def length_of_lis_bs(nums):\n",
    "    piles = 0\n",
    "    length = len(nums)\n",
    "    top = [0] * length\n",
    "    for i in range(length):\n",
    "        curr = nums[i]\n",
    "        le, ri = 0, piles - 1\n",
    "        while le <= ri:\n",
    "            mid = le + (ri - le) // 2\n",
    "            if top[mid] < curr:\n",
    "                le = mid + 1\n",
    "            elif top[mid] > curr:\n",
    "                ri = mid - 1\n",
    "            elif top[mid] == curr:\n",
    "                ri = mid - 1\n",
    "        if le == piles:\n",
    "            piles += 1\n",
    "        top[le] = curr\n",
    "    return piles"
   ]
  },
  {
   "cell_type": "code",
   "execution_count": 68,
   "id": "73b5f059",
   "metadata": {},
   "outputs": [],
   "source": [
    "nums = [10,9,2,5,3,7,101,18]"
   ]
  },
  {
   "cell_type": "code",
   "execution_count": 69,
   "id": "f64e4232",
   "metadata": {},
   "outputs": [
    {
     "name": "stdout",
     "output_type": "stream",
     "text": [
      "[10, 0, 0, 0, 0, 0, 0, 0]\n",
      "[9, 0, 0, 0, 0, 0, 0, 0]\n",
      "[2, 0, 0, 0, 0, 0, 0, 0]\n",
      "[2, 5, 0, 0, 0, 0, 0, 0]\n",
      "[2, 3, 0, 0, 0, 0, 0, 0]\n",
      "[2, 3, 7, 0, 0, 0, 0, 0]\n",
      "[2, 3, 7, 101, 0, 0, 0, 0]\n",
      "[2, 3, 7, 18, 0, 0, 0, 0]\n"
     ]
    },
    {
     "data": {
      "text/plain": [
       "4"
      ]
     },
     "execution_count": 69,
     "metadata": {},
     "output_type": "execute_result"
    }
   ],
   "source": [
    "length_of_lis_bs(nums)"
   ]
  },
  {
   "cell_type": "code",
   "execution_count": 82,
   "id": "15deec26",
   "metadata": {},
   "outputs": [],
   "source": [
    "class Solution:\n",
    "    def maxEnvelopes(self, envelopes: List[List[int]]) -> int:\n",
    "        \n",
    "        def length_of_lis_bs(nums):\n",
    "            piles = 0\n",
    "            length = len(nums)\n",
    "            top = [0] * length\n",
    "            for i in range(length):\n",
    "                curr = nums[i]\n",
    "                le, ri = 0, piles - 1\n",
    "                while le <= ri:\n",
    "                    mid = le + (ri - le) // 2\n",
    "                    if top[mid] < curr:\n",
    "                        le = mid + 1\n",
    "                    elif top[mid] > curr:\n",
    "                        ri = mid - 1\n",
    "                    elif top[mid] == curr:\n",
    "                        ri = mid - 1\n",
    "                if le == piles:\n",
    "                    piles += 1\n",
    "                top[le] = curr\n",
    "            return piles\n",
    "        \n",
    "        ens = sorted(envelopes, key=lambda x: (x[0], x[1]))\n",
    "        hs = [v[1] for v in ens]\n",
    "        return length_of_lis_bs(hs)"
   ]
  },
  {
   "cell_type": "code",
   "execution_count": 83,
   "id": "f2974540",
   "metadata": {},
   "outputs": [],
   "source": [
    "envelopes = [[5,4],[6,4],[6,7],[2,3]]"
   ]
  },
  {
   "cell_type": "code",
   "execution_count": 84,
   "id": "66c56202",
   "metadata": {},
   "outputs": [],
   "source": [
    "so = Solution()"
   ]
  },
  {
   "cell_type": "code",
   "execution_count": 85,
   "id": "2bf9683f",
   "metadata": {},
   "outputs": [
    {
     "data": {
      "text/plain": [
       "3"
      ]
     },
     "execution_count": 85,
     "metadata": {},
     "output_type": "execute_result"
    }
   ],
   "source": [
    "so.maxEnvelopes(envelopes)"
   ]
  },
  {
   "cell_type": "code",
   "execution_count": null,
   "id": "935165d5",
   "metadata": {},
   "outputs": [],
   "source": []
  },
  {
   "cell_type": "code",
   "execution_count": null,
   "id": "c648fa1f",
   "metadata": {},
   "outputs": [],
   "source": []
  },
  {
   "cell_type": "code",
   "execution_count": null,
   "id": "5c9cbf44",
   "metadata": {},
   "outputs": [],
   "source": []
  }
 ],
 "metadata": {
  "kernelspec": {
   "display_name": "Python 3",
   "language": "python",
   "name": "python3"
  },
  "language_info": {
   "codemirror_mode": {
    "name": "ipython",
    "version": 3
   },
   "file_extension": ".py",
   "mimetype": "text/x-python",
   "name": "python",
   "nbconvert_exporter": "python",
   "pygments_lexer": "ipython3",
   "version": "3.8.13"
  },
  "latex_envs": {
   "LaTeX_envs_menu_present": true,
   "autoclose": false,
   "autocomplete": true,
   "bibliofile": "biblio.bib",
   "cite_by": "apalike",
   "current_citInitial": 1,
   "eqLabelWithNumbers": true,
   "eqNumInitial": 1,
   "hotkeys": {
    "equation": "Ctrl-E",
    "itemize": "Ctrl-I"
   },
   "labels_anchors": false,
   "latex_user_defs": false,
   "report_style_numbering": false,
   "user_envs_cfg": false
  },
  "toc": {
   "base_numbering": 1,
   "nav_menu": {},
   "number_sections": true,
   "sideBar": true,
   "skip_h1_title": false,
   "title_cell": "Table of Contents",
   "title_sidebar": "Contents",
   "toc_cell": false,
   "toc_position": {
    "height": "calc(100% - 180px)",
    "left": "10px",
    "top": "150px",
    "width": "165px"
   },
   "toc_section_display": true,
   "toc_window_display": true
  }
 },
 "nbformat": 4,
 "nbformat_minor": 5
}
