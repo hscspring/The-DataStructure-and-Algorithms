{
 "cells": [
  {
   "cell_type": "code",
   "execution_count": 4,
   "id": "2167c85b",
   "metadata": {},
   "outputs": [],
   "source": [
    "def pick(items) -> int:\n",
    "    tops = [0] * len(items)\n",
    "    count = 0\n",
    "    for i in range(len(items)):\n",
    "        curr = items[i]\n",
    "        left = 0\n",
    "        right = count\n",
    "        while left < right:\n",
    "            mid = (left + right) // 2\n",
    "            if tops[mid] > curr:\n",
    "                right = mid\n",
    "            elif tops[mid] < curr:\n",
    "                left = mid + 1\n",
    "            else:\n",
    "                right = mid\n",
    "        if left == count:\n",
    "            count += 1\n",
    "        tops[left] = curr\n",
    "    return count"
   ]
  },
  {
   "cell_type": "code",
   "execution_count": 52,
   "id": "5c85e6db",
   "metadata": {},
   "outputs": [],
   "source": [
    "a = [10,9,2,5,3,7,101,18]"
   ]
  },
  {
   "cell_type": "code",
   "execution_count": 60,
   "id": "5acc6b7d",
   "metadata": {},
   "outputs": [
    {
     "data": {
      "text/plain": [
       "4"
      ]
     },
     "execution_count": 60,
     "metadata": {},
     "output_type": "execute_result"
    }
   ],
   "source": [
    "pick(a)"
   ]
  },
  {
   "cell_type": "code",
   "execution_count": 75,
   "id": "c9f5d1f6",
   "metadata": {},
   "outputs": [],
   "source": [
    "def lengthOfLIS(nums) -> int:\n",
    "    length = len(nums)\n",
    "    dp = [1] * length\n",
    "    for i in range(length):\n",
    "        sub_max = 1\n",
    "        for j in range(i):\n",
    "            if nums[i] > nums[j]:\n",
    "                sub_max = max(dp[j] + 1, sub_max)\n",
    "        dp[i] = sub_max\n",
    "    return max(dp)"
   ]
  },
  {
   "cell_type": "code",
   "execution_count": 76,
   "id": "0bcfebac",
   "metadata": {},
   "outputs": [
    {
     "data": {
      "text/plain": [
       "4"
      ]
     },
     "execution_count": 76,
     "metadata": {},
     "output_type": "execute_result"
    }
   ],
   "source": [
    "lengthOfLIS(a)"
   ]
  },
  {
   "cell_type": "code",
   "execution_count": 77,
   "id": "e5f15c3e",
   "metadata": {},
   "outputs": [],
   "source": [
    "def lengthOfLIS(nums) -> int:\n",
    "    leng = len(nums)\n",
    "    dp = [1] * leng\n",
    "    for i in range(leng):\n",
    "        for j in range(i):\n",
    "            if nums[i] > nums[j]:\n",
    "                dp[i] = max(dp[i], dp[j] + 1)\n",
    "    return max(dp)"
   ]
  },
  {
   "cell_type": "code",
   "execution_count": 78,
   "id": "10598b58",
   "metadata": {},
   "outputs": [
    {
     "data": {
      "text/plain": [
       "4"
      ]
     },
     "execution_count": 78,
     "metadata": {},
     "output_type": "execute_result"
    }
   ],
   "source": [
    "lengthOfLIS(a)"
   ]
  },
  {
   "cell_type": "code",
   "execution_count": null,
   "id": "30a0ffc2",
   "metadata": {},
   "outputs": [],
   "source": []
  }
 ],
 "metadata": {
  "kernelspec": {
   "display_name": "Python 3 (ipykernel)",
   "language": "python",
   "name": "python3"
  },
  "language_info": {
   "codemirror_mode": {
    "name": "ipython",
    "version": 3
   },
   "file_extension": ".py",
   "mimetype": "text/x-python",
   "name": "python",
   "nbconvert_exporter": "python",
   "pygments_lexer": "ipython3",
   "version": "3.9.13"
  },
  "toc": {
   "base_numbering": 1,
   "nav_menu": {},
   "number_sections": true,
   "sideBar": true,
   "skip_h1_title": false,
   "title_cell": "Table of Contents",
   "title_sidebar": "Contents",
   "toc_cell": false,
   "toc_position": {},
   "toc_section_display": true,
   "toc_window_display": false
  }
 },
 "nbformat": 4,
 "nbformat_minor": 5
}
