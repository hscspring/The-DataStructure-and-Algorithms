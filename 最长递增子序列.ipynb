{
 "cells": [
  {
   "cell_type": "code",
   "execution_count": 4,
   "id": "fd2a44ce",
   "metadata": {},
   "outputs": [],
   "source": [
    "def pick(items) -> int:\n",
    "    tops = [0] * len(items)\n",
    "    count = 0\n",
    "    for i in range(len(items)):\n",
    "        curr = items[i]\n",
    "        left = 0\n",
    "        right = count\n",
    "        while left < right:\n",
    "            mid = (left + right) // 2\n",
    "            if tops[mid] > curr:\n",
    "                right = mid\n",
    "            elif tops[mid] < curr:\n",
    "                left = mid + 1\n",
    "            else:\n",
    "                right = mid\n",
    "        if left == count:\n",
    "            count += 1\n",
    "        tops[left] = curr\n",
    "    return count"
   ]
  },
  {
   "cell_type": "code",
   "execution_count": 88,
   "id": "de7e2b8f",
   "metadata": {},
   "outputs": [],
   "source": [
    "a = [10,9,2,5,3,7,101,18]"
   ]
  },
  {
   "cell_type": "code",
   "execution_count": 60,
   "id": "db5f7cd0",
   "metadata": {},
   "outputs": [
    {
     "data": {
      "text/plain": [
       "4"
      ]
     },
     "execution_count": 60,
     "metadata": {},
     "output_type": "execute_result"
    }
   ],
   "source": [
    "pick(a)"
   ]
  },
  {
   "cell_type": "code",
   "execution_count": 85,
   "id": "beeabdbc",
   "metadata": {},
   "outputs": [],
   "source": [
    "def lengthOfLIS(nums) -> int:\n",
    "    length = len(nums)\n",
    "    dp = [1] * length\n",
    "    for i in range(length):\n",
    "        sub_max = 1\n",
    "        for j in range(i):\n",
    "            if nums[i] > nums[j]:\n",
    "                sub_max = max(dp[j] + 1, sub_max)\n",
    "        dp[i] = sub_max\n",
    "    return max(dp)"
   ]
  },
  {
   "cell_type": "code",
   "execution_count": 89,
   "id": "2dee9e64",
   "metadata": {},
   "outputs": [
    {
     "data": {
      "text/plain": [
       "4"
      ]
     },
     "execution_count": 89,
     "metadata": {},
     "output_type": "execute_result"
    }
   ],
   "source": [
    "lengthOfLIS(a)"
   ]
  },
  {
   "cell_type": "code",
   "execution_count": 77,
   "id": "e2faaa52",
   "metadata": {},
   "outputs": [],
   "source": [
    "def lengthOfLIS(nums) -> int:\n",
    "    leng = len(nums)\n",
    "    dp = [1] * leng\n",
    "    for i in range(leng):\n",
    "        for j in range(i):\n",
    "            if nums[i] > nums[j]:\n",
    "                dp[i] = max(dp[i], dp[j] + 1)\n",
    "    return max(dp)"
   ]
  },
  {
   "cell_type": "code",
   "execution_count": 78,
   "id": "d41d062b",
   "metadata": {},
   "outputs": [
    {
     "data": {
      "text/plain": [
       "4"
      ]
     },
     "execution_count": 78,
     "metadata": {},
     "output_type": "execute_result"
    }
   ],
   "source": [
    "lengthOfLIS(a)"
   ]
  },
  {
   "cell_type": "code",
   "execution_count": null,
   "id": "12da4bef",
   "metadata": {},
   "outputs": [],
   "source": []
  }
 ],
 "metadata": {
  "kernelspec": {
   "display_name": "Python 3 (ipykernel)",
   "language": "python",
   "name": "python3"
  },
  "language_info": {
   "codemirror_mode": {
    "name": "ipython",
    "version": 3
   },
   "file_extension": ".py",
   "mimetype": "text/x-python",
   "name": "python",
   "nbconvert_exporter": "python",
   "pygments_lexer": "ipython3",
   "version": "3.9.13"
  },
  "toc": {
   "base_numbering": 1,
   "nav_menu": {},
   "number_sections": true,
   "sideBar": true,
   "skip_h1_title": false,
   "title_cell": "Table of Contents",
   "title_sidebar": "Contents",
   "toc_cell": false,
   "toc_position": {},
   "toc_section_display": true,
   "toc_window_display": false
  }
 },
 "nbformat": 4,
 "nbformat_minor": 5
}
