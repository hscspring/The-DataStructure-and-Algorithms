{
 "cells": [
  {
   "cell_type": "code",
   "execution_count": 5,
   "id": "afe63fc9",
   "metadata": {},
   "outputs": [],
   "source": [
    "def maxWater( arr):\n",
    "        lms = []\n",
    "        lm = arr[0]\n",
    "        for v in arr:\n",
    "            lm = max(v, lm)\n",
    "            lms.append(lm)\n",
    "        res = 0\n",
    "        print(lms)\n",
    "        rm = arr[-1]\n",
    "        for i in range(len(arr)-1, -1, -1):\n",
    "            print(i)\n",
    "            rm = max(arr[i], rm)\n",
    "            sm = min(rm, lms[i])\n",
    "            res += sm - arr[i]\n",
    "        return res"
   ]
  },
  {
   "cell_type": "code",
   "execution_count": 6,
   "id": "187214c6",
   "metadata": {},
   "outputs": [],
   "source": [
    "arr = [3,1,2,5,2,4]  "
   ]
  },
  {
   "cell_type": "code",
   "execution_count": 7,
   "id": "5c701a07",
   "metadata": {},
   "outputs": [
    {
     "name": "stdout",
     "output_type": "stream",
     "text": [
      "[3, 3, 3, 5, 5, 5]\n",
      "5\n",
      "4\n",
      "3\n",
      "2\n",
      "1\n",
      "0\n"
     ]
    },
    {
     "data": {
      "text/plain": [
       "5"
      ]
     },
     "execution_count": 7,
     "metadata": {},
     "output_type": "execute_result"
    }
   ],
   "source": [
    "maxWater(arr)"
   ]
  },
  {
   "cell_type": "code",
   "execution_count": 28,
   "id": "f2a9ca80",
   "metadata": {},
   "outputs": [],
   "source": [
    "import re\n",
    "reg = re.compile(r\"([a-z])\\1\\1\")"
   ]
  },
  {
   "cell_type": "code",
   "execution_count": 44,
   "id": "795fe0a8",
   "metadata": {},
   "outputs": [],
   "source": [
    "p1 = r'([a-z])\\1\\1'\n",
    "r1 = r'\\1\\1'"
   ]
  },
  {
   "cell_type": "code",
   "execution_count": 45,
   "id": "9b6508e1",
   "metadata": {},
   "outputs": [],
   "source": [
    "s = \"aabcccdee\""
   ]
  },
  {
   "cell_type": "code",
   "execution_count": 33,
   "id": "346fc5d3",
   "metadata": {},
   "outputs": [
    {
     "data": {
      "text/plain": [
       "'aabccdee'"
      ]
     },
     "execution_count": 33,
     "metadata": {},
     "output_type": "execute_result"
    }
   ],
   "source": [
    "re.sub(pattern, replacement, s)"
   ]
  },
  {
   "cell_type": "code",
   "execution_count": 42,
   "id": "b1e4f316",
   "metadata": {},
   "outputs": [
    {
     "name": "stdout",
     "output_type": "stream",
     "text": [
      "AA GO\n",
      "BB GO\n",
      "CC GO\n",
      "AABBCC\n"
     ]
    }
   ],
   "source": [
    "import re\n",
    "\n",
    "text = \"AABBCC\"\n",
    "pattern = r'(\\w)\\1+'\n",
    "def replace(match):\n",
    "    print(match.group(), \"GO\")\n",
    "    return match.group(1) * 2\n",
    "\n",
    "result = re.sub(pattern, replace, text)\n",
    "print(result)  # 输出 'AABCC'\n"
   ]
  },
  {
   "cell_type": "code",
   "execution_count": 46,
   "id": "f0225add",
   "metadata": {},
   "outputs": [
    {
     "data": {
      "text/plain": [
       "['c']"
      ]
     },
     "execution_count": 46,
     "metadata": {},
     "output_type": "execute_result"
    }
   ],
   "source": [
    "re.findall(p1, s)"
   ]
  },
  {
   "cell_type": "code",
   "execution_count": 47,
   "id": "2b80822c",
   "metadata": {},
   "outputs": [
    {
     "name": "stdout",
     "output_type": "stream",
     "text": [
      "从根节点到目标节点的路径为: [1, 2, 5]\n"
     ]
    }
   ],
   "source": [
    "class TreeNode:\n",
    "    def __init__(self, value):\n",
    "        self.value = value\n",
    "        self.left = None\n",
    "        self.right = None\n",
    "\n",
    "def find_path(root, target):\n",
    "    if not root:\n",
    "        return None\n",
    "    \n",
    "    # 用于存储路径的列表\n",
    "    path = []\n",
    "    \n",
    "    def dfs(node):\n",
    "        if not node:\n",
    "            return False\n",
    "        \n",
    "        # 将当前节点加入路径\n",
    "        path.append(node.value)\n",
    "        \n",
    "        # 如果找到目标节点，返回True\n",
    "        if node.value == target:\n",
    "            return True\n",
    "        \n",
    "        # 递归搜索左子树和右子树\n",
    "        if (dfs(node.left) or dfs(node.right)):\n",
    "            return True\n",
    "        \n",
    "        # 如果左右子树都没有找到目标节点，将当前节点从路径中移除\n",
    "        path.pop()\n",
    "        return False\n",
    "    \n",
    "    # 如果从根节点出发找到目标节点，返回路径\n",
    "    if dfs(root):\n",
    "        return path\n",
    "    \n",
    "    # 如果没有找到目标节点，返回空列表\n",
    "    return []\n",
    "\n",
    "# 创建一个示例二叉树\n",
    "root = TreeNode(1)\n",
    "root.left = TreeNode(2)\n",
    "root.right = TreeNode(3)\n",
    "root.left.left = TreeNode(4)\n",
    "root.left.right = TreeNode(5)\n",
    "root.right.left = TreeNode(6)\n",
    "root.right.right = TreeNode(7)\n",
    "\n",
    "# 找到从根节点到目标节点5的路径\n",
    "target = 5\n",
    "path = find_path(root, target)\n",
    "\n",
    "if path:\n",
    "    print(\"从根节点到目标节点的路径为:\", path)\n",
    "else:\n",
    "    print(\"未找到目标节点\")\n"
   ]
  },
  {
   "cell_type": "code",
   "execution_count": 48,
   "id": "042436a6",
   "metadata": {},
   "outputs": [
    {
     "name": "stdout",
     "output_type": "stream",
     "text": [
      "从根节点到目标节点的路径为: [1, 2, 5]\n"
     ]
    }
   ],
   "source": [
    "class TreeNode:\n",
    "    def __init__(self, value):\n",
    "        self.value = value\n",
    "        self.left = None\n",
    "        self.right = None\n",
    "\n",
    "def find_path(root, target):\n",
    "    if not root:\n",
    "        return None\n",
    "    \n",
    "    # 用于存储路径的列表\n",
    "    path = []\n",
    "    \n",
    "    # 使用栈来进行DFS遍历\n",
    "    stack = [(root, [root.value])]\n",
    "    \n",
    "    while stack:\n",
    "        node, current_path = stack.pop()\n",
    "        \n",
    "        # 如果找到目标节点，返回路径\n",
    "        if node.value == target:\n",
    "            return current_path\n",
    "        \n",
    "        # 将右子节点入栈（如果存在）\n",
    "        if node.right:\n",
    "            stack.append((node.right, current_path + [node.right.value]))\n",
    "        \n",
    "        # 将左子节点入栈（如果存在）\n",
    "        if node.left:\n",
    "            stack.append((node.left, current_path + [node.left.value]))\n",
    "    \n",
    "    # 如果没有找到目标节点，返回空列表\n",
    "    return []\n",
    "\n",
    "# 创建一个示例二叉树\n",
    "root = TreeNode(1)\n",
    "root.left = TreeNode(2)\n",
    "root.right = TreeNode(3)\n",
    "root.left.left = TreeNode(4)\n",
    "root.left.right = TreeNode(5)\n",
    "root.right.left = TreeNode(6)\n",
    "root.right.right = TreeNode(7)\n",
    "\n",
    "# 找到从根节点到目标节点5的路径\n",
    "target = 5\n",
    "path = find_path(root, target)\n",
    "\n",
    "if path:\n",
    "    print(\"从根节点到目标节点的路径为:\", path)\n",
    "else:\n",
    "    print(\"未找到目标节点\")\n"
   ]
  },
  {
   "cell_type": "code",
   "execution_count": 53,
   "id": "a86d601f",
   "metadata": {},
   "outputs": [],
   "source": [
    "root = TreeNode(1)\n",
    "root.left = TreeNode(2)\n",
    "root.right = TreeNode(3)\n",
    "root.left.left = TreeNode(4)\n",
    "root.left.right = TreeNode(5)\n",
    "root.right.left = TreeNode(6)\n",
    "root.right.right = TreeNode(7)\n",
    "\n",
    "# 找到从根节点到目标节点5的路径\n",
    "target = 5"
   ]
  },
  {
   "cell_type": "code",
   "execution_count": 57,
   "id": "08249acf",
   "metadata": {},
   "outputs": [],
   "source": [
    "# Definition for a binary tree node.\n",
    "class TreeNode:\n",
    "    def __init__(self, x):\n",
    "        self.val = x\n",
    "        self.left = None\n",
    "        self.right = None\n",
    "\n",
    "class Solution:\n",
    "\n",
    "    def dfs(self, root, p):\n",
    "        if not root:\n",
    "            return\n",
    "        path = []\n",
    "        stack = [(root, [root.val])]\n",
    "        while stack:\n",
    "            node, curr_path = stack.pop()\n",
    "            if node and node.val == p:\n",
    "                return curr_path\n",
    "            \n",
    "            if node.right:\n",
    "                stack.append((node.right, curr_path + [node.right.val]))\n",
    "            if node.left:\n",
    "                stack.append((node.left, curr_path + [node.left.val]))\n",
    "        return []\n",
    "            \n",
    "    def lowestCommonAncestor(self, root: 'TreeNode', p: 'TreeNode', q: 'TreeNode') -> 'TreeNode':\n",
    "        path_p = self.dfs(root, p)\n",
    "        path_q = self.dfs(root, q)\n",
    "        _len = min(len(path_p), len(path_q))\n",
    "        for i in range(_len):\n",
    "            if path_p[i] != path_q[i]:\n",
    "                break\n",
    "        return path_p[i-1]\n"
   ]
  },
  {
   "cell_type": "code",
   "execution_count": 60,
   "id": "11cbcfb7",
   "metadata": {},
   "outputs": [],
   "source": [
    "class Solution:\n",
    "    def lowestCommonAncestor(self, root: 'TreeNode', p: 'TreeNode', q: 'TreeNode') -> 'TreeNode':\n",
    "        if not root or root == p or root == q: return root\n",
    "        l = self.lowestCommonAncestor(root.left, p, q)\n",
    "        r = self.lowestCommonAncestor(root.right, p, q)\n",
    "        return root if l and r else l or r"
   ]
  },
  {
   "cell_type": "code",
   "execution_count": 61,
   "id": "5d82a69a",
   "metadata": {},
   "outputs": [],
   "source": [
    "so  = Solution()"
   ]
  },
  {
   "cell_type": "code",
   "execution_count": 63,
   "id": "70f73d62",
   "metadata": {},
   "outputs": [
    {
     "data": {
      "text/plain": [
       "<__main__.TreeNode at 0x112cd7df0>"
      ]
     },
     "execution_count": 63,
     "metadata": {},
     "output_type": "execute_result"
    }
   ],
   "source": [
    "so.lowestCommonAncestor(root, root.left.left, root.right.left)"
   ]
  },
  {
   "cell_type": "code",
   "execution_count": 64,
   "id": "ea23a1ac",
   "metadata": {},
   "outputs": [
    {
     "data": {
      "text/plain": [
       "1"
      ]
     },
     "execution_count": 64,
     "metadata": {},
     "output_type": "execute_result"
    }
   ],
   "source": [
    "_.val"
   ]
  },
  {
   "cell_type": "code",
   "execution_count": null,
   "id": "331ca558",
   "metadata": {},
   "outputs": [],
   "source": []
  },
  {
   "cell_type": "code",
   "execution_count": null,
   "id": "48eeb5c5",
   "metadata": {},
   "outputs": [],
   "source": []
  }
 ],
 "metadata": {
  "kernelspec": {
   "display_name": "Python 3 (ipykernel)",
   "language": "python",
   "name": "python3"
  },
  "language_info": {
   "codemirror_mode": {
    "name": "ipython",
    "version": 3
   },
   "file_extension": ".py",
   "mimetype": "text/x-python",
   "name": "python",
   "nbconvert_exporter": "python",
   "pygments_lexer": "ipython3",
   "version": "3.9.13"
  },
  "toc": {
   "base_numbering": 1,
   "nav_menu": {},
   "number_sections": true,
   "sideBar": true,
   "skip_h1_title": false,
   "title_cell": "Table of Contents",
   "title_sidebar": "Contents",
   "toc_cell": false,
   "toc_position": {},
   "toc_section_display": true,
   "toc_window_display": false
  }
 },
 "nbformat": 4,
 "nbformat_minor": 5
}
