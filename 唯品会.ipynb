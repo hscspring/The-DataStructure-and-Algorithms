{
 "cells": [
  {
   "cell_type": "code",
   "execution_count": 72,
   "id": "34ae79a3",
   "metadata": {},
   "outputs": [],
   "source": [
    "from collections import Counter, defaultdict\n",
    "\n",
    "\n",
    "def solution(lst, target) ->tuple:\n",
    "    \n",
    "    v2locs = defaultdict(list)\n",
    "    for i,v in enumerate(lst):\n",
    "        v2locs[v].append(i)\n",
    "    \n",
    "    ret = []\n",
    "    for i,v in enumerate(lst):\n",
    "\n",
    "        # v被用掉了\n",
    "        vlocs = v2locs.get(v)\n",
    "        if not vlocs:\n",
    "            continue\n",
    "\n",
    "        # other被用掉了\n",
    "        other = target - v\n",
    "        olocs = v2locs.get(other)\n",
    "        if not olocs:\n",
    "            continue\n",
    "        \n",
    "        if v != other or (v == other and len(olocs) >= 2):\n",
    "            ret.append((v, other))\n",
    "            v2locs[other].pop(0)\n",
    "            v2locs[v].pop(0)\n",
    "        \n",
    "    return ret"
   ]
  },
  {
   "cell_type": "code",
   "execution_count": 77,
   "id": "980e10cb",
   "metadata": {},
   "outputs": [
    {
     "data": {
      "text/plain": [
       "[(1, 4), (3, 2)]"
      ]
     },
     "execution_count": 77,
     "metadata": {},
     "output_type": "execute_result"
    }
   ],
   "source": [
    "solution([1,3,7,4,2], 5)"
   ]
  },
  {
   "cell_type": "code",
   "execution_count": 78,
   "id": "8496cce6",
   "metadata": {},
   "outputs": [
    {
     "data": {
      "text/plain": [
       "[(1, 3)]"
      ]
     },
     "execution_count": 78,
     "metadata": {},
     "output_type": "execute_result"
    }
   ],
   "source": [
    "solution([1,3,7,4,2], 4)"
   ]
  },
  {
   "cell_type": "code",
   "execution_count": 73,
   "id": "02f48356",
   "metadata": {},
   "outputs": [
    {
     "data": {
      "text/plain": [
       "[(3, 4)]"
      ]
     },
     "execution_count": 73,
     "metadata": {},
     "output_type": "execute_result"
    }
   ],
   "source": [
    "solution([1,3,3,3,7,4,2,2,2,2], 7)"
   ]
  },
  {
   "cell_type": "code",
   "execution_count": 74,
   "id": "b02d042a",
   "metadata": {},
   "outputs": [
    {
     "data": {
      "text/plain": [
       "[(1, 3), (2, 2), (2, 2)]"
      ]
     },
     "execution_count": 74,
     "metadata": {},
     "output_type": "execute_result"
    }
   ],
   "source": [
    "solution([1,3,3,3,7,4,2,2,2,2], 4)"
   ]
  },
  {
   "cell_type": "code",
   "execution_count": 75,
   "id": "4785e1e4",
   "metadata": {},
   "outputs": [
    {
     "data": {
      "text/plain": [
       "[(1, 4), (3, 2), (3, 2), (3, 2)]"
      ]
     },
     "execution_count": 75,
     "metadata": {},
     "output_type": "execute_result"
    }
   ],
   "source": [
    "solution([1,3,3,3,7,4,2,2,2,2], 5)"
   ]
  },
  {
   "cell_type": "code",
   "execution_count": 76,
   "id": "2865758b",
   "metadata": {},
   "outputs": [
    {
     "data": {
      "text/plain": [
       "[(1, 7)]"
      ]
     },
     "execution_count": 76,
     "metadata": {},
     "output_type": "execute_result"
    }
   ],
   "source": [
    "solution([1,3,3,3,7,4,2,2,2,2], 8)"
   ]
  },
  {
   "cell_type": "code",
   "execution_count": null,
   "id": "c715a752",
   "metadata": {},
   "outputs": [],
   "source": []
  },
  {
   "cell_type": "code",
   "execution_count": null,
   "id": "46d8db25",
   "metadata": {},
   "outputs": [],
   "source": []
  },
  {
   "cell_type": "code",
   "execution_count": null,
   "id": "a1c7c1d9",
   "metadata": {},
   "outputs": [],
   "source": []
  }
 ],
 "metadata": {
  "kernelspec": {
   "display_name": "Python 3 (ipykernel)",
   "language": "python",
   "name": "python3"
  },
  "language_info": {
   "codemirror_mode": {
    "name": "ipython",
    "version": 3
   },
   "file_extension": ".py",
   "mimetype": "text/x-python",
   "name": "python",
   "nbconvert_exporter": "python",
   "pygments_lexer": "ipython3",
   "version": "3.9.13"
  }
 },
 "nbformat": 4,
 "nbformat_minor": 5
}
