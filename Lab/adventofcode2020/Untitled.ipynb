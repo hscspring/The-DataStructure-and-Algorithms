{
 "cells": [
  {
   "cell_type": "code",
   "execution_count": 2,
   "metadata": {},
   "outputs": [],
   "source": [
    "from day19 import *"
   ]
  },
  {
   "cell_type": "code",
   "execution_count": 74,
   "metadata": {},
   "outputs": [],
   "source": [
    "rule, msg = get_rule_msg(file)\n",
    "dct, base = build_dict(rule)"
   ]
  },
  {
   "cell_type": "code",
   "execution_count": 4,
   "metadata": {
    "scrolled": true
   },
   "outputs": [
    {
     "name": "stdout",
     "output_type": "stream",
     "text": [
      "DEBUG++\n"
     ]
    }
   ],
   "source": [
    "matched = get_matched_messages(dct, base)"
   ]
  },
  {
   "cell_type": "code",
   "execution_count": 5,
   "metadata": {},
   "outputs": [
    {
     "data": {
      "text/plain": [
       "2097152"
      ]
     },
     "execution_count": 5,
     "metadata": {},
     "output_type": "execute_result"
    }
   ],
   "source": [
    "len(matched)"
   ]
  },
  {
   "cell_type": "code",
   "execution_count": 26,
   "metadata": {},
   "outputs": [
    {
     "name": "stdout",
     "output_type": "stream",
     "text": [
      "107\n"
     ]
    }
   ],
   "source": [
    "res = 0\n",
    "for line in msg:\n",
    "    if line in matched:\n",
    "        res += 1\n",
    "print(res)"
   ]
  },
  {
   "cell_type": "code",
   "execution_count": 69,
   "metadata": {},
   "outputs": [],
   "source": [
    "\n",
    "def can_combine(prefix, set42, set31):\n",
    "    n = len(list(set42)[0])\n",
    "    pool = set42 | set31\n",
    "\n",
    "    part = len(prefix) // n\n",
    "    if part < 2:\n",
    "        return prefix in set42\n",
    "    \n",
    "    flag = True\n",
    "    for i in range(part):\n",
    "        p = prefix[i*n: (i+1)*n]\n",
    "        if p not in set42:\n",
    "            flag = False\n",
    "            break\n",
    "    if flag:\n",
    "        return True\n",
    "\n",
    "    first = prefix[:n]\n",
    "    if first not in set42:\n",
    "        return False\n",
    "    last = prefix[-n:]\n",
    "    if last not in set31:\n",
    "        return False\n",
    "    num42, num31 = 0, 0\n",
    "    for i in range(part):\n",
    "        p = prefix[i*n: (i+1)*n]\n",
    "        if p not in pool:\n",
    "            return False\n",
    "        if p in set42:\n",
    "            num42 += 1\n",
    "        if p in set31:\n",
    "            num31 += 1\n",
    "    if num31 > num42:\n",
    "        return False\n",
    "    return True\n"
   ]
  },
  {
   "cell_type": "code",
   "execution_count": 70,
   "metadata": {},
   "outputs": [],
   "source": [
    "m42 = {'bbbbabab', 'baabbaab', 'bbabbaaa', 'abababab', 'bbaaaaab', 'ababaabb', 'babababa', 'bbabaaab', 'aababbab', 'aaaabbab', 'aabbbaaa', 'baababaa', 'bbababba', 'aaaabaab', 'aaabbbab', 'abbbbbba', 'bababbaa', 'abbbbaab', 'abbaaaaa', 'aabbabba', 'abaababa', 'aabbbaab', 'bbabbaab', 'abaababb', 'aaababba', 'aaaabbbb', 'aaabbaaa', 'bbbaaabb', 'aabbbbaa', 'aabababb', 'bbbbaaab', 'bbaaaabb', 'aabbabbb', 'bbbaabba', 'babaaaba', 'abbababb', 'aaaaaabb', 'bbabaaaa', 'baaababb', 'aababbaa', 'babababb', 'aabababa', 'bbbbbabb', 'bbabbbab', 'aabbabaa', 'bababbab', 'babbabaa', 'aabaaaab', 'aaabaaba', 'abbbbbbb', 'bababaaa', 'abbbabba', 'abbabaab', 'bbababab', 'bbabaaba', 'ababaaab', 'baaabbbb', 'abaaabaa', 'abaabbab', 'baababab', 'abbbaabb', 'baabaaaa', 'aaababbb', 'ababbbab', 'bbbbaaaa', 'aaababab', 'bababaab', 'aaaaaaab', 'aaababaa', 'bbaaabba', 'aabbaaaa', 'babbaaaa', 'ababbbbb', 'bbbaabaa', 'aaaabbba', 'bbaaabbb', 'bbbaaaab', 'bbbaaaba', 'bbbabaab', 'babbaaab', 'babbbaaa', 'aaaabbaa', 'bbabbaba', 'aaaababb', 'aabaabbb', 'ababaaaa', 'aaabaabb', 'abbbabab', 'babbbbba', 'babaaaab', 'babaaaaa', 'abbbabaa', 'baaabbaa', 'baabaaba', 'bbbaaaaa', 'baaaabbb', 'abaaaaba', 'bbabaabb', 'abbbaaab', 'bbbababa', 'babbabbb', 'abaaaaaa', 'bbaaaaaa', 'baaabaaa', 'aaabbabb', 'babbabab', 'ababbaaa', 'aaabaaaa', 'aabbbbab', 'abaaaabb', 'aabbbbbb', 'aaaaaaba', 'bbabbbaa', 'aaabbaab', 'abaaabba', 'bbaaabab', 'bbaababa', 'bbbbbbba', 'aababbbb', 'bbbbbaaa', 'bbbbbbaa', 'abbaabbb', 'abbbbabb', 'baabbbba', 'bababbbb', 'abbaaaba', 'babbbbab', 'babaabaa'}"
   ]
  },
  {
   "cell_type": "code",
   "execution_count": 71,
   "metadata": {},
   "outputs": [],
   "source": [
    "m31 = {'bbaababb', 'aababbba', 'bbbbbbab', 'bbababbb', 'baaabbab', 'aaaaabaa', 'abaaaaab', 'bbbbaabb', 'babaabbb', 'bbabbbbb', 'baabaaab', 'bbabbabb', 'abbaabab', 'babbbaab', 'bbbbabbb', 'bbbababb', 'bbbabbbb', 'abababba', 'baabbaba', 'baaaabba', 'baababbb', 'bbaabbba', 'abbabbbb', 'bbaaabaa', 'aaabbaba', 'aabaabab', 'abbbbbaa', 'baababba', 'bbababaa', 'aaaababa', 'abbaabba', 'abbbaaba', 'bbbbabba', 'abbaaaab', 'abbbbaaa', 'aabbaaab', 'abbbbbab', 'abbabbaa', 'ababbaba', 'abaabbba', 'baabbabb', 'aabaaaaa', 'baaaaaaa', 'babaaabb', 'bbaabbbb', 'abbabbab', 'baaaaaab', 'bbbabaaa', 'bbaabbab', 'bbbbabaa', 'babaabab', 'aabbabab', 'baaaabab', 'baabbbab', 'bbbabbaa', 'baaaaaba', 'aababaaa', 'abbbaaaa', 'aabaaaba', 'abababaa', 'babbaaba', 'baaabaab', 'aaaaaaaa', 'aabbbabb', 'bbaabaab', 'aaaaabba', 'aabaaabb', 'babbbbaa', 'aaabbbaa', 'abaabaaa', 'aaabbbba', 'abbbbaba', 'babbbabb', 'aababaab', 'babbabba', 'ababbabb', 'abaabbbb', 'babbaabb', 'baaabbba', 'abbabbba', 'aabbaabb', 'aaaaabbb', 'bbabbbba', 'abaabbaa', 'abbabaaa', 'abababbb', 'babbbbbb', 'abaaabab', 'abbaabaa', 'baabbbbb', 'aabaabba', 'babaabba', 'baaaabaa', 'aaabbbbb', 'abaabaab', 'ababbbba', 'bbbbaaba', 'bbbaabab', 'bbaabbaa', 'aabaabaa', 'baabaabb', 'aaaabaaa', 'abaaabbb', 'ababbbaa', 'baaaaabb', 'bbaabaaa', 'aaabaaab', 'babbbaba', 'baabbaaa', 'bababbba', 'aabbbbba', 'abbbabbb', 'bbbaabbb', 'bbbbbaba', 'aabbaaba', 'bbaaaaba', 'ababaaba', 'aaaaabab', 'baaababa', 'bbbbbaab', 'bbbabbba', 'abbaaabb', 'abbababa', 'baabbbaa', 'bbbbbbbb', 'bbbabbab', 'ababbaab', 'aabbbaba'}"
   ]
  },
  {
   "cell_type": "code",
   "execution_count": 76,
   "metadata": {},
   "outputs": [],
   "source": [
    "msg = [i for i in msg if i]"
   ]
  },
  {
   "cell_type": "code",
   "execution_count": 77,
   "metadata": {},
   "outputs": [
    {
     "data": {
      "text/plain": [
       "379"
      ]
     },
     "execution_count": 77,
     "metadata": {},
     "output_type": "execute_result"
    }
   ],
   "source": [
    "len(msg)"
   ]
  },
  {
   "cell_type": "code",
   "execution_count": 83,
   "metadata": {},
   "outputs": [
    {
     "name": "stdout",
     "output_type": "stream",
     "text": [
      "336\n"
     ]
    }
   ],
   "source": [
    "min_len = min(len(l) for l in msg)\n",
    "add = 0\n",
    "for line in msg:\n",
    "    if can_combine(line, m42, m31):\n",
    "        add += 1\n",
    "print(add)"
   ]
  },
  {
   "cell_type": "code",
   "execution_count": null,
   "metadata": {},
   "outputs": [],
   "source": []
  },
  {
   "cell_type": "code",
   "execution_count": null,
   "metadata": {},
   "outputs": [],
   "source": []
  },
  {
   "cell_type": "code",
   "execution_count": null,
   "metadata": {},
   "outputs": [],
   "source": []
  },
  {
   "cell_type": "code",
   "execution_count": null,
   "metadata": {},
   "outputs": [],
   "source": []
  },
  {
   "cell_type": "code",
   "execution_count": null,
   "metadata": {},
   "outputs": [],
   "source": []
  },
  {
   "cell_type": "code",
   "execution_count": null,
   "metadata": {},
   "outputs": [],
   "source": []
  },
  {
   "cell_type": "code",
   "execution_count": 53,
   "metadata": {},
   "outputs": [],
   "source": [
    "s = \"58,57,57,58,58,57,57,58,58,57,57,58,58,57,57,58,57,57,58,58,57,57,58,58\""
   ]
  },
  {
   "cell_type": "code",
   "execution_count": 54,
   "metadata": {},
   "outputs": [],
   "source": [
    "s = s.replace(\"57\", \"a\").replace(\"58\", \"b\").replace(\",\", \"\")"
   ]
  },
  {
   "cell_type": "code",
   "execution_count": 8,
   "metadata": {},
   "outputs": [
    {
     "data": {
      "text/plain": [
       "45"
      ]
     },
     "execution_count": 8,
     "metadata": {},
     "output_type": "execute_result"
    }
   ],
   "source": [
    "len(\"abbbbbabbbaaaababbaabbbbabababbbabbbbbbabaaaa\")"
   ]
  },
  {
   "cell_type": "code",
   "execution_count": 9,
   "metadata": {},
   "outputs": [],
   "source": [
    "lon = []\n",
    "for i in msg:\n",
    "    if len(i) > 24:\n",
    "        lon.append(i)"
   ]
  },
  {
   "cell_type": "code",
   "execution_count": 12,
   "metadata": {},
   "outputs": [
    {
     "data": {
      "text/plain": [
       "259"
      ]
     },
     "execution_count": 12,
     "metadata": {},
     "output_type": "execute_result"
    }
   ],
   "source": [
    "len(lon)"
   ]
  },
  {
   "cell_type": "code",
   "execution_count": 13,
   "metadata": {},
   "outputs": [
    {
     "data": {
      "text/plain": [
       "15"
      ]
     },
     "execution_count": 13,
     "metadata": {},
     "output_type": "execute_result"
    }
   ],
   "source": [
    "len(\"bbaabbaabbabbba\")"
   ]
  },
  {
   "cell_type": "code",
   "execution_count": 14,
   "metadata": {},
   "outputs": [
    {
     "data": {
      "text/plain": [
       "20"
      ]
     },
     "execution_count": 14,
     "metadata": {},
     "output_type": "execute_result"
    }
   ],
   "source": [
    "len(\"aaabaaaabaaaabaabaab\")"
   ]
  },
  {
   "cell_type": "code",
   "execution_count": 27,
   "metadata": {},
   "outputs": [],
   "source": [
    "x = \"aaabaaaabaaaabaabaab\""
   ]
  },
  {
   "cell_type": "code",
   "execution_count": 28,
   "metadata": {},
   "outputs": [
    {
     "data": {
      "text/plain": [
       "'abaab'"
      ]
     },
     "execution_count": 28,
     "metadata": {},
     "output_type": "execute_result"
    }
   ],
   "source": [
    "x[-5:]"
   ]
  },
  {
   "cell_type": "code",
   "execution_count": 17,
   "metadata": {},
   "outputs": [
    {
     "data": {
      "text/plain": [
       "'aaaba'"
      ]
     },
     "execution_count": 17,
     "metadata": {},
     "output_type": "execute_result"
    }
   ],
   "source": [
    "x[:-15][0:5]"
   ]
  },
  {
   "cell_type": "code",
   "execution_count": 19,
   "metadata": {},
   "outputs": [],
   "source": [
    "x1 = set((1,2))\n",
    "x2 = set((1,3))"
   ]
  },
  {
   "cell_type": "code",
   "execution_count": 20,
   "metadata": {},
   "outputs": [
    {
     "data": {
      "text/plain": [
       "{1, 2, 3}"
      ]
     },
     "execution_count": 20,
     "metadata": {},
     "output_type": "execute_result"
    }
   ],
   "source": [
    "x1 | x2"
   ]
  },
  {
   "cell_type": "code",
   "execution_count": null,
   "metadata": {},
   "outputs": [],
   "source": []
  },
  {
   "cell_type": "code",
   "execution_count": null,
   "metadata": {},
   "outputs": [],
   "source": []
  }
 ],
 "metadata": {
  "kernelspec": {
   "display_name": "Python 3",
   "language": "python",
   "name": "python3"
  },
  "latex_envs": {
   "LaTeX_envs_menu_present": true,
   "autoclose": false,
   "autocomplete": true,
   "bibliofile": "biblio.bib",
   "cite_by": "apalike",
   "current_citInitial": 1,
   "eqLabelWithNumbers": true,
   "eqNumInitial": 1,
   "hotkeys": {
    "equation": "Ctrl-E",
    "itemize": "Ctrl-I"
   },
   "labels_anchors": false,
   "latex_user_defs": false,
   "report_style_numbering": false,
   "user_envs_cfg": false
  },
  "toc": {
   "base_numbering": 1,
   "nav_menu": {},
   "number_sections": true,
   "sideBar": true,
   "skip_h1_title": false,
   "title_cell": "Table of Contents",
   "title_sidebar": "Contents",
   "toc_cell": false,
   "toc_position": {},
   "toc_section_display": true,
   "toc_window_display": false
  }
 },
 "nbformat": 4,
 "nbformat_minor": 2
}
