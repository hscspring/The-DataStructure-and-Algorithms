{
 "cells": [
  {
   "cell_type": "code",
   "execution_count": 148,
   "id": "24aa6f01",
   "metadata": {},
   "outputs": [],
   "source": [
    "from typing import List"
   ]
  },
  {
   "cell_type": "code",
   "execution_count": 149,
   "id": "731f9d38",
   "metadata": {},
   "outputs": [],
   "source": [
    "class Solution:\n",
    "    \n",
    "    def isBipartite(self, graph: List[List[int]]) -> bool:\n",
    "        self.res = True\n",
    "        length = len(graph)\n",
    "        visited = [False] * length\n",
    "        color = [False] * length\n",
    "\n",
    "        def traverse(graph, v):\n",
    "            if not self.res:\n",
    "                return\n",
    "            visited[v] = True\n",
    "            for nv in graph[v]:\n",
    "                if not visited[nv]:\n",
    "                    color[nv] = not color[v]\n",
    "                    traverse(graph, nv)\n",
    "                else:\n",
    "                    if color[nv] == color[v]:\n",
    "                        self.res = False\n",
    "\n",
    "        for v in range(length):\n",
    "            if not visited[v]:\n",
    "                traverse(graph, v)\n",
    "                if not self.res:\n",
    "                    return False\n",
    "        return True"
   ]
  },
  {
   "cell_type": "code",
   "execution_count": 150,
   "id": "fbb870e6",
   "metadata": {},
   "outputs": [],
   "source": [
    "so = Solution()"
   ]
  },
  {
   "cell_type": "code",
   "execution_count": 153,
   "id": "fe886b8c",
   "metadata": {},
   "outputs": [],
   "source": [
    "g1 = [[1,2],[0,2],[0,1]]\n",
    "g2 = [[1,3],[0,2],[1,3],[0,2]]"
   ]
  },
  {
   "cell_type": "code",
   "execution_count": 154,
   "id": "2876c8ce",
   "metadata": {},
   "outputs": [
    {
     "name": "stdout",
     "output_type": "stream",
     "text": [
      "False\n",
      "True\n"
     ]
    }
   ],
   "source": [
    "for g in [g1, g2]:\n",
    "    res = so.isBipartite(g)\n",
    "    print(res)"
   ]
  },
  {
   "cell_type": "code",
   "execution_count": null,
   "id": "e69f357d",
   "metadata": {},
   "outputs": [],
   "source": []
  }
 ],
 "metadata": {
  "kernelspec": {
   "display_name": "Python 3",
   "language": "python",
   "name": "python3"
  },
  "language_info": {
   "codemirror_mode": {
    "name": "ipython",
    "version": 3
   },
   "file_extension": ".py",
   "mimetype": "text/x-python",
   "name": "python",
   "nbconvert_exporter": "python",
   "pygments_lexer": "ipython3",
   "version": "3.8.13"
  },
  "latex_envs": {
   "LaTeX_envs_menu_present": true,
   "autoclose": false,
   "autocomplete": true,
   "bibliofile": "biblio.bib",
   "cite_by": "apalike",
   "current_citInitial": 1,
   "eqLabelWithNumbers": true,
   "eqNumInitial": 1,
   "hotkeys": {
    "equation": "Ctrl-E",
    "itemize": "Ctrl-I"
   },
   "labels_anchors": false,
   "latex_user_defs": false,
   "report_style_numbering": false,
   "user_envs_cfg": false
  },
  "toc": {
   "base_numbering": 1,
   "nav_menu": {},
   "number_sections": true,
   "sideBar": true,
   "skip_h1_title": false,
   "title_cell": "Table of Contents",
   "title_sidebar": "Contents",
   "toc_cell": false,
   "toc_position": {},
   "toc_section_display": true,
   "toc_window_display": false
  }
 },
 "nbformat": 4,
 "nbformat_minor": 5
}
